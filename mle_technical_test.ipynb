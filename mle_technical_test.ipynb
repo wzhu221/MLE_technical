{
 "cells": [
  {
   "cell_type": "markdown",
   "id": "fd040670",
   "metadata": {},
   "source": [
    "### Importing data and quickly examine the structure of data"
   ]
  },
  {
   "cell_type": "code",
   "execution_count": 1,
   "id": "f6d10a9c",
   "metadata": {},
   "outputs": [],
   "source": [
    "import duckdb"
   ]
  },
  {
   "cell_type": "code",
   "execution_count": 2,
   "id": "3325d20e",
   "metadata": {},
   "outputs": [],
   "source": [
    "read_bus_fin = ''' create table if not exists bus_fin as select * from read_csv('input/business-financial-data-march-2024-csv.csv') '''\n",
    "read_bus_emp = ''' create table if not exists bus_emp as select * from read_csv('input/machine-readable-business-employment-data-mar-2024-quarter.csv') '''\n",
    "\n",
    "duckdb.sql(read_bus_fin)\n",
    "duckdb.sql(read_bus_emp)"
   ]
  },
  {
   "cell_type": "markdown",
   "id": "990a82d0",
   "metadata": {},
   "source": [
    "After importing, I firstly did a `describe` statement on both datasets to have a look at their column structure and data types."
   ]
  },
  {
   "cell_type": "code",
   "execution_count": 3,
   "id": "64888dad",
   "metadata": {},
   "outputs": [
    {
     "data": {
      "text/plain": [
       "┌──────────────────┬─────────────┬─────────┬─────────┬─────────┬─────────┐\n",
       "│   column_name    │ column_type │  null   │   key   │ default │  extra  │\n",
       "│     varchar      │   varchar   │ varchar │ varchar │ varchar │ varchar │\n",
       "├──────────────────┼─────────────┼─────────┼─────────┼─────────┼─────────┤\n",
       "│ Series_reference │ VARCHAR     │ YES     │ NULL    │ NULL    │ NULL    │\n",
       "│ Period           │ DOUBLE      │ YES     │ NULL    │ NULL    │ NULL    │\n",
       "│ Data_value       │ DOUBLE      │ YES     │ NULL    │ NULL    │ NULL    │\n",
       "│ Suppressed       │ VARCHAR     │ YES     │ NULL    │ NULL    │ NULL    │\n",
       "│ STATUS           │ VARCHAR     │ YES     │ NULL    │ NULL    │ NULL    │\n",
       "│ UNITS            │ VARCHAR     │ YES     │ NULL    │ NULL    │ NULL    │\n",
       "│ Magnitude        │ BIGINT      │ YES     │ NULL    │ NULL    │ NULL    │\n",
       "│ Subject          │ VARCHAR     │ YES     │ NULL    │ NULL    │ NULL    │\n",
       "│ Group            │ VARCHAR     │ YES     │ NULL    │ NULL    │ NULL    │\n",
       "│ Series_title_1   │ VARCHAR     │ YES     │ NULL    │ NULL    │ NULL    │\n",
       "│ Series_title_2   │ VARCHAR     │ YES     │ NULL    │ NULL    │ NULL    │\n",
       "│ Series_title_3   │ VARCHAR     │ YES     │ NULL    │ NULL    │ NULL    │\n",
       "│ Series_title_4   │ VARCHAR     │ YES     │ NULL    │ NULL    │ NULL    │\n",
       "│ Series_title_5   │ VARCHAR     │ YES     │ NULL    │ NULL    │ NULL    │\n",
       "├──────────────────┴─────────────┴─────────┴─────────┴─────────┴─────────┤\n",
       "│ 14 rows                                                      6 columns │\n",
       "└────────────────────────────────────────────────────────────────────────┘"
      ]
     },
     "execution_count": 3,
     "metadata": {},
     "output_type": "execute_result"
    }
   ],
   "source": [
    "duckdb.sql('describe bus_fin')"
   ]
  },
  {
   "cell_type": "code",
   "execution_count": 4,
   "id": "32f81ae6",
   "metadata": {},
   "outputs": [
    {
     "data": {
      "text/plain": [
       "┌──────────────────┬─────────────┬─────────┬─────────┬─────────┬─────────┐\n",
       "│   column_name    │ column_type │  null   │   key   │ default │  extra  │\n",
       "│     varchar      │   varchar   │ varchar │ varchar │ varchar │ varchar │\n",
       "├──────────────────┼─────────────┼─────────┼─────────┼─────────┼─────────┤\n",
       "│ Series_reference │ VARCHAR     │ YES     │ NULL    │ NULL    │ NULL    │\n",
       "│ Period           │ DOUBLE      │ YES     │ NULL    │ NULL    │ NULL    │\n",
       "│ Data_value       │ DOUBLE      │ YES     │ NULL    │ NULL    │ NULL    │\n",
       "│ Suppressed       │ VARCHAR     │ YES     │ NULL    │ NULL    │ NULL    │\n",
       "│ STATUS           │ VARCHAR     │ YES     │ NULL    │ NULL    │ NULL    │\n",
       "│ UNITS            │ VARCHAR     │ YES     │ NULL    │ NULL    │ NULL    │\n",
       "│ Magnitude        │ BIGINT      │ YES     │ NULL    │ NULL    │ NULL    │\n",
       "│ Subject          │ VARCHAR     │ YES     │ NULL    │ NULL    │ NULL    │\n",
       "│ Group            │ VARCHAR     │ YES     │ NULL    │ NULL    │ NULL    │\n",
       "│ Series_title_1   │ VARCHAR     │ YES     │ NULL    │ NULL    │ NULL    │\n",
       "│ Series_title_2   │ VARCHAR     │ YES     │ NULL    │ NULL    │ NULL    │\n",
       "│ Series_title_3   │ VARCHAR     │ YES     │ NULL    │ NULL    │ NULL    │\n",
       "│ Series_title_4   │ VARCHAR     │ YES     │ NULL    │ NULL    │ NULL    │\n",
       "│ Series_title_5   │ VARCHAR     │ YES     │ NULL    │ NULL    │ NULL    │\n",
       "├──────────────────┴─────────────┴─────────┴─────────┴─────────┴─────────┤\n",
       "│ 14 rows                                                      6 columns │\n",
       "└────────────────────────────────────────────────────────────────────────┘"
      ]
     },
     "execution_count": 4,
     "metadata": {},
     "output_type": "execute_result"
    }
   ],
   "source": [
    "duckdb.sql('describe bus_emp')"
   ]
  },
  {
   "cell_type": "markdown",
   "id": "1565e2dd",
   "metadata": {},
   "source": [
    "The immediate issues I spotted with the raw imports are that:\n",
    "- column name cases are all over the place - some in sentence case, some others in all caps\n",
    "- some column names are using common reserved keywords such as `status` and `group`\n",
    "\n",
    "Therefore, I built a quick cleaning tool to get rid of those wrinkles and give me a better starting point for query writing."
   ]
  },
  {
   "cell_type": "code",
   "execution_count": 5,
   "id": "d325f16e",
   "metadata": {},
   "outputs": [
    {
     "name": "stdout",
     "output_type": "stream",
     "text": [
      "bus_fin.Series_reference is renamed to bus_fin.series_reference\n",
      "bus_fin.Period is renamed to bus_fin.period_col\n",
      "bus_fin.Data_value is renamed to bus_fin.data_value\n",
      "bus_fin.Suppressed is renamed to bus_fin.suppressed\n",
      "bus_fin.STATUS is renamed to bus_fin.status_col\n",
      "bus_fin.UNITS is renamed to bus_fin.units_col\n",
      "bus_fin.Magnitude is renamed to bus_fin.magnitude\n",
      "bus_fin.Subject is renamed to bus_fin.subject_col\n",
      "bus_fin.Group is renamed to bus_fin.group_col\n",
      "bus_fin.Series_title_1 is renamed to bus_fin.series_title_1\n",
      "bus_fin.Series_title_2 is renamed to bus_fin.series_title_2\n",
      "bus_fin.Series_title_3 is renamed to bus_fin.series_title_3\n",
      "bus_fin.Series_title_4 is renamed to bus_fin.series_title_4\n",
      "bus_fin.Series_title_5 is renamed to bus_fin.series_title_5\n",
      "bus_emp.Series_reference is renamed to bus_emp.series_reference\n",
      "bus_emp.Period is renamed to bus_emp.period_col\n",
      "bus_emp.Data_value is renamed to bus_emp.data_value\n",
      "bus_emp.Suppressed is renamed to bus_emp.suppressed\n",
      "bus_emp.STATUS is renamed to bus_emp.status_col\n",
      "bus_emp.UNITS is renamed to bus_emp.units_col\n",
      "bus_emp.Magnitude is renamed to bus_emp.magnitude\n",
      "bus_emp.Subject is renamed to bus_emp.subject_col\n",
      "bus_emp.Group is renamed to bus_emp.group_col\n",
      "bus_emp.Series_title_1 is renamed to bus_emp.series_title_1\n",
      "bus_emp.Series_title_2 is renamed to bus_emp.series_title_2\n",
      "bus_emp.Series_title_3 is renamed to bus_emp.series_title_3\n",
      "bus_emp.Series_title_4 is renamed to bus_emp.series_title_4\n",
      "bus_emp.Series_title_5 is renamed to bus_emp.series_title_5\n"
     ]
    }
   ],
   "source": [
    "import re\n",
    "tables = ['bus_fin', 'bus_emp']\n",
    "kw_replace_list = ['period', 'status', 'units', 'group', 'subject']\n",
    "\n",
    "def clean_input(tables: list, kw_replace_list: list):\n",
    "    for table in tables:\n",
    "        rel = duckdb.sql(f'select * from {table}')\n",
    "        for col in rel.columns:\n",
    "            if re.search(r'[A-Z]', col):\n",
    "                new_col = col.lower()\n",
    "                duckdb.sql(f'alter table {table} rename \"{col}\" to \"{new_col}\"')\n",
    "            if col.lower() in kw_replace_list:\n",
    "                new_col = f'{new_col}_col'\n",
    "                duckdb.sql(f'alter table {table} rename \"{col}\" to \"{new_col}\"')\n",
    "            print(f'{table}.{col} is renamed to {table}.{new_col}')\n",
    "\n",
    "clean_input(tables=tables, kw_replace_list=kw_replace_list)"
   ]
  },
  {
   "cell_type": "code",
   "execution_count": 6,
   "id": "6d6c6eae",
   "metadata": {},
   "outputs": [
    {
     "data": {
      "text/plain": [
       "┌──────────────────┬─────────────┬─────────┬─────────┬─────────┬─────────┐\n",
       "│   column_name    │ column_type │  null   │   key   │ default │  extra  │\n",
       "│     varchar      │   varchar   │ varchar │ varchar │ varchar │ varchar │\n",
       "├──────────────────┼─────────────┼─────────┼─────────┼─────────┼─────────┤\n",
       "│ series_reference │ VARCHAR     │ YES     │ NULL    │ NULL    │ NULL    │\n",
       "│ period_col       │ DOUBLE      │ YES     │ NULL    │ NULL    │ NULL    │\n",
       "│ data_value       │ DOUBLE      │ YES     │ NULL    │ NULL    │ NULL    │\n",
       "│ suppressed       │ VARCHAR     │ YES     │ NULL    │ NULL    │ NULL    │\n",
       "│ status_col       │ VARCHAR     │ YES     │ NULL    │ NULL    │ NULL    │\n",
       "│ units_col        │ VARCHAR     │ YES     │ NULL    │ NULL    │ NULL    │\n",
       "│ magnitude        │ BIGINT      │ YES     │ NULL    │ NULL    │ NULL    │\n",
       "│ subject_col      │ VARCHAR     │ YES     │ NULL    │ NULL    │ NULL    │\n",
       "│ group_col        │ VARCHAR     │ YES     │ NULL    │ NULL    │ NULL    │\n",
       "│ series_title_1   │ VARCHAR     │ YES     │ NULL    │ NULL    │ NULL    │\n",
       "│ series_title_2   │ VARCHAR     │ YES     │ NULL    │ NULL    │ NULL    │\n",
       "│ series_title_3   │ VARCHAR     │ YES     │ NULL    │ NULL    │ NULL    │\n",
       "│ series_title_4   │ VARCHAR     │ YES     │ NULL    │ NULL    │ NULL    │\n",
       "│ series_title_5   │ VARCHAR     │ YES     │ NULL    │ NULL    │ NULL    │\n",
       "├──────────────────┴─────────────┴─────────┴─────────┴─────────┴─────────┤\n",
       "│ 14 rows                                                      6 columns │\n",
       "└────────────────────────────────────────────────────────────────────────┘"
      ]
     },
     "execution_count": 6,
     "metadata": {},
     "output_type": "execute_result"
    }
   ],
   "source": [
    "duckdb.sql('describe bus_fin')"
   ]
  },
  {
   "cell_type": "code",
   "execution_count": 7,
   "id": "1de14e17",
   "metadata": {},
   "outputs": [
    {
     "data": {
      "text/plain": [
       "┌──────────────────┬─────────────┬─────────┬─────────┬─────────┬─────────┐\n",
       "│   column_name    │ column_type │  null   │   key   │ default │  extra  │\n",
       "│     varchar      │   varchar   │ varchar │ varchar │ varchar │ varchar │\n",
       "├──────────────────┼─────────────┼─────────┼─────────┼─────────┼─────────┤\n",
       "│ series_reference │ VARCHAR     │ YES     │ NULL    │ NULL    │ NULL    │\n",
       "│ period_col       │ DOUBLE      │ YES     │ NULL    │ NULL    │ NULL    │\n",
       "│ data_value       │ DOUBLE      │ YES     │ NULL    │ NULL    │ NULL    │\n",
       "│ suppressed       │ VARCHAR     │ YES     │ NULL    │ NULL    │ NULL    │\n",
       "│ status_col       │ VARCHAR     │ YES     │ NULL    │ NULL    │ NULL    │\n",
       "│ units_col        │ VARCHAR     │ YES     │ NULL    │ NULL    │ NULL    │\n",
       "│ magnitude        │ BIGINT      │ YES     │ NULL    │ NULL    │ NULL    │\n",
       "│ subject_col      │ VARCHAR     │ YES     │ NULL    │ NULL    │ NULL    │\n",
       "│ group_col        │ VARCHAR     │ YES     │ NULL    │ NULL    │ NULL    │\n",
       "│ series_title_1   │ VARCHAR     │ YES     │ NULL    │ NULL    │ NULL    │\n",
       "│ series_title_2   │ VARCHAR     │ YES     │ NULL    │ NULL    │ NULL    │\n",
       "│ series_title_3   │ VARCHAR     │ YES     │ NULL    │ NULL    │ NULL    │\n",
       "│ series_title_4   │ VARCHAR     │ YES     │ NULL    │ NULL    │ NULL    │\n",
       "│ series_title_5   │ VARCHAR     │ YES     │ NULL    │ NULL    │ NULL    │\n",
       "├──────────────────┴─────────────┴─────────┴─────────┴─────────┴─────────┤\n",
       "│ 14 rows                                                      6 columns │\n",
       "└────────────────────────────────────────────────────────────────────────┘"
      ]
     },
     "execution_count": 7,
     "metadata": {},
     "output_type": "execute_result"
    }
   ],
   "source": [
    "duckdb.sql('describe bus_emp')"
   ]
  },
  {
   "cell_type": "code",
   "execution_count": 8,
   "id": "b5fd38ab",
   "metadata": {},
   "outputs": [
    {
     "name": "stdout",
     "output_type": "stream",
     "text": [
      "┌──────────────────┬────────────┬────────────┬────────────┬────────────┬───────────┬───────────┬────────────────────────────────┬─────────────────────────────────────────────────┬─────────────────────────────────────┬─────────────────────────────────────────────────┬────────────────┬────────────────┬────────────────┐\n",
      "│ series_reference │ period_col │ data_value │ suppressed │ status_col │ units_col │ magnitude │          subject_col           │                    group_col                    │           series_title_1            │                 series_title_2                  │ series_title_3 │ series_title_4 │ series_title_5 │\n",
      "│     varchar      │   double   │   double   │  varchar   │  varchar   │  varchar  │   int64   │            varchar             │                     varchar                     │               varchar               │                     varchar                     │    varchar     │    varchar     │    varchar     │\n",
      "├──────────────────┼────────────┼────────────┼────────────┼────────────┼───────────┼───────────┼────────────────────────────────┼─────────────────────────────────────────────────┼─────────────────────────────────────┼─────────────────────────────────────────────────┼────────────────┼────────────────┼────────────────┤\n",
      "│ BDCQ.SF1AA2CA    │    2024.03 │   1483.787 │ NULL       │ F          │ Dollars   │         6 │ Business Data Collection - BDC │ Industry by financial variable (NZSIOC Level 2) │ Sales (operating income)            │ Forestry and Logging                            │ Current prices │ Unadjusted     │ NULL           │\n",
      "│ BDCQ.SF1LLCT     │    2019.12 │   8088.044 │ NULL       │ R          │ Dollars   │         6 │ Business Data Collection - BDC │ Industry by financial variable (NZSIOC Level 1) │ Sales (operating income)            │ Rental, Hiring and Real Estate Services         │ Current        │ Trend          │ NULL           │\n",
      "│ BDCQ.SF2AACA     │    2024.03 │   2439.576 │ NULL       │ F          │ Dollars   │         6 │ Business Data Collection - BDC │ Industry by financial variable (NZSIOC Level 1) │ Purchases and operating expenditure │ Agriculture, Forestry and Fishing               │ Current        │ Unadjusted     │ NULL           │\n",
      "│ BDCQ.SF3MN1CA    │    2016.12 │   2841.521 │ NULL       │ F          │ Dollars   │         6 │ Business Data Collection - BDC │ Industry by financial variable (NZSIOC Level 2) │ Salaries and wages                  │ Professional, Scientific and Technical Services │ Current prices │ Unadjusted     │ NULL           │\n",
      "│ BDCQ.SF2EECA     │    2022.06 │  16875.039 │ NULL       │ F          │ Dollars   │         6 │ Business Data Collection - BDC │ Industry by financial variable (NZSIOC Level 1) │ Purchases and operating expenditure │ Construction                                    │ Current        │ Unadjusted     │ NULL           │\n",
      "│ BDCQ.SF1DD1CT    │    2019.09 │     5396.1 │ NULL       │ R          │ Dollars   │         6 │ Business Data Collection - BDC │ Industry by financial variable (NZSIOC Level 2) │ Sales (operating income)            │ Electricity, Gas, Water and Waste Services      │ Current prices │ Trend          │ NULL           │\n",
      "│ BDCQ.SF3QQCA     │    2021.03 │   1589.705 │ NULL       │ F          │ Dollars   │         6 │ Business Data Collection - BDC │ Industry by financial variable (NZSIOC Level 1) │ Salaries and wages                  │ Health Care and Social Assistance               │ Current        │ Unadjusted     │ NULL           │\n",
      "│ BDCQ.SF3DDCA     │    2022.12 │    543.196 │ NULL       │ F          │ Dollars   │         6 │ Business Data Collection - BDC │ Industry by financial variable (NZSIOC Level 1) │ Salaries and wages                  │ Electricity, Gas, Water and Waste Services      │ Current        │ Unadjusted     │ NULL           │\n",
      "│ BDCQ.SF3FF1CA    │    2017.09 │   1774.633 │ NULL       │ F          │ Dollars   │         6 │ Business Data Collection - BDC │ Industry by financial variable (NZSIOC Level 2) │ Salaries and wages                  │ Wholesale Trade                                 │ Current prices │ Unadjusted     │ NULL           │\n",
      "│ BDCQ.SF1BB1CA    │    2022.03 │   1244.801 │ NULL       │ F          │ Dollars   │         6 │ Business Data Collection - BDC │ Industry by financial variable (NZSIOC Level 2) │ Sales (operating income)            │ Mining                                          │ Current prices │ Unadjusted     │ NULL           │\n",
      "├──────────────────┴────────────┴────────────┴────────────┴────────────┴───────────┴───────────┴────────────────────────────────┴─────────────────────────────────────────────────┴─────────────────────────────────────┴─────────────────────────────────────────────────┴────────────────┴────────────────┴────────────────┤\n",
      "│ 10 rows                                                                                                                                                                                                                                                                                                         14 columns │\n",
      "└────────────────────────────────────────────────────────────────────────────────────────────────────────────────────────────────────────────────────────────────────────────────────────────────────────────────────────────────────────────────────────────────────────────────────────────────────────────────────────────┘\n",
      "\n"
     ]
    }
   ],
   "source": [
    "duckdb.sql('select * from bus_fin order by random() limit 10').show()"
   ]
  },
  {
   "cell_type": "code",
   "execution_count": 9,
   "id": "bb7109bd",
   "metadata": {},
   "outputs": [
    {
     "name": "stdout",
     "output_type": "stream",
     "text": [
      "┌──────────────────┬────────────┬─────────────┬────────────┬────────────┬───────────┬───────────┬────────────────────────────────┬──────────────────────────────────────────────┬────────────────────────────────────────┬──────────────────────────────────┬────────────────┬────────────────┬────────────────┐\n",
      "│ series_reference │ period_col │ data_value  │ suppressed │ status_col │ units_col │ magnitude │          subject_col           │                  group_col                   │             series_title_1             │          series_title_2          │ series_title_3 │ series_title_4 │ series_title_5 │\n",
      "│     varchar      │   double   │   double    │  varchar   │  varchar   │  varchar  │   int64   │            varchar             │                   varchar                    │                varchar                 │             varchar              │    varchar     │    varchar     │    varchar     │\n",
      "├──────────────────┼────────────┼─────────────┼────────────┼────────────┼───────────┼───────────┼────────────────────────────────┼──────────────────────────────────────────────┼────────────────────────────────────────┼──────────────────────────────────┼────────────────┼────────────────┼────────────────┤\n",
      "│ BDCQ.SEE3051A    │    2019.06 │     19831.0 │ NULL       │ F          │ Number    │         0 │ Business Data Collection - BDC │ Territorial authority by employment variable │ Filled jobs (workplace location based) │ Tasman District                  │ Actual         │ NULL           │ NULL           │\n",
      "│ BDCQ.SEA1EA      │    2018.09 │    150157.0 │ NULL       │ F          │ Number    │         0 │ Business Data Collection - BDC │ Industry by employment variable              │ Filled jobs                            │ Construction                     │ Actual         │ NULL           │ NULL           │\n",
      "│ BDCQ.SED1RNA     │    2017.06 │    269684.0 │ NULL       │ F          │ Number    │         0 │ Business Data Collection - BDC │ Region by employment variable                │ Filled jobs                            │ Canterbury                       │ Actual         │ NULL           │ NULL           │\n",
      "│ BDCQ.SEE1075A    │    2018.03 │     26736.0 │ NULL       │ F          │ Number    │         0 │ Business Data Collection - BDC │ Territorial authority by employment variable │ Filled jobs                            │ Invercargill City                │ Actual         │ NULL           │ NULL           │\n",
      "│ BDCQ.SEE1050A    │    2017.03 │      4181.0 │ NULL       │ F          │ Number    │         0 │ Business Data Collection - BDC │ Territorial authority by employment variable │ Filled jobs                            │ South Wairarapa District         │ Actual         │ NULL           │ NULL           │\n",
      "│ BDCQ.SEE1020A    │    2023.06 │      3868.0 │ NULL       │ F          │ Number    │         0 │ Business Data Collection - BDC │ Territorial authority by employment variable │ Filled jobs                            │ Waitomo District                 │ Actual         │ NULL           │ NULL           │\n",
      "│ BDCQ.SEC2AJA     │    2018.03 │ 1915.744027 │ NULL       │ F          │ Value     │         6 │ Business Data Collection - BDC │ Age by employment variable                   │ Total earnings                         │ 60-64                            │ Actual         │ NULL           │ NULL           │\n",
      "│ BDCQ.SED2RBT     │    2015.09 │        NULL │ Y          │ C          │ Value     │         6 │ Business Data Collection - BDC │ Region by employment variable                │ Total earnings                         │ Auckland                         │ Trend          │ NULL           │ NULL           │\n",
      "│ BDCQ.SED3RAA     │    2014.12 │     50629.0 │ NULL       │ F          │ Number    │         0 │ Business Data Collection - BDC │ Region by employment variable                │ Filled jobs (workplace location based) │ Northland                        │ Actual         │ NULL           │ NULL           │\n",
      "│ BDCQ.SEA2OA      │    2019.03 │ 2449.771786 │ NULL       │ F          │ Value     │         6 │ Business Data Collection - BDC │ Industry by employment variable              │ Total earnings                         │ Public Administration and Safety │ Actual         │ NULL           │ NULL           │\n",
      "├──────────────────┴────────────┴─────────────┴────────────┴────────────┴───────────┴───────────┴────────────────────────────────┴──────────────────────────────────────────────┴────────────────────────────────────────┴──────────────────────────────────┴────────────────┴────────────────┴────────────────┤\n",
      "│ 10 rows                                                                                                                                                                                                                                                                                           14 columns │\n",
      "└──────────────────────────────────────────────────────────────────────────────────────────────────────────────────────────────────────────────────────────────────────────────────────────────────────────────────────────────────────────────────────────────────────────────────────────────────────────────┘\n",
      "\n"
     ]
    }
   ],
   "source": [
    "duckdb.sql('select * from bus_emp order by random() limit 10').show()"
   ]
  },
  {
   "cell_type": "markdown",
   "id": "6db9b308",
   "metadata": {},
   "source": [
    "Now I can see column names are smartly named with no clashing with reserved keywords."
   ]
  },
  {
   "cell_type": "markdown",
   "id": "d2010e48",
   "metadata": {},
   "source": [
    "Since the data was imported via CSV files, there exists no column / table comments. Hence I'm missing some context with the data here. \n",
    "\n",
    "But, given the data is obtained from Stats NZ and hence publicly available, I went on to their website to see if they have a place detailing what the data is about.\n",
    "\n",
    "Stats NZ does have two pages for the [business financial](https://www.stats.govt.nz/information-releases/business-financial-data-march-2024-quarter/) and [business employment](https://www.stats.govt.nz/information-releases/business-employment-data-march-2024-quarter/) data.\n",
    "\n",
    "By inspecting the sample rows from both tables and the web info, it seems that the following columns are important in subsequent analytics:\n",
    "- `period_col`: valid time period for the data (quaterly)\n",
    "- `data_value`: the value defined by subsequent conditions\n",
    "- `group_col`: type of relationship as characterised by the combination of filters series_title_1, series_title_2, etc.\n",
    "- `series_title_1`, `series_title_2` ... : filters that collectively define `data_value`"
   ]
  },
  {
   "cell_type": "markdown",
   "id": "08fd6c38",
   "metadata": {},
   "source": [
    "### Question 1\n",
    "Of the industries where salaries and wages data did NOT exist in 2016 and only appeared later, \n",
    "which industry had the highest average value for actual filled jobs across time and what was that value?"
   ]
  },
  {
   "cell_type": "code",
   "execution_count": 10,
   "id": "e20f38ca",
   "metadata": {},
   "outputs": [
    {
     "data": {
      "text/plain": [
       "┌──────────────┬────────────────────────┐\n",
       "│   industy    │ avg_actual_filled_jobs │\n",
       "│   varchar    │         double         │\n",
       "├──────────────┼────────────────────────┤\n",
       "│ Retail Trade │               194053.7 │\n",
       "└──────────────┴────────────────────────┘"
      ]
     },
     "execution_count": 10,
     "metadata": {},
     "output_type": "execute_result"
    }
   ],
   "source": [
    "query_1 = '''\n",
    "    select \n",
    "        series_title_2 as industy\n",
    "        , round(avg(data_value), 1) as avg_actual_filled_jobs -- limit decimal places\n",
    "    from bus_emp be\n",
    "    inner join (\n",
    "        select series_title_2 as industry \n",
    "        from bus_fin\n",
    "        -- using lower() and trim() on series_title columns to prudently remove unwanted whitespaces and enable caseless comparison\n",
    "        where lower(trim(series_title_1)) = 'salaries and wages'\n",
    "        group by 1 \n",
    "        having min(period_col) >= 2017 -- salaries and wages data appearing no earlier than 2017\n",
    "    ) x\n",
    "        on lower(trim(be.series_title_2)) = lower(trim(x.industry))\n",
    "    where lower(trim(series_title_1)) = 'filled jobs'\n",
    "        and lower(trim(series_title_3)) = 'actual'\n",
    "    group by 1 \n",
    "    order by 2 desc limit 1 -- picking the top 1 row with highest avg_actual_filled_jobs\n",
    "'''\n",
    "\n",
    "duckdb.sql(query=query_1)"
   ]
  },
  {
   "cell_type": "markdown",
   "id": "c3839a98",
   "metadata": {},
   "source": [
    "Answer: **\"Retail Trade\"** had the highest average value for actual filled jobs across time. The value is **194053.7** (rounded to one decimal place)"
   ]
  },
  {
   "cell_type": "markdown",
   "id": "587a5587",
   "metadata": {},
   "source": [
    "### Question 2\n",
    "Provide the answer and write a DuckDB SQL query to show \n",
    "which year/month combination and industry \n",
    "had the second highest seasonally adjusted operating income sales \n",
    "across all the business industries in New Zealand that are categorised as NZSIOC level 2."
   ]
  },
  {
   "cell_type": "code",
   "execution_count": 11,
   "id": "2c3bebf5",
   "metadata": {},
   "outputs": [
    {
     "data": {
      "text/plain": [
       "┌───────────┬─────────────────┬───────────┐\n",
       "│ yearmonth │    industry     │ sum_sales │\n",
       "│  double   │     varchar     │  double   │\n",
       "├───────────┼─────────────────┼───────────┤\n",
       "│   2023.03 │ Wholesale Trade │ 38810.022 │\n",
       "└───────────┴─────────────────┴───────────┘"
      ]
     },
     "execution_count": 11,
     "metadata": {},
     "output_type": "execute_result"
    }
   ],
   "source": [
    "query_2 = '''\n",
    "with summing_sales as (\n",
    "    select \n",
    "        period_col as yearmonth\n",
    "        , series_title_2 as industry\n",
    "        , coalesce(sum(data_value), 0) as sum_sales -- null means data unavailable, hence coercing to zero\n",
    "    from bus_fin\n",
    "    where lower(trim(group_col)) = 'industry by financial variable (nzsioc level 2)'\n",
    "        and lower(trim(series_title_1)) = 'sales (operating income)'\n",
    "        and lower(trim(series_title_4)) = 'seasonally adjusted'\n",
    "    group by 1, 2\n",
    ")\n",
    ", final as (\n",
    "    select yearmonth, industry, sum_sales \n",
    "    from (\n",
    "        select *, dense_rank() over(order by sum_sales desc) as rnk -- dense rank to ensure rnk = 2 is always available in case of tied sales sum\n",
    "        from summing_sales\n",
    "    ) x \n",
    "    where rnk = 2\n",
    ")\n",
    "select * from final\n",
    "'''\n",
    "\n",
    "duckdb.sql(query=query_2)"
   ]
  },
  {
   "cell_type": "markdown",
   "id": "e3466926",
   "metadata": {},
   "source": [
    "Answer: **\"Wholesale Trade\"** in **March 2023** had the second highest seasonally adjusted operating income sales across all the business industries in New Zealand that are categorised as NZSIOC level 2"
   ]
  },
  {
   "cell_type": "markdown",
   "id": "6d1b4a3f",
   "metadata": {
    "vscode": {
     "languageId": "bat"
    }
   },
   "source": [
    "### Question 3\n",
    "Create a DuckDB SQL query to calculate the quarterly cumulative number of \n",
    "filled jobs over time for the territorial authority \n",
    "with the highest average value of filled jobs across time. \n",
    "\n",
    "You may not use window functions in your query."
   ]
  },
  {
   "cell_type": "code",
   "execution_count": 12,
   "id": "76b5f6a1",
   "metadata": {},
   "outputs": [
    {
     "name": "stdout",
     "output_type": "stream",
     "text": [
      "┌────────────┬───────────────────────────────┐\n",
      "│ period_col │ rolling_sum_total_filled_jobs │\n",
      "│   double   │            double             │\n",
      "├────────────┼───────────────────────────────┤\n",
      "│    2011.06 │                      558627.0 │\n",
      "│    2011.09 │                     1124066.0 │\n",
      "│    2011.12 │                     1697795.0 │\n",
      "│    2012.03 │                     2258168.0 │\n",
      "│    2012.06 │                     2831106.0 │\n",
      "│    2012.09 │                     3401783.0 │\n",
      "│    2012.12 │                     3981507.0 │\n",
      "│    2013.03 │                     4556314.0 │\n",
      "│    2013.06 │                     5145225.0 │\n",
      "│    2013.09 │                     5731581.0 │\n",
      "│    2013.12 │                     6330161.0 │\n",
      "│    2014.03 │                     6922160.0 │\n",
      "│    2014.06 │                     7526621.0 │\n",
      "│    2014.09 │                     8132406.0 │\n",
      "│    2014.12 │                     8752492.0 │\n",
      "│    2015.03 │                     9367389.0 │\n",
      "│    2015.06 │                     9997399.0 │\n",
      "│    2015.09 │                    10626104.0 │\n",
      "│    2015.12 │                    11270280.0 │\n",
      "│    2016.03 │                    11909214.0 │\n",
      "│    2016.06 │                    12563929.0 │\n",
      "│    2016.09 │                    13219310.0 │\n",
      "│    2016.12 │                    13890926.0 │\n",
      "│    2017.03 │                    14557170.0 │\n",
      "│    2017.06 │                    15241101.0 │\n",
      "│    2017.09 │                    15922806.0 │\n",
      "│    2017.12 │                    16618464.0 │\n",
      "│    2018.03 │                    17316219.0 │\n",
      "│    2018.06 │                    18013628.0 │\n",
      "│    2018.09 │                    18705412.0 │\n",
      "│    2018.12 │                    19413967.0 │\n",
      "│    2019.03 │                    20117168.0 │\n",
      "│    2019.06 │                    20829142.0 │\n",
      "│    2019.09 │                    21539945.0 │\n",
      "│    2019.12 │                    22268793.0 │\n",
      "│    2020.03 │                    22990824.0 │\n",
      "│    2020.06 │                    23712077.0 │\n",
      "│    2020.09 │                    24426583.0 │\n",
      "│    2020.12 │                    25148075.0 │\n",
      "│    2021.03 │                    25863846.0 │\n",
      "│    2021.06 │                    26593592.0 │\n",
      "│    2021.09 │                    27327830.0 │\n",
      "│    2021.12 │                    28076457.0 │\n",
      "│    2022.03 │                    28818348.0 │\n",
      "│    2022.06 │                    29565489.0 │\n",
      "│    2022.09 │                    30314636.0 │\n",
      "│    2022.12 │                    31080627.0 │\n",
      "│    2023.03 │                    31847062.0 │\n",
      "│    2023.06 │                    32629158.0 │\n",
      "│    2023.09 │                    33411797.0 │\n",
      "│    2023.12 │                    34207477.0 │\n",
      "│    2024.03 │                    34995011.0 │\n",
      "├────────────┴───────────────────────────────┤\n",
      "│ 52 rows                          2 columns │\n",
      "└────────────────────────────────────────────┘\n",
      "\n"
     ]
    }
   ],
   "source": [
    "query_3 = f'''\n",
    "    with average_filled_jobs_ta as (\n",
    "        select \n",
    "            series_title_2 as territorial_authority\n",
    "            , coalesce(avg(data_value), 0) as average_filled_jobs\n",
    "        from bus_emp\n",
    "        where lower(trim(group_col)) = 'territorial authority by employment variable'\n",
    "            and lower(trim(series_title_1)) = 'filled jobs'\n",
    "        group by 1\n",
    "    )\n",
    "    , summing_filled_jobs as (\n",
    "        -- sum fiiled jobs for the TA with max avg value of filled jobs ('Auckland', for this dataset)\n",
    "        select \n",
    "            be.period_col\n",
    "            , sum(be.data_value) as total_filled_jobs\n",
    "        from bus_emp be\n",
    "        where be.series_title_2 = ( select territorial_authority from average_filled_jobs_ta where average_filled_jobs = ( select max(average_filled_jobs) from average_filled_jobs_ta ) )\n",
    "            and lower(trim(be.group_col)) = 'territorial authority by employment variable'\n",
    "            and lower(trim(be.series_title_1)) = 'filled jobs'\n",
    "        group by 1\n",
    "    )\n",
    "    , final as (\n",
    "        select \n",
    "            s1.period_col\n",
    "            , sum(s2.total_filled_jobs) as rolling_sum_total_filled_jobs\n",
    "        from summing_filled_jobs s1\n",
    "        inner join summing_filled_jobs s2 \n",
    "            -- self join with range-matches to match single left hand with range right hand to calculate rolling sum\n",
    "            on s1.period_col >= s2.period_col\n",
    "        group by 1 \n",
    "    )\n",
    "    select * from final \n",
    "    order by 1\n",
    "'''\n",
    "\n",
    "duckdb.sql(query=query_3).show(max_rows=100)"
   ]
  },
  {
   "cell_type": "markdown",
   "id": "e0e25740",
   "metadata": {},
   "source": [
    "#### Extra thought on Question 3\n",
    "If window functions are allowed, the `final` CTE can be simplified as \n",
    "```sql\n",
    "select \n",
    "    period_col\n",
    "    , sum(total_filled_jobs) over(order by period_col rows between unbounded preceding and current row) as rolling_sum_total_filled_jobs\n",
    "from summing_filled_jobs\n",
    "```"
   ]
  },
  {
   "cell_type": "markdown",
   "id": "18d584f8",
   "metadata": {},
   "source": [
    "### Question 4\n",
    "Assume these datasets are used in part of a pipeline where the file that arrives \n",
    "may contain unwanted duplicates, incorrect datatypes, missing dates or other data quality aberrations. \n",
    "\n",
    "What things could be done programmatically to make sure the input data is of adequate quality and improve the pipeline?"
   ]
  },
  {
   "cell_type": "markdown",
   "id": "881c1d73",
   "metadata": {},
   "source": [
    "### Answer - Q4\n",
    "In the event of data quality issues, it is important to firstly define with stakeholders what are the likely issues that occur in the data, and how the issues ought to be addressed when they do happen. \n",
    "\n",
    "For the sake of discussion, let's just use these three issues as an example:\n",
    "- unwanted duplicates\n",
    "- incorrect data types\n",
    "- missing data\n",
    "\n",
    "If duplicates are 'unwanted', then we must have already established with the stakeholders that duplicates are not to be expected in the dataset. \n",
    "\n",
    "Also, incorrect data types will prevent the database engine to append incoming data to an exisiting table target. \n",
    "\n",
    "Hence for these two types of issues, the best way to deal with them is \"quaratine, notify, and inspect\", which means the pipeline should:\n",
    "1. identify the presence of duplicated rows / columns with incorrect data types\n",
    "1. if problematic rows are found, quaratine the rows in question in a separate table for later inspection\n",
    "1. log any issues encountered, preferrably also alert the support engineer about the issue with automated email / messages\n",
    "1. once all problematic rows are isolated, the remainder of dataset can be appended to target\n",
    "1. once notified, the engineers can inspect the quarantined rows from the quarantine tables and decide how to deal with them manually, such as dropping these rows, correct data types etc..\n",
    "\n",
    "Missing data can be processed differently. If stakeholders concur, it is possible to use imputation / inference to fill those missing values where possible, such as with the `.fillna()` method in pandas df. Alternatively, we could still apply the standard 5-step procedure above to deal with missing data issues.\n",
    "\n",
    "There could be more profound issues with data such as inconsistent schema (incoming data having less / more columns than target). Checks for such issues shall be placed at the very beginning of all checks to induce early halt of pipeline for engineer's manual intervention when these issues occur, instead of wasting resources on further checks.\n",
    "\n",
    "To better illustrate the ideology above, I have put together a `quality_check_dataset()` function below to programatically implement these ideas"
   ]
  },
  {
   "cell_type": "code",
   "execution_count": 13,
   "id": "88bc122a",
   "metadata": {},
   "outputs": [],
   "source": [
    "from datetime import datetime\n",
    "import logging\n",
    "logging.basicConfig(format='%(asctime)s %(levelname)-8s %(message)s', level=logging.INFO, datefmt='%Y-%m-%d %H:%M:%S')\n",
    "l = logging.getLogger('inpection_logger')\n",
    "\n",
    "\n",
    "\n",
    "def quality_check_dataset(raw: str, load_target: str, expect_complete: list[str]):\n",
    "    '''\n",
    "    This functions validates the raw data quality in three aspects: duplicated records, missing data, incorrect data types.\n",
    "    \n",
    "    Parameters taken as follows:\n",
    "    1. `raw`: string name of the incoming raw dataset\n",
    "    2. `load_target`: string name of the target table that `raw` will be inserted to\n",
    "    3. `expect_complete`: list of string column names in `raw` where no null values are to be expected\n",
    "    '''\n",
    "\n",
    "    inpsection_tstamp = datetime.now().strftime('%Y%m%d_%H%M%S')\n",
    "\n",
    "    raw_cols = duckdb.sql(f'select * from {raw}').columns\n",
    "    target_dtypes = duckdb.sql(f'select * from {load_target}').dtypes\n",
    "    \n",
    "    try_casts = ', '.join([f'try_cast({raw_cols[i]} as {target_dtypes[i]}) as __try_cast_{raw_cols[i]}' for i in range(len(raw_cols))])\n",
    "    case_when_bad_casts = ' or '.join([f'( {raw_col} is not null and __try_cast_{raw_col} is null )' for raw_col in raw_cols])\n",
    "\n",
    "    completeness_assertion = ' or '.join([f'{i} is null' for i in expect_complete])\n",
    "    \n",
    "\n",
    "    # duplicates\n",
    "    quarantine_dups_destination = f'{raw}_dups_{inpsection_tstamp}'\n",
    "    quartine_dups = f'''\n",
    "        create table {quarantine_dups_destination} as \n",
    "            select max(__dup_rownum) as __dup_cnt, * exclude (__row_hash, __dup_rownum)\n",
    "            from (\n",
    "                select *, md5(raw_tbl::TEXT) as __row_hash, row_number() over(partition by md5(raw_tbl::TEXT) order by random()) as __dup_rownum\n",
    "                from {raw} raw_tbl\n",
    "            ) x\n",
    "            group by all\n",
    "            having max(__dup_rownum) > 1\n",
    "    '''\n",
    "    print(quartine_dups) # print out the quarantine query for demo purposes, not needed in real world\n",
    "    duckdb.sql(quartine_dups)\n",
    "    dup_cnt = duckdb.sql(f'select sum(__dup_cnt) as dup_cnt from {quarantine_dups_destination}').fetchall()[0][0]\n",
    "\n",
    "    if dup_cnt:\n",
    "        l.warning(f'Duplicated rows found, total={dup_cnt}, quarantined in {quarantine_dups_destination}')\n",
    "    else:\n",
    "        l.info('No duplicated data rows found')\n",
    "\n",
    "    reconstruct_raw = f'''\n",
    "        create or replace table {raw} as \n",
    "            select * from {raw}\n",
    "            except \n",
    "            select * exclude(__dup_cnt) from {quarantine_dups_destination}\n",
    "    '''\n",
    "    duckdb.sql(reconstruct_raw)\n",
    "    l.info(f'{raw} reconstructed, less {dup_cnt} rows due to removal of duplicated rows')\n",
    "    l.info(f'{raw} has {duckdb.table(raw).shape[0]} rows remaining\\n')\n",
    "\n",
    "    # missing_data\n",
    "    quartine_missing_data_destination = f'{raw}_missing_data_{inpsection_tstamp}'\n",
    "    quartine_missing_data = f'''\n",
    "        create table {quartine_missing_data_destination} as \n",
    "            select * from {raw} where {completeness_assertion}\n",
    "    '''\n",
    "    print(quartine_missing_data)\n",
    "    duckdb.sql(quartine_missing_data)\n",
    "    missing_data_cnt = duckdb.sql(f'select * from {quartine_missing_data_destination}').shape[0]\n",
    "    \n",
    "    if missing_data_cnt:\n",
    "        l.warning(f'Missing data rows found, total={missing_data_cnt}, quarantined in {quartine_missing_data_destination}')\n",
    "    else:\n",
    "        l.info('No missing data rows found')\n",
    "    \n",
    "\n",
    "    reconstruct_raw = f'''\n",
    "        create or replace table {raw} as \n",
    "            select * from {raw}\n",
    "            except all\n",
    "            select * from {quartine_missing_data_destination}\n",
    "   '''\n",
    "    duckdb.sql(reconstruct_raw)\n",
    "    l.info(f'{raw} reconstructed, less {missing_data_cnt} rows due to removal of rows with missing data')\n",
    "    l.info(f'{raw} has {duckdb.table(raw).shape[0]} rows remaining\\n')\n",
    "\n",
    "\n",
    "    # datatypes\n",
    "    quartine_bad_dtypes_destination = f'{raw}_bad_dtypes_{inpsection_tstamp}'\n",
    "    quartine_bad_dtypes = f'''\n",
    "        create table {quartine_bad_dtypes_destination} as\n",
    "            select columns('^[^_][^_].+') from (\n",
    "                select *, case when {case_when_bad_casts} then 1 else 0 end as __has_bad_dtype\n",
    "                from ( \n",
    "                    select *, {try_casts} from {raw}\n",
    "                ) x\n",
    "            ) x\n",
    "            where __has_bad_dtype = 1\n",
    "    '''\n",
    "    print(quartine_bad_dtypes)\n",
    "    duckdb.sql(quartine_bad_dtypes)\n",
    "    bad_dtypes_cnt = duckdb.sql(f'select * from {quartine_bad_dtypes_destination}').shape[0]\n",
    "\n",
    "    if bad_dtypes_cnt:\n",
    "        l.warning(f'Rows where bad data types exist found, total={bad_dtypes_cnt}, quarantined in {quartine_bad_dtypes_destination}')\n",
    "    else:\n",
    "        l.info('No rows where bad data types exist found')\n",
    "\n",
    "    reconstruct_raw = f'''\n",
    "        create or replace table {raw} as \n",
    "            select * from {raw}\n",
    "            except all\n",
    "            select * from {quartine_bad_dtypes_destination}\n",
    "    '''\n",
    "    duckdb.sql(reconstruct_raw)\n",
    "    l.info(f'{raw} reconstructed, less {bad_dtypes_cnt} rows due to removal of rows with bad data types')\n",
    "    l.info(f'{raw} has {duckdb.table(raw).shape[0]} rows remaining\\n')\n",
    "\n",
    "    l.info(f'Now performing insert into {load_target}')\n",
    "    duckdb.sql(f'insert into {load_target} select * from {raw}')\n",
    "    l.info(f'{load_target} updated with {duckdb.table(raw).shape[0]} rows')\n",
    "    l.info(f'{load_target} now has {duckdb.table(load_target).shape[0]} rows')\n",
    "\n"
   ]
  },
  {
   "cell_type": "markdown",
   "id": "16726870",
   "metadata": {},
   "source": [
    "I have also prepared a simple `test_raw` and `test_target` tables for the purpose of demo.\n",
    "\n",
    "The `test_raw` table has 3 columns and 5 rows. Both `c1_int` and `c3_tstamp` are expected to have no null values. Correct data types are in their column names.\n",
    "\n",
    "The `quality_check_dataset` correctly identified that there are 2 rows that are duplicates (row 1, 2), 1 row with missing data (row 3), and 1 row with incorrect data types (row 4).\n",
    "\n",
    "The remaining 1 row is then correctly inserted to `test_target`.\n",
    "\n",
    "Sufficient logging is provided for engineer's later inspection."
   ]
  },
  {
   "cell_type": "code",
   "execution_count": 14,
   "id": "146c8e31",
   "metadata": {},
   "outputs": [
    {
     "name": "stderr",
     "output_type": "stream",
     "text": [
      "2025-06-15 12:04:43 WARNING  Duplicated rows found, total=2, quarantined in test_raw_dups_20250615_120443\n",
      "2025-06-15 12:04:43 INFO     test_raw reconstructed, less 2 rows due to removal of duplicated rows\n",
      "2025-06-15 12:04:43 INFO     test_raw has 3 rows remaining\n",
      "\n",
      "2025-06-15 12:04:43 WARNING  Missing data rows found, total=1, quarantined in test_raw_missing_data_20250615_120443\n",
      "2025-06-15 12:04:43 INFO     test_raw reconstructed, less 1 rows due to removal of rows with missing data\n",
      "2025-06-15 12:04:43 INFO     test_raw has 2 rows remaining\n",
      "\n",
      "2025-06-15 12:04:43 WARNING  Rows where bad data types exist found, total=1, quarantined in test_raw_bad_dtypes_20250615_120443\n",
      "2025-06-15 12:04:43 INFO     test_raw reconstructed, less 1 rows due to removal of rows with bad data types\n",
      "2025-06-15 12:04:43 INFO     test_raw has 1 rows remaining\n",
      "\n",
      "2025-06-15 12:04:43 INFO     Now performing insert into test_target\n",
      "2025-06-15 12:04:43 INFO     test_target updated with 1 rows\n",
      "2025-06-15 12:04:43 INFO     test_target now has 2 rows\n"
     ]
    },
    {
     "name": "stdout",
     "output_type": "stream",
     "text": [
      "\n",
      "        create table test_raw_dups_20250615_120443 as \n",
      "            select max(__dup_rownum) as __dup_cnt, * exclude (__row_hash, __dup_rownum)\n",
      "            from (\n",
      "                select *, md5(raw_tbl::TEXT) as __row_hash, row_number() over(partition by md5(raw_tbl::TEXT) order by random()) as __dup_rownum\n",
      "                from test_raw raw_tbl\n",
      "            ) x\n",
      "            group by all\n",
      "            having max(__dup_rownum) > 1\n",
      "    \n",
      "\n",
      "        create table test_raw_missing_data_20250615_120443 as \n",
      "            select * from test_raw where c1_int is null or c3_tstamp is null\n",
      "    \n",
      "\n",
      "        create table test_raw_bad_dtypes_20250615_120443 as\n",
      "            select columns('^[^_][^_].+') from (\n",
      "                select *, case when ( c1_int is not null and __try_cast_c1_int is null ) or ( c2_str is not null and __try_cast_c2_str is null ) or ( c3_tstamp is not null and __try_cast_c3_tstamp is null ) then 1 else 0 end as __has_bad_dtype\n",
      "                from ( \n",
      "                    select *, try_cast(c1_int as INTEGER) as __try_cast_c1_int, try_cast(c2_str as VARCHAR) as __try_cast_c2_str, try_cast(c3_tstamp as TIMESTAMP) as __try_cast_c3_tstamp from test_raw\n",
      "                ) x\n",
      "            ) x\n",
      "            where __has_bad_dtype = 1\n",
      "    \n"
     ]
    }
   ],
   "source": [
    "duckdb.sql(\n",
    "    '''\n",
    "    create or replace table test_raw as \n",
    "        select '123' as c1_int,   'abc' as c2_str,   '2025-01-01 00:00:00' as c3_tstamp   union all\n",
    "        select '123' as c1_int,   'abc' as c2_str,   '2025-01-01 00:00:00' as c3_tstamp   union all\n",
    "        select null  as c1_int,   'abc' as c2_str,   null                  as c3_tstamp   union all\n",
    "        select 'xxx' as c1_int,   'abc' as c2_str,   '2025-01-01 00:00:00' as c3_tstamp   union all\n",
    "        select '456' as c1_int,   'abc' as c2_str,   '2025-01-01 00:00:00' as c3_tstamp \n",
    "    '''\n",
    ")\n",
    "\n",
    "duckdb.sql(\n",
    "    '''\n",
    "    create or replace table test_target as \n",
    "        select cast('888' as int) as c1_int,   cast('xyz' as string) as c2_str,   cast(now() as timestamp) as c3_tstamp\n",
    "    '''\n",
    ")\n",
    "\n",
    "quality_check_dataset(raw='test_raw', load_target='test_target', expect_complete=['c1_int', 'c3_tstamp'])"
   ]
  },
  {
   "cell_type": "code",
   "execution_count": 15,
   "id": "ffeac9e3",
   "metadata": {},
   "outputs": [
    {
     "data": {
      "text/plain": [
       "┌─────────┬─────────┬─────────────────────┐\n",
       "│ c1_int  │ c2_str  │      c3_tstamp      │\n",
       "│ varchar │ varchar │       varchar       │\n",
       "├─────────┼─────────┼─────────────────────┤\n",
       "│ 456     │ abc     │ 2025-01-01 00:00:00 │\n",
       "└─────────┴─────────┴─────────────────────┘"
      ]
     },
     "execution_count": 15,
     "metadata": {},
     "output_type": "execute_result"
    }
   ],
   "source": [
    "duckdb.table('test_raw')"
   ]
  },
  {
   "cell_type": "code",
   "execution_count": 16,
   "id": "d028245a",
   "metadata": {},
   "outputs": [
    {
     "data": {
      "text/plain": [
       "┌────────┬─────────┬─────────────────────────┐\n",
       "│ c1_int │ c2_str  │        c3_tstamp        │\n",
       "│ int32  │ varchar │        timestamp        │\n",
       "├────────┼─────────┼─────────────────────────┤\n",
       "│    888 │ xyz     │ 2025-06-15 12:04:43.546 │\n",
       "│    456 │ abc     │ 2025-01-01 00:00:00     │\n",
       "└────────┴─────────┴─────────────────────────┘"
      ]
     },
     "execution_count": 16,
     "metadata": {},
     "output_type": "execute_result"
    }
   ],
   "source": [
    "duckdb.table('test_target')"
   ]
  },
  {
   "cell_type": "markdown",
   "id": "f404a3fe",
   "metadata": {},
   "source": [
    "### Question 5\n",
    "Create summary statistics and perform a statistical analysis or create a model using the provided datasets. We are interested in your justification for your choices and reasoning. \n",
    "\n",
    "You may join the data to other datasets from https://www.stats.govt.nz/large-datasets/csv-files-fordownload/ if you wish"
   ]
  },
  {
   "cell_type": "markdown",
   "id": "d3051a5a",
   "metadata": {},
   "source": [
    "### Answer - Q5\n",
    "\n",
    "First of all, I inspected both datasets and calculated summary stats using `summarize` in `duckdb.sql()`.\n",
    "\n",
    "After inspection of both dataset and the summary , I'm interested in looking at, industry-wise, how do the change rates following metrics correlated with each other:\n",
    "- profits\n",
    "- expenditure\n",
    "- salaries\n",
    "- filled jobs\n",
    "\n",
    "The reason why I chose change rates is that this could normalise data since these four metric all bear different units. Also, since profits / expenditure / salaries are from the business financial data set and recorded as quaterly values while filled jobs is from the business employment data set and recorded as monthly values, normalising values to yearly change rates could help to match data granularity.\n",
    "\n",
    "I firstly built a SQL query to extract the yearly change rates for these metrics. Then I used `plotly` to visulise the results and identify correlations."
   ]
  },
  {
   "cell_type": "code",
   "execution_count": 17,
   "id": "0e7d6b6e",
   "metadata": {},
   "outputs": [
    {
     "data": {
      "text/plain": [
       "┌──────────────────┬─────────────┬─────────────────────────────────────────────────┬─────────────────────────────────────────────────┬───────────────┬────────────────────┬───────────────────┬────────────────────┬────────────────────┬────────────────────┬───────┬─────────────────┐\n",
       "│   column_name    │ column_type │                       min                       │                       max                       │ approx_unique │        avg         │        std        │        q25         │        q50         │        q75         │ count │ null_percentage │\n",
       "│     varchar      │   varchar   │                     varchar                     │                     varchar                     │     int64     │      varchar       │      varchar      │      varchar       │      varchar       │      varchar       │ int64 │  decimal(9,2)   │\n",
       "├──────────────────┼─────────────┼─────────────────────────────────────────────────┼─────────────────────────────────────────────────┼───────────────┼────────────────────┼───────────────────┼────────────────────┼────────────────────┼────────────────────┼───────┼─────────────────┤\n",
       "│ series_reference │ VARCHAR     │ BDCQ.SF1AA2CA                                   │ BDCQ.SF8RSCA                                    │           227 │ NULL               │ NULL              │ NULL               │ NULL               │ NULL               │  7635 │            0.00 │\n",
       "│ period_col       │ DOUBLE      │ 2016.06                                         │ 2024.03                                         │            37 │ 2019.8447622788362 │ 2.319656373430337 │ 2018.0536081903713 │ 2020.0511938568534 │ 2022.04794675364   │  7635 │            0.00 │\n",
       "│ data_value       │ DOUBLE      │ -398.194                                        │ 41541.633                                       │          4794 │ 4986.28061150353   │ 7425.892800909329 │ 664.8922715919373  │ 2132.5966162998748 │ 4695.2998607985355 │  7635 │            9.14 │\n",
       "│ suppressed       │ VARCHAR     │ Y                                               │ Y                                               │             1 │ NULL               │ NULL              │ NULL               │ NULL               │ NULL               │  7635 │           99.80 │\n",
       "│ status_col       │ VARCHAR     │ C                                               │ R                                               │             3 │ NULL               │ NULL              │ NULL               │ NULL               │ NULL               │  7635 │            0.00 │\n",
       "│ units_col        │ VARCHAR     │ Dollars                                         │ Dollars                                         │             1 │ NULL               │ NULL              │ NULL               │ NULL               │ NULL               │  7635 │            0.00 │\n",
       "│ magnitude        │ BIGINT      │ 6                                               │ 6                                               │             1 │ 6.0                │ 0.0               │ 6                  │ 6                  │ 6                  │  7635 │            0.00 │\n",
       "│ subject_col      │ VARCHAR     │ Business Data Collection - BDC                  │ Business Data Collection - BDC                  │             1 │ NULL               │ NULL              │ NULL               │ NULL               │ NULL               │  7635 │            0.00 │\n",
       "│ group_col        │ VARCHAR     │ Industry by financial variable (NZSIOC Level 1) │ Industry by financial variable (NZSIOC Level 2) │             2 │ NULL               │ NULL              │ NULL               │ NULL               │ NULL               │  7635 │            0.00 │\n",
       "│ series_title_1   │ VARCHAR     │ Operating profit                                │ Sales (operating income)                        │             4 │ NULL               │ NULL              │ NULL               │ NULL               │ NULL               │  7635 │            0.00 │\n",
       "│ series_title_2   │ VARCHAR     │ Accommodation and Food Services                 │ Wood and Paper Products Manufacturing           │            30 │ NULL               │ NULL              │ NULL               │ NULL               │ NULL               │  7635 │            0.00 │\n",
       "│ series_title_3   │ VARCHAR     │ Current                                         │ Current prices                                  │             2 │ NULL               │ NULL              │ NULL               │ NULL               │ NULL               │  7635 │            0.00 │\n",
       "│ series_title_4   │ VARCHAR     │ Seasonally adjusted                             │ Unadjusted                                      │             3 │ NULL               │ NULL              │ NULL               │ NULL               │ NULL               │  7635 │            0.00 │\n",
       "│ series_title_5   │ VARCHAR     │ NULL                                            │ NULL                                            │             0 │ NULL               │ NULL              │ NULL               │ NULL               │ NULL               │  7635 │          100.00 │\n",
       "├──────────────────┴─────────────┴─────────────────────────────────────────────────┴─────────────────────────────────────────────────┴───────────────┴────────────────────┴───────────────────┴────────────────────┴────────────────────┴────────────────────┴───────┴─────────────────┤\n",
       "│ 14 rows                                                                                                                                                                                                                                                                   12 columns │\n",
       "└──────────────────────────────────────────────────────────────────────────────────────────────────────────────────────────────────────────────────────────────────────────────────────────────────────────────────────────────────────────────────────────────────────────────────────┘"
      ]
     },
     "execution_count": 17,
     "metadata": {},
     "output_type": "execute_result"
    }
   ],
   "source": [
    "duckdb.sql('summarize bus_fin')"
   ]
  },
  {
   "cell_type": "code",
   "execution_count": 18,
   "id": "511a7318",
   "metadata": {},
   "outputs": [
    {
     "data": {
      "text/plain": [
       "┌──────────────────┬─────────────┬────────────────────────────────┬──────────────────────────────────────────────┬───────────────┬───────────────────┬────────────────────┬────────────────────┬────────────────────┬───────────────────┬───────┬─────────────────┐\n",
       "│   column_name    │ column_type │              min               │                     max                      │ approx_unique │        avg        │        std         │        q25         │        q50         │        q75        │ count │ null_percentage │\n",
       "│     varchar      │   varchar   │            varchar             │                   varchar                    │     int64     │      varchar      │      varchar       │      varchar       │      varchar       │      varchar      │ int64 │  decimal(9,2)   │\n",
       "├──────────────────┼─────────────┼────────────────────────────────┼──────────────────────────────────────────────┼───────────────┼───────────────────┼────────────────────┼────────────────────┼────────────────────┼───────────────────┼───────┼─────────────────┤\n",
       "│ series_reference │ VARCHAR     │ BDCQ.SEA1AA                    │ BDCQ.SEE3999A                                │           402 │ NULL              │ NULL               │ NULL               │ NULL               │ NULL              │ 22963 │            0.00 │\n",
       "│ period_col       │ DOUBLE      │ 2011.06                        │ 2024.03                                      │            57 │ 2017.121172321009 │ 3.699584492574211  │ 2014.0558122417356 │ 2017.0732186666671 │ 2020.089926979137 │ 22963 │            0.00 │\n",
       "│ data_value       │ DOUBLE      │ 1.187001                       │ 2321295.0                                    │         16847 │ 72687.8284151708  │ 210333.42311009864 │ 1877.217647079245  │ 14204.065465006785 │ 60453.97780337162 │ 22963 │           12.36 │\n",
       "│ suppressed       │ VARCHAR     │ Y                              │ Y                                            │             1 │ NULL              │ NULL               │ NULL               │ NULL               │ NULL              │ 22963 │           87.64 │\n",
       "│ status_col       │ VARCHAR     │ C                              │ R                                            │             3 │ NULL              │ NULL               │ NULL               │ NULL               │ NULL              │ 22963 │            0.00 │\n",
       "│ units_col        │ VARCHAR     │ Number                         │ Value                                        │             1 │ NULL              │ NULL               │ NULL               │ NULL               │ NULL              │ 22963 │            0.00 │\n",
       "│ magnitude        │ BIGINT      │ 0                              │ 6                                            │             2 │ 2.310064016025781 │ 2.91965058860279   │ 0                  │ 0                  │ 6                 │ 22963 │            0.00 │\n",
       "│ subject_col      │ VARCHAR     │ Business Data Collection - BDC │ Business Data Collection - BDC               │             1 │ NULL              │ NULL               │ NULL               │ NULL               │ NULL              │ 22963 │            0.00 │\n",
       "│ group_col        │ VARCHAR     │ Age by employment variable     │ Territorial authority by employment variable │             5 │ NULL              │ NULL               │ NULL               │ NULL               │ NULL              │ 22963 │            0.00 │\n",
       "│ series_title_1   │ VARCHAR     │ Filled jobs                    │ Total earnings                               │             3 │ NULL              │ NULL               │ NULL               │ NULL               │ NULL              │ 22963 │            0.00 │\n",
       "│ series_title_2   │ VARCHAR     │ 15-19                          │ Wholesale Trade                              │           106 │ NULL              │ NULL               │ NULL               │ NULL               │ NULL              │ 22963 │            0.00 │\n",
       "│ series_title_3   │ VARCHAR     │ Actual                         │ Trend                                        │             3 │ NULL              │ NULL               │ NULL               │ NULL               │ NULL              │ 22963 │            0.00 │\n",
       "│ series_title_4   │ VARCHAR     │ NULL                           │ NULL                                         │             0 │ NULL              │ NULL               │ NULL               │ NULL               │ NULL              │ 22963 │          100.00 │\n",
       "│ series_title_5   │ VARCHAR     │ NULL                           │ NULL                                         │             0 │ NULL              │ NULL               │ NULL               │ NULL               │ NULL              │ 22963 │          100.00 │\n",
       "├──────────────────┴─────────────┴────────────────────────────────┴──────────────────────────────────────────────┴───────────────┴───────────────────┴────────────────────┴────────────────────┴────────────────────┴───────────────────┴───────┴─────────────────┤\n",
       "│ 14 rows                                                                                                                                                                                                                                              12 columns │\n",
       "└─────────────────────────────────────────────────────────────────────────────────────────────────────────────────────────────────────────────────────────────────────────────────────────────────────────────────────────────────────────────────────────────────┘"
      ]
     },
     "execution_count": 18,
     "metadata": {},
     "output_type": "execute_result"
    }
   ],
   "source": [
    "duckdb.sql('summarize bus_emp')"
   ]
  },
  {
   "cell_type": "code",
   "execution_count": 19,
   "id": "b96b37d1",
   "metadata": {},
   "outputs": [
    {
     "data": {
      "text/html": [
       "<div>\n",
       "<style scoped>\n",
       "    .dataframe tbody tr th:only-of-type {\n",
       "        vertical-align: middle;\n",
       "    }\n",
       "\n",
       "    .dataframe tbody tr th {\n",
       "        vertical-align: top;\n",
       "    }\n",
       "\n",
       "    .dataframe thead th {\n",
       "        text-align: right;\n",
       "    }\n",
       "</style>\n",
       "<table border=\"1\" class=\"dataframe\">\n",
       "  <thead>\n",
       "    <tr style=\"text-align: right;\">\n",
       "      <th></th>\n",
       "      <th>year_time</th>\n",
       "      <th>industry</th>\n",
       "      <th>profits_yearly_change</th>\n",
       "      <th>expenditure_yearly_change</th>\n",
       "      <th>salaries_yearly_change</th>\n",
       "      <th>filled_jobs_yearly_change</th>\n",
       "    </tr>\n",
       "  </thead>\n",
       "  <tbody>\n",
       "    <tr>\n",
       "      <th>0</th>\n",
       "      <td>2023-01-01</td>\n",
       "      <td>Health Care and Social Assistance</td>\n",
       "      <td>0.116</td>\n",
       "      <td>0.055</td>\n",
       "      <td>0.107</td>\n",
       "      <td>0.038</td>\n",
       "    </tr>\n",
       "    <tr>\n",
       "      <th>1</th>\n",
       "      <td>2018-01-01</td>\n",
       "      <td>Wholesale Trade</td>\n",
       "      <td>0.009</td>\n",
       "      <td>0.074</td>\n",
       "      <td>0.056</td>\n",
       "      <td>0.031</td>\n",
       "    </tr>\n",
       "    <tr>\n",
       "      <th>2</th>\n",
       "      <td>2019-01-01</td>\n",
       "      <td>Wholesale Trade</td>\n",
       "      <td>0.067</td>\n",
       "      <td>0.026</td>\n",
       "      <td>0.047</td>\n",
       "      <td>0.007</td>\n",
       "    </tr>\n",
       "    <tr>\n",
       "      <th>3</th>\n",
       "      <td>2020-01-01</td>\n",
       "      <td>Wholesale Trade</td>\n",
       "      <td>0.272</td>\n",
       "      <td>-0.025</td>\n",
       "      <td>0.006</td>\n",
       "      <td>-0.007</td>\n",
       "    </tr>\n",
       "    <tr>\n",
       "      <th>4</th>\n",
       "      <td>2021-01-01</td>\n",
       "      <td>Wholesale Trade</td>\n",
       "      <td>-0.025</td>\n",
       "      <td>0.161</td>\n",
       "      <td>0.090</td>\n",
       "      <td>0.014</td>\n",
       "    </tr>\n",
       "    <tr>\n",
       "      <th>5</th>\n",
       "      <td>2022-01-01</td>\n",
       "      <td>Wholesale Trade</td>\n",
       "      <td>0.045</td>\n",
       "      <td>0.206</td>\n",
       "      <td>0.098</td>\n",
       "      <td>0.030</td>\n",
       "    </tr>\n",
       "    <tr>\n",
       "      <th>6</th>\n",
       "      <td>2023-01-01</td>\n",
       "      <td>Wholesale Trade</td>\n",
       "      <td>0.026</td>\n",
       "      <td>0.017</td>\n",
       "      <td>0.055</td>\n",
       "      <td>0.017</td>\n",
       "    </tr>\n",
       "    <tr>\n",
       "      <th>7</th>\n",
       "      <td>2020-01-01</td>\n",
       "      <td>Mining</td>\n",
       "      <td>-0.284</td>\n",
       "      <td>-0.154</td>\n",
       "      <td>-0.092</td>\n",
       "      <td>0.005</td>\n",
       "    </tr>\n",
       "    <tr>\n",
       "      <th>8</th>\n",
       "      <td>2021-01-01</td>\n",
       "      <td>Mining</td>\n",
       "      <td>0.284</td>\n",
       "      <td>0.090</td>\n",
       "      <td>0.083</td>\n",
       "      <td>0.016</td>\n",
       "    </tr>\n",
       "    <tr>\n",
       "      <th>9</th>\n",
       "      <td>2022-01-01</td>\n",
       "      <td>Mining</td>\n",
       "      <td>0.267</td>\n",
       "      <td>0.185</td>\n",
       "      <td>0.135</td>\n",
       "      <td>0.029</td>\n",
       "    </tr>\n",
       "    <tr>\n",
       "      <th>10</th>\n",
       "      <td>2023-01-01</td>\n",
       "      <td>Mining</td>\n",
       "      <td>-0.143</td>\n",
       "      <td>-0.009</td>\n",
       "      <td>0.097</td>\n",
       "      <td>0.049</td>\n",
       "    </tr>\n",
       "    <tr>\n",
       "      <th>11</th>\n",
       "      <td>2018-01-01</td>\n",
       "      <td>Education and Training</td>\n",
       "      <td>0.216</td>\n",
       "      <td>0.023</td>\n",
       "      <td>0.088</td>\n",
       "      <td>0.025</td>\n",
       "    </tr>\n",
       "    <tr>\n",
       "      <th>12</th>\n",
       "      <td>2019-01-01</td>\n",
       "      <td>Education and Training</td>\n",
       "      <td>0.120</td>\n",
       "      <td>0.074</td>\n",
       "      <td>0.068</td>\n",
       "      <td>0.029</td>\n",
       "    </tr>\n",
       "    <tr>\n",
       "      <th>13</th>\n",
       "      <td>2020-01-01</td>\n",
       "      <td>Education and Training</td>\n",
       "      <td>-0.096</td>\n",
       "      <td>-0.057</td>\n",
       "      <td>0.019</td>\n",
       "      <td>0.018</td>\n",
       "    </tr>\n",
       "    <tr>\n",
       "      <th>14</th>\n",
       "      <td>2021-01-01</td>\n",
       "      <td>Education and Training</td>\n",
       "      <td>0.254</td>\n",
       "      <td>0.002</td>\n",
       "      <td>0.076</td>\n",
       "      <td>0.013</td>\n",
       "    </tr>\n",
       "    <tr>\n",
       "      <th>15</th>\n",
       "      <td>2022-01-01</td>\n",
       "      <td>Education and Training</td>\n",
       "      <td>-0.193</td>\n",
       "      <td>0.135</td>\n",
       "      <td>0.035</td>\n",
       "      <td>0.000</td>\n",
       "    </tr>\n",
       "    <tr>\n",
       "      <th>16</th>\n",
       "      <td>2023-01-01</td>\n",
       "      <td>Education and Training</td>\n",
       "      <td>0.290</td>\n",
       "      <td>0.102</td>\n",
       "      <td>0.126</td>\n",
       "      <td>0.024</td>\n",
       "    </tr>\n",
       "    <tr>\n",
       "      <th>17</th>\n",
       "      <td>2018-01-01</td>\n",
       "      <td>Manufacturing</td>\n",
       "      <td>-0.051</td>\n",
       "      <td>0.075</td>\n",
       "      <td>0.051</td>\n",
       "      <td>0.022</td>\n",
       "    </tr>\n",
       "    <tr>\n",
       "      <th>18</th>\n",
       "      <td>2019-01-01</td>\n",
       "      <td>Manufacturing</td>\n",
       "      <td>-0.045</td>\n",
       "      <td>0.033</td>\n",
       "      <td>0.038</td>\n",
       "      <td>0.010</td>\n",
       "    </tr>\n",
       "    <tr>\n",
       "      <th>19</th>\n",
       "      <td>2018-01-01</td>\n",
       "      <td>Electricity, Gas, Water and Waste Services</td>\n",
       "      <td>0.064</td>\n",
       "      <td>0.087</td>\n",
       "      <td>0.090</td>\n",
       "      <td>0.059</td>\n",
       "    </tr>\n",
       "  </tbody>\n",
       "</table>\n",
       "</div>"
      ],
      "text/plain": [
       "    year_time                                    industry  \\\n",
       "0  2023-01-01           Health Care and Social Assistance   \n",
       "1  2018-01-01                             Wholesale Trade   \n",
       "2  2019-01-01                             Wholesale Trade   \n",
       "3  2020-01-01                             Wholesale Trade   \n",
       "4  2021-01-01                             Wholesale Trade   \n",
       "5  2022-01-01                             Wholesale Trade   \n",
       "6  2023-01-01                             Wholesale Trade   \n",
       "7  2020-01-01                                      Mining   \n",
       "8  2021-01-01                                      Mining   \n",
       "9  2022-01-01                                      Mining   \n",
       "10 2023-01-01                                      Mining   \n",
       "11 2018-01-01                      Education and Training   \n",
       "12 2019-01-01                      Education and Training   \n",
       "13 2020-01-01                      Education and Training   \n",
       "14 2021-01-01                      Education and Training   \n",
       "15 2022-01-01                      Education and Training   \n",
       "16 2023-01-01                      Education and Training   \n",
       "17 2018-01-01                               Manufacturing   \n",
       "18 2019-01-01                               Manufacturing   \n",
       "19 2018-01-01  Electricity, Gas, Water and Waste Services   \n",
       "\n",
       "    profits_yearly_change  expenditure_yearly_change  salaries_yearly_change  \\\n",
       "0                   0.116                      0.055                   0.107   \n",
       "1                   0.009                      0.074                   0.056   \n",
       "2                   0.067                      0.026                   0.047   \n",
       "3                   0.272                     -0.025                   0.006   \n",
       "4                  -0.025                      0.161                   0.090   \n",
       "5                   0.045                      0.206                   0.098   \n",
       "6                   0.026                      0.017                   0.055   \n",
       "7                  -0.284                     -0.154                  -0.092   \n",
       "8                   0.284                      0.090                   0.083   \n",
       "9                   0.267                      0.185                   0.135   \n",
       "10                 -0.143                     -0.009                   0.097   \n",
       "11                  0.216                      0.023                   0.088   \n",
       "12                  0.120                      0.074                   0.068   \n",
       "13                 -0.096                     -0.057                   0.019   \n",
       "14                  0.254                      0.002                   0.076   \n",
       "15                 -0.193                      0.135                   0.035   \n",
       "16                  0.290                      0.102                   0.126   \n",
       "17                 -0.051                      0.075                   0.051   \n",
       "18                 -0.045                      0.033                   0.038   \n",
       "19                  0.064                      0.087                   0.090   \n",
       "\n",
       "    filled_jobs_yearly_change  \n",
       "0                       0.038  \n",
       "1                       0.031  \n",
       "2                       0.007  \n",
       "3                      -0.007  \n",
       "4                       0.014  \n",
       "5                       0.030  \n",
       "6                       0.017  \n",
       "7                       0.005  \n",
       "8                       0.016  \n",
       "9                       0.029  \n",
       "10                      0.049  \n",
       "11                      0.025  \n",
       "12                      0.029  \n",
       "13                      0.018  \n",
       "14                      0.013  \n",
       "15                      0.000  \n",
       "16                      0.024  \n",
       "17                      0.022  \n",
       "18                      0.010  \n",
       "19                      0.059  "
      ]
     },
     "execution_count": 19,
     "metadata": {},
     "output_type": "execute_result"
    }
   ],
   "source": [
    "df_bus_metric_corr = duckdb.sql(\n",
    "    f'''\n",
    "    --beginsql\n",
    "        with profits_expenditure_salaries_changes as (\n",
    "            select *\n",
    "                , round(( sum_profits_in_year - lag(sum_profits_in_year) over(partition by industry order by year_time) ) / ( lag(sum_profits_in_year) over(partition by industry order by year_time) ), 3) as profits_yearly_change\n",
    "                , round(( sum_expenditure_in_year - lag(sum_expenditure_in_year) over(partition by industry order by year_time) ) / ( lag(sum_expenditure_in_year) over(partition by industry order by year_time) ), 3) as expenditure_yearly_change\n",
    "                , round(( sum_salaries_in_year - lag(sum_salaries_in_year) over(partition by industry order by year_time) ) / ( lag(sum_salaries_in_year) over(partition by industry order by year_time) ), 3) as salaries_yearly_change\n",
    "            from (\n",
    "                select \n",
    "                    date_trunc('year', strptime(cast(period_col as string), '%Y.%m')) as year_time\n",
    "                    , series_title_2 as industry\n",
    "                    , sum(case when lower(trim(series_title_1)) = 'operating profit' then data_value else 0 end) as sum_profits_in_year\n",
    "                    , sum(case when lower(trim(series_title_1)) = 'purchases and operating expenditure' then data_value else 0 end) as sum_expenditure_in_year\n",
    "                    , sum(case when lower(trim(series_title_1)) = 'salaries and wages' then data_value else 0 end) as sum_salaries_in_year\n",
    "                from bus_fin \n",
    "                where lower(trim(series_title_1)) in ( 'operating profit', 'purchases and operating expenditure', 'salaries and wages' )\n",
    "                    and lower(trim(group_col)) = 'industry by financial variable (nzsioc level 1)'\n",
    "                group by 1, 2\n",
    "                having count(case when lower(trim(series_title_1)) = 'operating profit' then data_value else null end) = 4 -- ensuring all 4 quarter data present for a given year for profit\n",
    "                    and count(case when lower(trim(series_title_1)) = 'purchases and operating expenditure' then data_value else null end) = 4 -- ensuring all 4 quarter data present for a given year for expenditure\n",
    "                    and count(case when lower(trim(series_title_1)) = 'salaries and wages' then data_value else null end) = 4 -- ensuring all 4 quarter data present for a given year for salaries\n",
    "            ) x\n",
    "        )\n",
    "        , filled_jobs_changes as (\n",
    "            select *\n",
    "                , round(( sum_filled_jobs_in_year - lag(sum_filled_jobs_in_year) over(partition by industry order by year_time) ) / ( lag(sum_filled_jobs_in_year) over(partition by industry order by year_time) ), 3) as filled_jobs_yearly_change\n",
    "            from (\n",
    "                select \n",
    "                    date_trunc('year', strptime(cast(period_col as string), '%Y.%m')) as year_time\n",
    "                    , series_title_2 as industry\n",
    "                    , sum(data_value) as sum_filled_jobs_in_year\n",
    "                from bus_emp \n",
    "                where lower(trim(group_col)) = 'industry by employment variable'\n",
    "                    and lower(trim(series_title_1)) = 'filled jobs'\n",
    "                group by 1, 2\n",
    "                having count(data_value) = 12 -- ensuring all 12 months data present for a given year for filled jobs\n",
    "            ) x\n",
    "        )\n",
    "        , combined as (\n",
    "            select \n",
    "                pesc.year_time\n",
    "                , pesc.industry\n",
    "                , pesc.profits_yearly_change \n",
    "                , pesc.expenditure_yearly_change\n",
    "                , pesc.salaries_yearly_change\n",
    "                , fjc.filled_jobs_yearly_change\n",
    "            from profits_expenditure_salaries_changes pesc\n",
    "            inner join filled_jobs_changes fjc on lower(trim(pesc.industry)) = lower(trim(fjc.industry)) and pesc.year_time = fjc.year_time\n",
    "        )\n",
    "        select * from combined\n",
    "        where ( profits_yearly_change + expenditure_yearly_change + salaries_yearly_change + filled_jobs_yearly_change ) is not null\n",
    "    --endsql\n",
    "    '''\n",
    ").to_df()\n",
    "\n",
    "df_bus_metric_corr.head(20)"
   ]
  },
  {
   "cell_type": "code",
   "execution_count": 20,
   "id": "9e355285",
   "metadata": {},
   "outputs": [],
   "source": [
    "import plotly.graph_objects as go\n",
    "from plotly.subplots import make_subplots\n",
    "import numpy as np\n",
    "import pandas as pd\n",
    "\n",
    "# reusable function for plot making\n",
    "def explore_correlations(df: pd.DataFrame, grouping_var:str, time_series: str, time_interval: str, left_var: str, left_var_desc: str, right_var: str, right_var_desc: str):\n",
    "\n",
    "    industries = sorted(df[grouping_var].unique().tolist())\n",
    "    fig = make_subplots(rows=len(industries), cols=3, subplot_titles=(f'{left_var_desc} {time_interval}-on-{time_interval}', f'{right_var_desc} {time_interval}-on-{time_interval}', f'{left_var_desc}-{right_var_desc} correlation'))\n",
    "\n",
    "    layout_dict = {}\n",
    "\n",
    "    for idx, var in enumerate(industries):\n",
    "        grouping_df = df[df[grouping_var] == var].sort_values(by=time_series)\n",
    "        fig.add_trace(\n",
    "            go.Bar(x=grouping_df[time_series], y=grouping_df[left_var], name=f'{left_var_desc} {time_interval}-on-{time_interval}', marker=dict(color='#002F6B'), zorder=1),\n",
    "            row = idx+1, \n",
    "            col = 1\n",
    "        )\n",
    "        fig.add_trace(\n",
    "            go.Bar(x=grouping_df[time_series], y=grouping_df[right_var], name=f'{right_var_desc} {time_interval}-on-{time_interval}', marker=dict(color='#002F6B'), zorder=1),\n",
    "            row = idx+1,\n",
    "            col = 2\n",
    "        )\n",
    "        fig.add_trace(\n",
    "            go.Scatter(x=grouping_df[left_var], y=grouping_df[right_var], name=f'{left_var_desc}-{right_var_desc} correlation', mode='markers', marker=dict(color='#002F6B'), zorder=1),\n",
    "            row = idx+1, \n",
    "            col = 3\n",
    "        )\n",
    "\n",
    "        slope, intercept = np.polyfit(grouping_df[left_var], grouping_df[right_var], 1)\n",
    "        y_fit = slope * grouping_df[left_var] + intercept\n",
    "\n",
    "        fig.add_trace(\n",
    "            go.Scatter(x=grouping_df[left_var], y=y_fit, mode='lines', name=f'{var} Fit', line=dict(dash='solid', color='#FAA61A'), showlegend=False),\n",
    "            row = idx+1, \n",
    "            col = 3\n",
    "        )\n",
    "\n",
    "        layout_dict.update(\n",
    "            {\n",
    "                f'xaxis{3*(idx+1)-2}': dict(title='year'),\n",
    "                f'xaxis{3*(idx+1)-1}': dict(title='year'),\n",
    "                f'xaxis{3*(idx+1)}': dict(title=f'{left_var_desc} {time_interval}-on-{time_interval}'),\n",
    "                f'yaxis{3*(idx+1)-2}': dict(title=var),\n",
    "                f'yaxis{3*(idx+1)}': dict(title=f'{right_var_desc} {time_interval}-on-{time_interval}'),\n",
    "            }\n",
    "        )\n",
    "\n",
    "    layout_dict.update(\n",
    "        {\n",
    "            'height': 5000,\n",
    "            'showlegend': False,\n",
    "        }\n",
    "    )\n",
    "\n",
    "    fig.update_layout(**layout_dict)\n",
    "    fig.update_yaxes(title_font=dict(size=12))\n",
    "\n",
    "    fig.show()"
   ]
  },
  {
   "cell_type": "markdown",
   "id": "b076b294",
   "metadata": {},
   "source": [
    "#### business profits - business expenditure correlation"
   ]
  },
  {
   "cell_type": "code",
   "execution_count": 21,
   "id": "7941b0b1",
   "metadata": {},
   "outputs": [
    {
     "data": {
      "application/vnd.plotly.v1+json": {
       "config": {
        "plotlyServerURL": "https://plot.ly"
       },
       "data": [
        {
         "marker": {
          "color": "#002F6B"
         },
         "name": "business profits change year-on-year",
         "type": "bar",
         "x": [
          "2018-01-01T00:00:00.000000000",
          "2019-01-01T00:00:00.000000000",
          "2020-01-01T00:00:00.000000000",
          "2021-01-01T00:00:00.000000000",
          "2022-01-01T00:00:00.000000000",
          "2023-01-01T00:00:00.000000000"
         ],
         "xaxis": "x",
         "y": {
          "bdata": "pHA9CtejsD+HFtnO91PDv8uhRbbz/aS/rkfhehSuxz9g5dAi2/nOv1pkO99PjZe/",
          "dtype": "f8"
         },
         "yaxis": "y",
         "zorder": 1
        },
        {
         "marker": {
          "color": "#002F6B"
         },
         "name": "business expenditure change year-on-year",
         "type": "bar",
         "x": [
          "2018-01-01T00:00:00.000000000",
          "2019-01-01T00:00:00.000000000",
          "2020-01-01T00:00:00.000000000",
          "2021-01-01T00:00:00.000000000",
          "2022-01-01T00:00:00.000000000",
          "2023-01-01T00:00:00.000000000"
         ],
         "xaxis": "x2",
         "y": {
          "bdata": "QmDl0CLbyT8730+Nl26iP4ts5/up8aK/GQRWDi2yzT8730+Nl26SP0oMAiuHFqm/",
          "dtype": "f8"
         },
         "yaxis": "y2",
         "zorder": 1
        },
        {
         "marker": {
          "color": "#002F6B"
         },
         "mode": "markers",
         "name": "business profits change-business expenditure change correlation",
         "type": "scatter",
         "x": {
          "bdata": "pHA9CtejsD+HFtnO91PDv8uhRbbz/aS/rkfhehSuxz9g5dAi2/nOv1pkO99PjZe/",
          "dtype": "f8"
         },
         "xaxis": "x3",
         "y": {
          "bdata": "QmDl0CLbyT8730+Nl26iP4ts5/up8aK/GQRWDi2yzT8730+Nl26SP0oMAiuHFqm/",
          "dtype": "f8"
         },
         "yaxis": "y3",
         "zorder": 1
        },
        {
         "line": {
          "color": "#FAA61A",
          "dash": "solid"
         },
         "mode": "lines",
         "name": "Agriculture, Forestry and Fishing Fit",
         "showlegend": false,
         "type": "scatter",
         "x": {
          "bdata": "pHA9CtejsD+HFtnO91PDv8uhRbbz/aS/rkfhehSuxz9g5dAi2/nOv1pkO99PjZe/",
          "dtype": "f8"
         },
         "xaxis": "x3",
         "y": {
          "bdata": "UAHbe9ERvz8gvtEAk2hrP5UBrskoPrA/XksaNmXtxz84fjb4ib6nvzILVYe0wrI/",
          "dtype": "f8"
         },
         "yaxis": "y3"
        },
        {
         "marker": {
          "color": "#002F6B"
         },
         "name": "business profits change year-on-year",
         "type": "bar",
         "x": [
          "2018-01-01T00:00:00.000000000",
          "2019-01-01T00:00:00.000000000",
          "2020-01-01T00:00:00.000000000",
          "2021-01-01T00:00:00.000000000",
          "2022-01-01T00:00:00.000000000",
          "2023-01-01T00:00:00.000000000"
         ],
         "xaxis": "x4",
         "y": {
          "bdata": "kxgEVg4tsj8v3SQGgZXDP3npJjEIrJy/UI2XbhKDwD+6SQwCK4e2P/YoXI/C9cg/",
          "dtype": "f8"
         },
         "yaxis": "y4",
         "zorder": 1
        },
        {
         "marker": {
          "color": "#002F6B"
         },
         "name": "business expenditure change year-on-year",
         "type": "bar",
         "x": [
          "2018-01-01T00:00:00.000000000",
          "2019-01-01T00:00:00.000000000",
          "2020-01-01T00:00:00.000000000",
          "2021-01-01T00:00:00.000000000",
          "2022-01-01T00:00:00.000000000",
          "2023-01-01T00:00:00.000000000"
         ],
         "xaxis": "x5",
         "y": {
          "bdata": "2/l+arx0sz/TTWIQWDm0P/yp8dJNYnC/bxKDwMqhxT8GgZVDi2zHP0w3iUFg5aA/",
          "dtype": "f8"
         },
         "yaxis": "y5",
         "zorder": 1
        },
        {
         "marker": {
          "color": "#002F6B"
         },
         "mode": "markers",
         "name": "business profits change-business expenditure change correlation",
         "type": "scatter",
         "x": {
          "bdata": "kxgEVg4tsj8v3SQGgZXDP3npJjEIrJy/UI2XbhKDwD+6SQwCK4e2P/YoXI/C9cg/",
          "dtype": "f8"
         },
         "xaxis": "x6",
         "y": {
          "bdata": "2/l+arx0sz/TTWIQWDm0P/yp8dJNYnC/bxKDwMqhxT8GgZVDi2zHP0w3iUFg5aA/",
          "dtype": "f8"
         },
         "yaxis": "y6",
         "zorder": 1
        },
        {
         "line": {
          "color": "#FAA61A",
          "dash": "solid"
         },
         "mode": "lines",
         "name": "Construction Fit",
         "showlegend": false,
         "type": "scatter",
         "x": {
          "bdata": "kxgEVg4tsj8v3SQGgZXDP3npJjEIrJy/UI2XbhKDwD+6SQwCK4e2P/YoXI/C9cg/",
          "dtype": "f8"
         },
         "xaxis": "x6",
         "y": {
          "bdata": "1R0WlyfmtD/QawHirjm6P6lT4Qjj76w/2OpFBJqquD/aQ9Be1gC2P4KNCWYT9Lw/",
          "dtype": "f8"
         },
         "yaxis": "y6"
        },
        {
         "marker": {
          "color": "#002F6B"
         },
         "name": "business profits change year-on-year",
         "type": "bar",
         "x": [
          "2018-01-01T00:00:00.000000000",
          "2019-01-01T00:00:00.000000000",
          "2020-01-01T00:00:00.000000000",
          "2021-01-01T00:00:00.000000000",
          "2022-01-01T00:00:00.000000000",
          "2023-01-01T00:00:00.000000000"
         ],
         "xaxis": "x7",
         "y": {
          "bdata": "2c73U+Olyz+4HoXrUbi+P/p+arx0k7i/qMZLN4lB0D9OYhBYObTIv4/C9Shcj9I/",
          "dtype": "f8"
         },
         "yaxis": "y7",
         "zorder": 1
        },
        {
         "marker": {
          "color": "#002F6B"
         },
         "name": "business expenditure change year-on-year",
         "type": "bar",
         "x": [
          "2018-01-01T00:00:00.000000000",
          "2019-01-01T00:00:00.000000000",
          "2020-01-01T00:00:00.000000000",
          "2021-01-01T00:00:00.000000000",
          "2022-01-01T00:00:00.000000000",
          "2023-01-01T00:00:00.000000000"
         ],
         "xaxis": "x8",
         "y": {
          "bdata": "WmQ730+Nlz+LbOf7qfGyP8l2vp8aL62//Knx0k1iYD9I4XoUrkfBP+kmMQisHLo/",
          "dtype": "f8"
         },
         "yaxis": "y8",
         "zorder": 1
        },
        {
         "marker": {
          "color": "#002F6B"
         },
         "mode": "markers",
         "name": "business profits change-business expenditure change correlation",
         "type": "scatter",
         "x": {
          "bdata": "2c73U+Olyz+4HoXrUbi+P/p+arx0k7i/qMZLN4lB0D9OYhBYObTIv4/C9Shcj9I/",
          "dtype": "f8"
         },
         "xaxis": "x9",
         "y": {
          "bdata": "WmQ730+Nlz+LbOf7qfGyP8l2vp8aL62//Knx0k1iYD9I4XoUrkfBP+kmMQisHLo/",
          "dtype": "f8"
         },
         "yaxis": "y9",
         "zorder": 1
        },
        {
         "line": {
          "color": "#FAA61A",
          "dash": "solid"
         },
         "mode": "lines",
         "name": "Education and Training Fit",
         "showlegend": false,
         "type": "scatter",
         "x": {
          "bdata": "2c73U+Olyz+4HoXrUbi+P/p+arx0k7i/qMZLN4lB0D9OYhBYObTIv4/C9Shcj9I/",
          "dtype": "f8"
         },
         "xaxis": "x9",
         "y": {
          "bdata": "7iy7KpmNpj+zeKbuEJSnPy7jd2ee4qk/mwkubbQlpj9nom0V0uuqPzHNtYNHw6U/",
          "dtype": "f8"
         },
         "yaxis": "y9"
        },
        {
         "marker": {
          "color": "#002F6B"
         },
         "name": "business profits change year-on-year",
         "type": "bar",
         "x": [
          "2018-01-01T00:00:00.000000000",
          "2019-01-01T00:00:00.000000000",
          "2020-01-01T00:00:00.000000000",
          "2021-01-01T00:00:00.000000000",
          "2022-01-01T00:00:00.000000000",
          "2023-01-01T00:00:00.000000000"
         ],
         "xaxis": "x10",
         "y": {
          "bdata": "/Knx0k1isD+6SQwCK4eGP+kmMQisHKq/2c73U+Olm79aZDvfT423PyuHFtnO97M/",
          "dtype": "f8"
         },
         "yaxis": "y10",
         "zorder": 1
        },
        {
         "marker": {
          "color": "#002F6B"
         },
         "name": "business expenditure change year-on-year",
         "type": "bar",
         "x": [
          "2018-01-01T00:00:00.000000000",
          "2019-01-01T00:00:00.000000000",
          "2020-01-01T00:00:00.000000000",
          "2021-01-01T00:00:00.000000000",
          "2022-01-01T00:00:00.000000000",
          "2023-01-01T00:00:00.000000000"
         ],
         "xaxis": "x11",
         "y": {
          "bdata": "EoPAyqFFtj/pJjEIrByqPzm0yHa+n5q/zczMzMzMzD9Ei2zn+6mxv3npJjEIrKw/",
          "dtype": "f8"
         },
         "yaxis": "y11",
         "zorder": 1
        },
        {
         "marker": {
          "color": "#002F6B"
         },
         "mode": "markers",
         "name": "business profits change-business expenditure change correlation",
         "type": "scatter",
         "x": {
          "bdata": "/Knx0k1isD+6SQwCK4eGP+kmMQisHKq/2c73U+Olm79aZDvfT423PyuHFtnO97M/",
          "dtype": "f8"
         },
         "xaxis": "x12",
         "y": {
          "bdata": "EoPAyqFFtj/pJjEIrByqPzm0yHa+n5q/zczMzMzMzD9Ei2zn+6mxv3npJjEIrKw/",
          "dtype": "f8"
         },
         "yaxis": "y12",
         "zorder": 1
        },
        {
         "line": {
          "color": "#FAA61A",
          "dash": "solid"
         },
         "mode": "lines",
         "name": "Electricity, Gas, Water and Waste Services Fit",
         "showlegend": false,
         "type": "scatter",
         "x": {
          "bdata": "/Knx0k1isD+6SQwCK4eGP+kmMQisHKq/2c73U+Olm79aZDvfT423PyuHFtnO97M/",
          "dtype": "f8"
         },
         "xaxis": "x12",
         "y": {
          "bdata": "pqtAr5pwoT+w3/rAGjOwP/5Gc+AP87g/IqMjUPuPtT+eWrhn1RKTP/TYHGMF+po/",
          "dtype": "f8"
         },
         "yaxis": "y12"
        },
        {
         "marker": {
          "color": "#002F6B"
         },
         "name": "business profits change year-on-year",
         "type": "bar",
         "x": [
          "2018-01-01T00:00:00.000000000",
          "2019-01-01T00:00:00.000000000",
          "2020-01-01T00:00:00.000000000",
          "2021-01-01T00:00:00.000000000",
          "2022-01-01T00:00:00.000000000",
          "2023-01-01T00:00:00.000000000"
         ],
         "xaxis": "x13",
         "y": {
          "bdata": "i2zn+6nxsj8OLbKd76fGP2ZmZmZmZsY//Knx0k1ikL+JQWDl0CKrvxkEVg4tsr0/",
          "dtype": "f8"
         },
         "yaxis": "y13",
         "zorder": 1
        },
        {
         "marker": {
          "color": "#002F6B"
         },
         "name": "business expenditure change year-on-year",
         "type": "bar",
         "x": [
          "2018-01-01T00:00:00.000000000",
          "2019-01-01T00:00:00.000000000",
          "2020-01-01T00:00:00.000000000",
          "2021-01-01T00:00:00.000000000",
          "2022-01-01T00:00:00.000000000",
          "2023-01-01T00:00:00.000000000"
         ],
         "xaxis": "x14",
         "y": {
          "bdata": "nMQgsHJosT+cxCCwcmixP1K4HoXrUbg/ke18PzVeuj8QWDm0yHa+Pylcj8L1KKw/",
          "dtype": "f8"
         },
         "yaxis": "y14",
         "zorder": 1
        },
        {
         "marker": {
          "color": "#002F6B"
         },
         "mode": "markers",
         "name": "business profits change-business expenditure change correlation",
         "type": "scatter",
         "x": {
          "bdata": "i2zn+6nxsj8OLbKd76fGP2ZmZmZmZsY//Knx0k1ikL+JQWDl0CKrvxkEVg4tsr0/",
          "dtype": "f8"
         },
         "xaxis": "x15",
         "y": {
          "bdata": "nMQgsHJosT+cxCCwcmixP1K4HoXrUbg/ke18PzVeuj8QWDm0yHa+Pylcj8L1KKw/",
          "dtype": "f8"
         },
         "yaxis": "y15",
         "zorder": 1
        },
        {
         "line": {
          "color": "#FAA61A",
          "dash": "solid"
         },
         "mode": "lines",
         "name": "Health Care and Social Assistance Fit",
         "showlegend": false,
         "type": "scatter",
         "x": {
          "bdata": "i2zn+6nxsj8OLbKd76fGP2ZmZmZmZsY//Knx0k1ikL+JQWDl0CKrvxkEVg4tsr0/",
          "dtype": "f8"
         },
         "xaxis": "x15",
         "y": {
          "bdata": "nWVGaoritT/bXWlcfWexPyru6TTDfbE/YsPfeNHMuT8LMSqe3Wi7PzCPuqfPDrQ/",
          "dtype": "f8"
         },
         "yaxis": "y15"
        },
        {
         "marker": {
          "color": "#002F6B"
         },
         "name": "business profits change year-on-year",
         "type": "bar",
         "x": [
          "2018-01-01T00:00:00.000000000",
          "2019-01-01T00:00:00.000000000",
          "2020-01-01T00:00:00.000000000",
          "2021-01-01T00:00:00.000000000",
          "2022-01-01T00:00:00.000000000",
          "2023-01-01T00:00:00.000000000"
         ],
         "xaxis": "x16",
         "y": {
          "bdata": "RIts5/upsT8xCKwcWmS7v4PAyqFFtrM/ukkMAiuHpj/8qfHSTWLAv6rx0k1iELg/",
          "dtype": "f8"
         },
         "yaxis": "y16",
         "zorder": 1
        },
        {
         "marker": {
          "color": "#002F6B"
         },
         "name": "business expenditure change year-on-year",
         "type": "bar",
         "x": [
          "2018-01-01T00:00:00.000000000",
          "2019-01-01T00:00:00.000000000",
          "2020-01-01T00:00:00.000000000",
          "2021-01-01T00:00:00.000000000",
          "2022-01-01T00:00:00.000000000",
          "2023-01-01T00:00:00.000000000"
         ],
         "xaxis": "x17",
         "y": {
          "bdata": "exSuR+F6hL9aZDvfT423PzvfT42XbrK/TDeJQWDlwD8CK4cW2c63PzvfT42XbrI/",
          "dtype": "f8"
         },
         "yaxis": "y17",
         "zorder": 1
        },
        {
         "marker": {
          "color": "#002F6B"
         },
         "mode": "markers",
         "name": "business profits change-business expenditure change correlation",
         "type": "scatter",
         "x": {
          "bdata": "RIts5/upsT8xCKwcWmS7v4PAyqFFtrM/ukkMAiuHpj/8qfHSTWLAv6rx0k1iELg/",
          "dtype": "f8"
         },
         "xaxis": "x18",
         "y": {
          "bdata": "exSuR+F6hL9aZDvfT423PzvfT42XbrK/TDeJQWDlwD8CK4cW2c63PzvfT42XbrI/",
          "dtype": "f8"
         },
         "yaxis": "y18",
         "zorder": 1
        },
        {
         "line": {
          "color": "#FAA61A",
          "dash": "solid"
         },
         "mode": "lines",
         "name": "Information Media and Telecommunications Fit",
         "showlegend": false,
         "type": "scatter",
         "x": {
          "bdata": "RIts5/upsT8xCKwcWmS7v4PAyqFFtrM/ukkMAiuHpj/8qfHSTWLAv6rx0k1iELg/",
          "dtype": "f8"
         },
         "xaxis": "x18",
         "y": {
          "bdata": "Kj+JsqOSnT8tH4ttZOa3P7wwdg9Tkpo/I2YS2M95oz+moI9Ymd65PxCy7bSnMZQ/",
          "dtype": "f8"
         },
         "yaxis": "y18"
        },
        {
         "marker": {
          "color": "#002F6B"
         },
         "name": "business profits change year-on-year",
         "type": "bar",
         "x": [
          "2018-01-01T00:00:00.000000000",
          "2019-01-01T00:00:00.000000000",
          "2020-01-01T00:00:00.000000000",
          "2021-01-01T00:00:00.000000000",
          "2022-01-01T00:00:00.000000000",
          "2023-01-01T00:00:00.000000000"
         ],
         "xaxis": "x19",
         "y": {
          "bdata": "6SYxCKwcqr8K16NwPQqnvwAAAAAAAMA/sp3vp8ZLt7/0/dR46SbRP4ts5/up8bK/",
          "dtype": "f8"
         },
         "yaxis": "y19",
         "zorder": 1
        },
        {
         "marker": {
          "color": "#002F6B"
         },
         "name": "business expenditure change year-on-year",
         "type": "bar",
         "x": [
          "2018-01-01T00:00:00.000000000",
          "2019-01-01T00:00:00.000000000",
          "2020-01-01T00:00:00.000000000",
          "2021-01-01T00:00:00.000000000",
          "2022-01-01T00:00:00.000000000",
          "2023-01-01T00:00:00.000000000"
         ],
         "xaxis": "x20",
         "y": {
          "bdata": "MzMzMzMzsz9MN4lBYOWgP7gehetRuK6/TDeJQWDlwD+LbOf7qfGyP/yp8dJNYrC/",
          "dtype": "f8"
         },
         "yaxis": "y20",
         "zorder": 1
        },
        {
         "marker": {
          "color": "#002F6B"
         },
         "mode": "markers",
         "name": "business profits change-business expenditure change correlation",
         "type": "scatter",
         "x": {
          "bdata": "6SYxCKwcqr8K16NwPQqnvwAAAAAAAMA/sp3vp8ZLt7/0/dR46SbRP4ts5/up8bK/",
          "dtype": "f8"
         },
         "xaxis": "x21",
         "y": {
          "bdata": "MzMzMzMzsz9MN4lBYOWgP7gehetRuK6/TDeJQWDlwD+LbOf7qfGyP/yp8dJNYrC/",
          "dtype": "f8"
         },
         "yaxis": "y21",
         "zorder": 1
        },
        {
         "line": {
          "color": "#FAA61A",
          "dash": "solid"
         },
         "mode": "lines",
         "name": "Manufacturing Fit",
         "showlegend": false,
         "type": "scatter",
         "x": {
          "bdata": "6SYxCKwcqr8K16NwPQqnvwAAAAAAAMA/sp3vp8ZLt7/0/dR46SbRP4ts5/up8bK/",
          "dtype": "f8"
         },
         "xaxis": "x21",
         "y": {
          "bdata": "fMIeC83SoT9sYQwq7LChP0bxsSwR4ps/6J7uPKi0oj9EifDuMZOVPzrhjxSrVKI/",
          "dtype": "f8"
         },
         "yaxis": "y21"
        },
        {
         "marker": {
          "color": "#002F6B"
         },
         "name": "business profits change year-on-year",
         "type": "bar",
         "x": [
          "2018-01-01T00:00:00.000000000",
          "2019-01-01T00:00:00.000000000",
          "2020-01-01T00:00:00.000000000",
          "2021-01-01T00:00:00.000000000",
          "2022-01-01T00:00:00.000000000",
          "2023-01-01T00:00:00.000000000"
         ],
         "xaxis": "x22",
         "y": {
          "bdata": "oBov3SQGwT+6SQwCK4eGP5MYBFYOLdK/kxgEVg4t0j9KDAIrhxbRP+f7qfHSTcK/",
          "dtype": "f8"
         },
         "yaxis": "y22",
         "zorder": 1
        },
        {
         "marker": {
          "color": "#002F6B"
         },
         "name": "business expenditure change year-on-year",
         "type": "bar",
         "x": [
          "2018-01-01T00:00:00.000000000",
          "2019-01-01T00:00:00.000000000",
          "2020-01-01T00:00:00.000000000",
          "2021-01-01T00:00:00.000000000",
          "2022-01-01T00:00:00.000000000",
          "2023-01-01T00:00:00.000000000"
         ],
         "xaxis": "x23",
         "y": {
          "bdata": "eekmMQisrD9KDAIrhxapv4PAyqFFtsO/CtejcD0Ktz+uR+F6FK7HPzvfT42XboK/",
          "dtype": "f8"
         },
         "yaxis": "y23",
         "zorder": 1
        },
        {
         "marker": {
          "color": "#002F6B"
         },
         "mode": "markers",
         "name": "business profits change-business expenditure change correlation",
         "type": "scatter",
         "x": {
          "bdata": "oBov3SQGwT+6SQwCK4eGP5MYBFYOLdK/kxgEVg4t0j9KDAIrhxbRP+f7qfHSTcK/",
          "dtype": "f8"
         },
         "xaxis": "x24",
         "y": {
          "bdata": "eekmMQisrD9KDAIrhxapv4PAyqFFtsO/CtejcD0Ktz+uR+F6FK7HPzvfT42XboK/",
          "dtype": "f8"
         },
         "yaxis": "y24",
         "zorder": 1
        },
        {
         "line": {
          "color": "#FAA61A",
          "dash": "solid"
         },
         "mode": "lines",
         "name": "Mining Fit",
         "showlegend": false,
         "type": "scatter",
         "x": {
          "bdata": "oBov3SQGwT+6SQwCK4eGP5MYBFYOLdK/kxgEVg4t0j9KDAIrhxbRP+f7qfHSTcK/",
          "dtype": "f8"
         },
         "xaxis": "x24",
         "y": {
          "bdata": "sqVrKoNkrz9d58WaSXtwP3NHq+t1N8G/v3e6GqTswD/37SRiG86/P90n7Dqle7G/",
          "dtype": "f8"
         },
         "yaxis": "y24"
        },
        {
         "marker": {
          "color": "#002F6B"
         },
         "name": "business profits change year-on-year",
         "type": "bar",
         "x": [
          "2018-01-01T00:00:00.000000000",
          "2019-01-01T00:00:00.000000000",
          "2020-01-01T00:00:00.000000000",
          "2021-01-01T00:00:00.000000000",
          "2022-01-01T00:00:00.000000000",
          "2023-01-01T00:00:00.000000000"
         ],
         "xaxis": "x25",
         "y": {
          "bdata": "46WbxCCwsj/jpZvEILCyv6jGSzeJQcA/SgwCK4cWuT8rhxbZzvfDvzm0yHa+n7o/",
          "dtype": "f8"
         },
         "yaxis": "y25",
         "zorder": 1
        },
        {
         "marker": {
          "color": "#002F6B"
         },
         "name": "business expenditure change year-on-year",
         "type": "bar",
         "x": [
          "2018-01-01T00:00:00.000000000",
          "2019-01-01T00:00:00.000000000",
          "2020-01-01T00:00:00.000000000",
          "2021-01-01T00:00:00.000000000",
          "2022-01-01T00:00:00.000000000",
          "2023-01-01T00:00:00.000000000"
         ],
         "xaxis": "x26",
         "y": {
          "bdata": "aJHtfD81vj/jpZvEILCyPxsv3SQGgbW/Vg4tsp3vxz8rhxbZzvejP3sUrkfhenS/",
          "dtype": "f8"
         },
         "yaxis": "y26",
         "zorder": 1
        },
        {
         "marker": {
          "color": "#002F6B"
         },
         "mode": "markers",
         "name": "business profits change-business expenditure change correlation",
         "type": "scatter",
         "x": {
          "bdata": "46WbxCCwsj/jpZvEILCyv6jGSzeJQcA/SgwCK4cWuT8rhxbZzvfDvzm0yHa+n7o/",
          "dtype": "f8"
         },
         "xaxis": "x27",
         "y": {
          "bdata": "aJHtfD81vj/jpZvEILCyPxsv3SQGgbW/Vg4tsp3vxz8rhxbZzvejP3sUrkfhenS/",
          "dtype": "f8"
         },
         "yaxis": "y27",
         "zorder": 1
        },
        {
         "line": {
          "color": "#FAA61A",
          "dash": "solid"
         },
         "mode": "lines",
         "name": "Rental, Hiring and Real Estate Services Fit",
         "showlegend": false,
         "type": "scatter",
         "x": {
          "bdata": "46WbxCCwsj/jpZvEILCyv6jGSzeJQcA/SgwCK4cWuT8rhxbZzvfDvzm0yHa+n7o/",
          "dtype": "f8"
         },
         "xaxis": "x27",
         "y": {
          "bdata": "WWIBLhJAqj+h3UfWvv+vP6H1MMnAH6g/WYVebBJEqT8J7SLvMKKxP0V5DpqXB6k/",
          "dtype": "f8"
         },
         "yaxis": "y27"
        },
        {
         "marker": {
          "color": "#002F6B"
         },
         "name": "business profits change year-on-year",
         "type": "bar",
         "x": [
          "2018-01-01T00:00:00.000000000",
          "2019-01-01T00:00:00.000000000",
          "2020-01-01T00:00:00.000000000",
          "2021-01-01T00:00:00.000000000",
          "2022-01-01T00:00:00.000000000",
          "2023-01-01T00:00:00.000000000"
         ],
         "xaxis": "x28",
         "y": {
          "bdata": "nMQgsHJokT8IrBxaZDuvP5qZmZmZmcm/4XoUrkfhyj+wcmiR7XzPP4PAyqFFtrO/",
          "dtype": "f8"
         },
         "yaxis": "y28",
         "zorder": 1
        },
        {
         "marker": {
          "color": "#002F6B"
         },
         "name": "business expenditure change year-on-year",
         "type": "bar",
         "x": [
          "2018-01-01T00:00:00.000000000",
          "2019-01-01T00:00:00.000000000",
          "2020-01-01T00:00:00.000000000",
          "2021-01-01T00:00:00.000000000",
          "2022-01-01T00:00:00.000000000",
          "2023-01-01T00:00:00.000000000"
         ],
         "xaxis": "x29",
         "y": {
          "bdata": "TDeJQWDlsD+cxCCwcmihPxsv3SQGgcW/uB6F61G4vj85tMh2vp/SP1TjpZvEILA/",
          "dtype": "f8"
         },
         "yaxis": "y29",
         "zorder": 1
        },
        {
         "marker": {
          "color": "#002F6B"
         },
         "mode": "markers",
         "name": "business profits change-business expenditure change correlation",
         "type": "scatter",
         "x": {
          "bdata": "nMQgsHJokT8IrBxaZDuvP5qZmZmZmcm/4XoUrkfhyj+wcmiR7XzPP4PAyqFFtrO/",
          "dtype": "f8"
         },
         "xaxis": "x30",
         "y": {
          "bdata": "TDeJQWDlsD+cxCCwcmihPxsv3SQGgcW/uB6F61G4vj85tMh2vp/SP1TjpZvEILA/",
          "dtype": "f8"
         },
         "yaxis": "y30",
         "zorder": 1
        },
        {
         "line": {
          "color": "#FAA61A",
          "dash": "solid"
         },
         "mode": "lines",
         "name": "Transport, Postal and Warehousing Fit",
         "showlegend": false,
         "type": "scatter",
         "x": {
          "bdata": "nMQgsHJokT8IrBxaZDuvP5qZmZmZmcm/4XoUrkfhyj+wcmiR7XzPP4PAyqFFtrO/",
          "dtype": "f8"
         },
         "xaxis": "x30",
         "y": {
          "bdata": "OFJVGt5iqD+FGV+RDu60P2Deekov5b6/AG7lvAlCyT9xbSktBdXMP3Az/tc545m/",
          "dtype": "f8"
         },
         "yaxis": "y30"
        },
        {
         "marker": {
          "color": "#002F6B"
         },
         "name": "business profits change year-on-year",
         "type": "bar",
         "x": [
          "2018-01-01T00:00:00.000000000",
          "2019-01-01T00:00:00.000000000",
          "2020-01-01T00:00:00.000000000",
          "2021-01-01T00:00:00.000000000",
          "2022-01-01T00:00:00.000000000",
          "2023-01-01T00:00:00.000000000"
         ],
         "xaxis": "x31",
         "y": {
          "bdata": "O99PjZdugj/0/dR46SaxP5zEILByaNE/mpmZmZmZmb8K16NwPQqnPzm0yHa+n5o/",
          "dtype": "f8"
         },
         "yaxis": "y31",
         "zorder": 1
        },
        {
         "marker": {
          "color": "#002F6B"
         },
         "name": "business expenditure change year-on-year",
         "type": "bar",
         "x": [
          "2018-01-01T00:00:00.000000000",
          "2019-01-01T00:00:00.000000000",
          "2020-01-01T00:00:00.000000000",
          "2021-01-01T00:00:00.000000000",
          "2022-01-01T00:00:00.000000000",
          "2023-01-01T00:00:00.000000000"
         ],
         "xaxis": "x32",
         "y": {
          "bdata": "i2zn+6nxsj85tMh2vp+aP5qZmZmZmZm/z/dT46WbxD+R7Xw/NV7KP5zEILByaJE/",
          "dtype": "f8"
         },
         "yaxis": "y32",
         "zorder": 1
        },
        {
         "marker": {
          "color": "#002F6B"
         },
         "mode": "markers",
         "name": "business profits change-business expenditure change correlation",
         "type": "scatter",
         "x": {
          "bdata": "O99PjZdugj/0/dR46SaxP5zEILByaNE/mpmZmZmZmb8K16NwPQqnPzm0yHa+n5o/",
          "dtype": "f8"
         },
         "xaxis": "x33",
         "y": {
          "bdata": "i2zn+6nxsj85tMh2vp+aP5qZmZmZmZm/z/dT46WbxD+R7Xw/NV7KP5zEILByaJE/",
          "dtype": "f8"
         },
         "yaxis": "y33",
         "zorder": 1
        },
        {
         "line": {
          "color": "#FAA61A",
          "dash": "solid"
         },
         "mode": "lines",
         "name": "Wholesale Trade Fit",
         "showlegend": false,
         "type": "scatter",
         "x": {
          "bdata": "O99PjZdugj/0/dR46SaxP5zEILByaNE/mpmZmZmZmb8K16NwPQqnPzm0yHa+n5o/",
          "dtype": "f8"
         },
         "xaxis": "x33",
         "y": {
          "bdata": "dz312TUOuz/Vxe/Hf2izP6D/y1H9e56/1hA/jNWJvz8Sx1tKFE+2P8hT0ABm0Lg/",
          "dtype": "f8"
         },
         "yaxis": "y33"
        }
       ],
       "layout": {
        "annotations": [
         {
          "font": {
           "size": 16
          },
          "showarrow": false,
          "text": "business profits change year-on-year",
          "x": 0.14444444444444446,
          "xanchor": "center",
          "xref": "paper",
          "y": 0.9999999999999999,
          "yanchor": "bottom",
          "yref": "paper"
         },
         {
          "font": {
           "size": 16
          },
          "showarrow": false,
          "text": "business expenditure change year-on-year",
          "x": 0.5,
          "xanchor": "center",
          "xref": "paper",
          "y": 0.9999999999999999,
          "yanchor": "bottom",
          "yref": "paper"
         },
         {
          "font": {
           "size": 16
          },
          "showarrow": false,
          "text": "business profits change-business expenditure change correlation",
          "x": 0.8555555555555556,
          "xanchor": "center",
          "xref": "paper",
          "y": 0.9999999999999999,
          "yanchor": "bottom",
          "yref": "paper"
         }
        ],
        "height": 5000,
        "showlegend": false,
        "template": {
         "data": {
          "bar": [
           {
            "error_x": {
             "color": "#2a3f5f"
            },
            "error_y": {
             "color": "#2a3f5f"
            },
            "marker": {
             "line": {
              "color": "#E5ECF6",
              "width": 0.5
             },
             "pattern": {
              "fillmode": "overlay",
              "size": 10,
              "solidity": 0.2
             }
            },
            "type": "bar"
           }
          ],
          "barpolar": [
           {
            "marker": {
             "line": {
              "color": "#E5ECF6",
              "width": 0.5
             },
             "pattern": {
              "fillmode": "overlay",
              "size": 10,
              "solidity": 0.2
             }
            },
            "type": "barpolar"
           }
          ],
          "carpet": [
           {
            "aaxis": {
             "endlinecolor": "#2a3f5f",
             "gridcolor": "white",
             "linecolor": "white",
             "minorgridcolor": "white",
             "startlinecolor": "#2a3f5f"
            },
            "baxis": {
             "endlinecolor": "#2a3f5f",
             "gridcolor": "white",
             "linecolor": "white",
             "minorgridcolor": "white",
             "startlinecolor": "#2a3f5f"
            },
            "type": "carpet"
           }
          ],
          "choropleth": [
           {
            "colorbar": {
             "outlinewidth": 0,
             "ticks": ""
            },
            "type": "choropleth"
           }
          ],
          "contour": [
           {
            "colorbar": {
             "outlinewidth": 0,
             "ticks": ""
            },
            "colorscale": [
             [
              0,
              "#0d0887"
             ],
             [
              0.1111111111111111,
              "#46039f"
             ],
             [
              0.2222222222222222,
              "#7201a8"
             ],
             [
              0.3333333333333333,
              "#9c179e"
             ],
             [
              0.4444444444444444,
              "#bd3786"
             ],
             [
              0.5555555555555556,
              "#d8576b"
             ],
             [
              0.6666666666666666,
              "#ed7953"
             ],
             [
              0.7777777777777778,
              "#fb9f3a"
             ],
             [
              0.8888888888888888,
              "#fdca26"
             ],
             [
              1,
              "#f0f921"
             ]
            ],
            "type": "contour"
           }
          ],
          "contourcarpet": [
           {
            "colorbar": {
             "outlinewidth": 0,
             "ticks": ""
            },
            "type": "contourcarpet"
           }
          ],
          "heatmap": [
           {
            "colorbar": {
             "outlinewidth": 0,
             "ticks": ""
            },
            "colorscale": [
             [
              0,
              "#0d0887"
             ],
             [
              0.1111111111111111,
              "#46039f"
             ],
             [
              0.2222222222222222,
              "#7201a8"
             ],
             [
              0.3333333333333333,
              "#9c179e"
             ],
             [
              0.4444444444444444,
              "#bd3786"
             ],
             [
              0.5555555555555556,
              "#d8576b"
             ],
             [
              0.6666666666666666,
              "#ed7953"
             ],
             [
              0.7777777777777778,
              "#fb9f3a"
             ],
             [
              0.8888888888888888,
              "#fdca26"
             ],
             [
              1,
              "#f0f921"
             ]
            ],
            "type": "heatmap"
           }
          ],
          "histogram": [
           {
            "marker": {
             "pattern": {
              "fillmode": "overlay",
              "size": 10,
              "solidity": 0.2
             }
            },
            "type": "histogram"
           }
          ],
          "histogram2d": [
           {
            "colorbar": {
             "outlinewidth": 0,
             "ticks": ""
            },
            "colorscale": [
             [
              0,
              "#0d0887"
             ],
             [
              0.1111111111111111,
              "#46039f"
             ],
             [
              0.2222222222222222,
              "#7201a8"
             ],
             [
              0.3333333333333333,
              "#9c179e"
             ],
             [
              0.4444444444444444,
              "#bd3786"
             ],
             [
              0.5555555555555556,
              "#d8576b"
             ],
             [
              0.6666666666666666,
              "#ed7953"
             ],
             [
              0.7777777777777778,
              "#fb9f3a"
             ],
             [
              0.8888888888888888,
              "#fdca26"
             ],
             [
              1,
              "#f0f921"
             ]
            ],
            "type": "histogram2d"
           }
          ],
          "histogram2dcontour": [
           {
            "colorbar": {
             "outlinewidth": 0,
             "ticks": ""
            },
            "colorscale": [
             [
              0,
              "#0d0887"
             ],
             [
              0.1111111111111111,
              "#46039f"
             ],
             [
              0.2222222222222222,
              "#7201a8"
             ],
             [
              0.3333333333333333,
              "#9c179e"
             ],
             [
              0.4444444444444444,
              "#bd3786"
             ],
             [
              0.5555555555555556,
              "#d8576b"
             ],
             [
              0.6666666666666666,
              "#ed7953"
             ],
             [
              0.7777777777777778,
              "#fb9f3a"
             ],
             [
              0.8888888888888888,
              "#fdca26"
             ],
             [
              1,
              "#f0f921"
             ]
            ],
            "type": "histogram2dcontour"
           }
          ],
          "mesh3d": [
           {
            "colorbar": {
             "outlinewidth": 0,
             "ticks": ""
            },
            "type": "mesh3d"
           }
          ],
          "parcoords": [
           {
            "line": {
             "colorbar": {
              "outlinewidth": 0,
              "ticks": ""
             }
            },
            "type": "parcoords"
           }
          ],
          "pie": [
           {
            "automargin": true,
            "type": "pie"
           }
          ],
          "scatter": [
           {
            "fillpattern": {
             "fillmode": "overlay",
             "size": 10,
             "solidity": 0.2
            },
            "type": "scatter"
           }
          ],
          "scatter3d": [
           {
            "line": {
             "colorbar": {
              "outlinewidth": 0,
              "ticks": ""
             }
            },
            "marker": {
             "colorbar": {
              "outlinewidth": 0,
              "ticks": ""
             }
            },
            "type": "scatter3d"
           }
          ],
          "scattercarpet": [
           {
            "marker": {
             "colorbar": {
              "outlinewidth": 0,
              "ticks": ""
             }
            },
            "type": "scattercarpet"
           }
          ],
          "scattergeo": [
           {
            "marker": {
             "colorbar": {
              "outlinewidth": 0,
              "ticks": ""
             }
            },
            "type": "scattergeo"
           }
          ],
          "scattergl": [
           {
            "marker": {
             "colorbar": {
              "outlinewidth": 0,
              "ticks": ""
             }
            },
            "type": "scattergl"
           }
          ],
          "scattermap": [
           {
            "marker": {
             "colorbar": {
              "outlinewidth": 0,
              "ticks": ""
             }
            },
            "type": "scattermap"
           }
          ],
          "scattermapbox": [
           {
            "marker": {
             "colorbar": {
              "outlinewidth": 0,
              "ticks": ""
             }
            },
            "type": "scattermapbox"
           }
          ],
          "scatterpolar": [
           {
            "marker": {
             "colorbar": {
              "outlinewidth": 0,
              "ticks": ""
             }
            },
            "type": "scatterpolar"
           }
          ],
          "scatterpolargl": [
           {
            "marker": {
             "colorbar": {
              "outlinewidth": 0,
              "ticks": ""
             }
            },
            "type": "scatterpolargl"
           }
          ],
          "scatterternary": [
           {
            "marker": {
             "colorbar": {
              "outlinewidth": 0,
              "ticks": ""
             }
            },
            "type": "scatterternary"
           }
          ],
          "surface": [
           {
            "colorbar": {
             "outlinewidth": 0,
             "ticks": ""
            },
            "colorscale": [
             [
              0,
              "#0d0887"
             ],
             [
              0.1111111111111111,
              "#46039f"
             ],
             [
              0.2222222222222222,
              "#7201a8"
             ],
             [
              0.3333333333333333,
              "#9c179e"
             ],
             [
              0.4444444444444444,
              "#bd3786"
             ],
             [
              0.5555555555555556,
              "#d8576b"
             ],
             [
              0.6666666666666666,
              "#ed7953"
             ],
             [
              0.7777777777777778,
              "#fb9f3a"
             ],
             [
              0.8888888888888888,
              "#fdca26"
             ],
             [
              1,
              "#f0f921"
             ]
            ],
            "type": "surface"
           }
          ],
          "table": [
           {
            "cells": {
             "fill": {
              "color": "#EBF0F8"
             },
             "line": {
              "color": "white"
             }
            },
            "header": {
             "fill": {
              "color": "#C8D4E3"
             },
             "line": {
              "color": "white"
             }
            },
            "type": "table"
           }
          ]
         },
         "layout": {
          "annotationdefaults": {
           "arrowcolor": "#2a3f5f",
           "arrowhead": 0,
           "arrowwidth": 1
          },
          "autotypenumbers": "strict",
          "coloraxis": {
           "colorbar": {
            "outlinewidth": 0,
            "ticks": ""
           }
          },
          "colorscale": {
           "diverging": [
            [
             0,
             "#8e0152"
            ],
            [
             0.1,
             "#c51b7d"
            ],
            [
             0.2,
             "#de77ae"
            ],
            [
             0.3,
             "#f1b6da"
            ],
            [
             0.4,
             "#fde0ef"
            ],
            [
             0.5,
             "#f7f7f7"
            ],
            [
             0.6,
             "#e6f5d0"
            ],
            [
             0.7,
             "#b8e186"
            ],
            [
             0.8,
             "#7fbc41"
            ],
            [
             0.9,
             "#4d9221"
            ],
            [
             1,
             "#276419"
            ]
           ],
           "sequential": [
            [
             0,
             "#0d0887"
            ],
            [
             0.1111111111111111,
             "#46039f"
            ],
            [
             0.2222222222222222,
             "#7201a8"
            ],
            [
             0.3333333333333333,
             "#9c179e"
            ],
            [
             0.4444444444444444,
             "#bd3786"
            ],
            [
             0.5555555555555556,
             "#d8576b"
            ],
            [
             0.6666666666666666,
             "#ed7953"
            ],
            [
             0.7777777777777778,
             "#fb9f3a"
            ],
            [
             0.8888888888888888,
             "#fdca26"
            ],
            [
             1,
             "#f0f921"
            ]
           ],
           "sequentialminus": [
            [
             0,
             "#0d0887"
            ],
            [
             0.1111111111111111,
             "#46039f"
            ],
            [
             0.2222222222222222,
             "#7201a8"
            ],
            [
             0.3333333333333333,
             "#9c179e"
            ],
            [
             0.4444444444444444,
             "#bd3786"
            ],
            [
             0.5555555555555556,
             "#d8576b"
            ],
            [
             0.6666666666666666,
             "#ed7953"
            ],
            [
             0.7777777777777778,
             "#fb9f3a"
            ],
            [
             0.8888888888888888,
             "#fdca26"
            ],
            [
             1,
             "#f0f921"
            ]
           ]
          },
          "colorway": [
           "#636efa",
           "#EF553B",
           "#00cc96",
           "#ab63fa",
           "#FFA15A",
           "#19d3f3",
           "#FF6692",
           "#B6E880",
           "#FF97FF",
           "#FECB52"
          ],
          "font": {
           "color": "#2a3f5f"
          },
          "geo": {
           "bgcolor": "white",
           "lakecolor": "white",
           "landcolor": "#E5ECF6",
           "showlakes": true,
           "showland": true,
           "subunitcolor": "white"
          },
          "hoverlabel": {
           "align": "left"
          },
          "hovermode": "closest",
          "mapbox": {
           "style": "light"
          },
          "paper_bgcolor": "white",
          "plot_bgcolor": "#E5ECF6",
          "polar": {
           "angularaxis": {
            "gridcolor": "white",
            "linecolor": "white",
            "ticks": ""
           },
           "bgcolor": "#E5ECF6",
           "radialaxis": {
            "gridcolor": "white",
            "linecolor": "white",
            "ticks": ""
           }
          },
          "scene": {
           "xaxis": {
            "backgroundcolor": "#E5ECF6",
            "gridcolor": "white",
            "gridwidth": 2,
            "linecolor": "white",
            "showbackground": true,
            "ticks": "",
            "zerolinecolor": "white"
           },
           "yaxis": {
            "backgroundcolor": "#E5ECF6",
            "gridcolor": "white",
            "gridwidth": 2,
            "linecolor": "white",
            "showbackground": true,
            "ticks": "",
            "zerolinecolor": "white"
           },
           "zaxis": {
            "backgroundcolor": "#E5ECF6",
            "gridcolor": "white",
            "gridwidth": 2,
            "linecolor": "white",
            "showbackground": true,
            "ticks": "",
            "zerolinecolor": "white"
           }
          },
          "shapedefaults": {
           "line": {
            "color": "#2a3f5f"
           }
          },
          "ternary": {
           "aaxis": {
            "gridcolor": "white",
            "linecolor": "white",
            "ticks": ""
           },
           "baxis": {
            "gridcolor": "white",
            "linecolor": "white",
            "ticks": ""
           },
           "bgcolor": "#E5ECF6",
           "caxis": {
            "gridcolor": "white",
            "linecolor": "white",
            "ticks": ""
           }
          },
          "title": {
           "x": 0.05
          },
          "xaxis": {
           "automargin": true,
           "gridcolor": "white",
           "linecolor": "white",
           "ticks": "",
           "title": {
            "standoff": 15
           },
           "zerolinecolor": "white",
           "zerolinewidth": 2
          },
          "yaxis": {
           "automargin": true,
           "gridcolor": "white",
           "linecolor": "white",
           "ticks": "",
           "title": {
            "standoff": 15
           },
           "zerolinecolor": "white",
           "zerolinewidth": 2
          }
         }
        },
        "xaxis": {
         "anchor": "y",
         "domain": [
          0,
          0.2888888888888889
         ],
         "title": {
          "text": "year"
         }
        },
        "xaxis10": {
         "anchor": "y10",
         "domain": [
          0,
          0.2888888888888889
         ],
         "title": {
          "text": "year"
         }
        },
        "xaxis11": {
         "anchor": "y11",
         "domain": [
          0.35555555555555557,
          0.6444444444444445
         ],
         "title": {
          "text": "year"
         }
        },
        "xaxis12": {
         "anchor": "y12",
         "domain": [
          0.7111111111111111,
          1
         ],
         "title": {
          "text": "business profits change year-on-year"
         }
        },
        "xaxis13": {
         "anchor": "y13",
         "domain": [
          0,
          0.2888888888888889
         ],
         "title": {
          "text": "year"
         }
        },
        "xaxis14": {
         "anchor": "y14",
         "domain": [
          0.35555555555555557,
          0.6444444444444445
         ],
         "title": {
          "text": "year"
         }
        },
        "xaxis15": {
         "anchor": "y15",
         "domain": [
          0.7111111111111111,
          1
         ],
         "title": {
          "text": "business profits change year-on-year"
         }
        },
        "xaxis16": {
         "anchor": "y16",
         "domain": [
          0,
          0.2888888888888889
         ],
         "title": {
          "text": "year"
         }
        },
        "xaxis17": {
         "anchor": "y17",
         "domain": [
          0.35555555555555557,
          0.6444444444444445
         ],
         "title": {
          "text": "year"
         }
        },
        "xaxis18": {
         "anchor": "y18",
         "domain": [
          0.7111111111111111,
          1
         ],
         "title": {
          "text": "business profits change year-on-year"
         }
        },
        "xaxis19": {
         "anchor": "y19",
         "domain": [
          0,
          0.2888888888888889
         ],
         "title": {
          "text": "year"
         }
        },
        "xaxis2": {
         "anchor": "y2",
         "domain": [
          0.35555555555555557,
          0.6444444444444445
         ],
         "title": {
          "text": "year"
         }
        },
        "xaxis20": {
         "anchor": "y20",
         "domain": [
          0.35555555555555557,
          0.6444444444444445
         ],
         "title": {
          "text": "year"
         }
        },
        "xaxis21": {
         "anchor": "y21",
         "domain": [
          0.7111111111111111,
          1
         ],
         "title": {
          "text": "business profits change year-on-year"
         }
        },
        "xaxis22": {
         "anchor": "y22",
         "domain": [
          0,
          0.2888888888888889
         ],
         "title": {
          "text": "year"
         }
        },
        "xaxis23": {
         "anchor": "y23",
         "domain": [
          0.35555555555555557,
          0.6444444444444445
         ],
         "title": {
          "text": "year"
         }
        },
        "xaxis24": {
         "anchor": "y24",
         "domain": [
          0.7111111111111111,
          1
         ],
         "title": {
          "text": "business profits change year-on-year"
         }
        },
        "xaxis25": {
         "anchor": "y25",
         "domain": [
          0,
          0.2888888888888889
         ],
         "title": {
          "text": "year"
         }
        },
        "xaxis26": {
         "anchor": "y26",
         "domain": [
          0.35555555555555557,
          0.6444444444444445
         ],
         "title": {
          "text": "year"
         }
        },
        "xaxis27": {
         "anchor": "y27",
         "domain": [
          0.7111111111111111,
          1
         ],
         "title": {
          "text": "business profits change year-on-year"
         }
        },
        "xaxis28": {
         "anchor": "y28",
         "domain": [
          0,
          0.2888888888888889
         ],
         "title": {
          "text": "year"
         }
        },
        "xaxis29": {
         "anchor": "y29",
         "domain": [
          0.35555555555555557,
          0.6444444444444445
         ],
         "title": {
          "text": "year"
         }
        },
        "xaxis3": {
         "anchor": "y3",
         "domain": [
          0.7111111111111111,
          1
         ],
         "title": {
          "text": "business profits change year-on-year"
         }
        },
        "xaxis30": {
         "anchor": "y30",
         "domain": [
          0.7111111111111111,
          1
         ],
         "title": {
          "text": "business profits change year-on-year"
         }
        },
        "xaxis31": {
         "anchor": "y31",
         "domain": [
          0,
          0.2888888888888889
         ],
         "title": {
          "text": "year"
         }
        },
        "xaxis32": {
         "anchor": "y32",
         "domain": [
          0.35555555555555557,
          0.6444444444444445
         ],
         "title": {
          "text": "year"
         }
        },
        "xaxis33": {
         "anchor": "y33",
         "domain": [
          0.7111111111111111,
          1
         ],
         "title": {
          "text": "business profits change year-on-year"
         }
        },
        "xaxis4": {
         "anchor": "y4",
         "domain": [
          0,
          0.2888888888888889
         ],
         "title": {
          "text": "year"
         }
        },
        "xaxis5": {
         "anchor": "y5",
         "domain": [
          0.35555555555555557,
          0.6444444444444445
         ],
         "title": {
          "text": "year"
         }
        },
        "xaxis6": {
         "anchor": "y6",
         "domain": [
          0.7111111111111111,
          1
         ],
         "title": {
          "text": "business profits change year-on-year"
         }
        },
        "xaxis7": {
         "anchor": "y7",
         "domain": [
          0,
          0.2888888888888889
         ],
         "title": {
          "text": "year"
         }
        },
        "xaxis8": {
         "anchor": "y8",
         "domain": [
          0.35555555555555557,
          0.6444444444444445
         ],
         "title": {
          "text": "year"
         }
        },
        "xaxis9": {
         "anchor": "y9",
         "domain": [
          0.7111111111111111,
          1
         ],
         "title": {
          "text": "business profits change year-on-year"
         }
        },
        "yaxis": {
         "anchor": "x",
         "domain": [
          0.9504132231404958,
          0.9999999999999999
         ],
         "title": {
          "font": {
           "size": 12
          },
          "text": "Agriculture, Forestry and Fishing"
         }
        },
        "yaxis10": {
         "anchor": "x10",
         "domain": [
          0.665289256198347,
          0.7148760330578511
         ],
         "title": {
          "font": {
           "size": 12
          },
          "text": "Electricity, Gas, Water and Waste Services"
         }
        },
        "yaxis11": {
         "anchor": "x11",
         "domain": [
          0.665289256198347,
          0.7148760330578511
         ],
         "title": {
          "font": {
           "size": 12
          }
         }
        },
        "yaxis12": {
         "anchor": "x12",
         "domain": [
          0.665289256198347,
          0.7148760330578511
         ],
         "title": {
          "font": {
           "size": 12
          },
          "text": "business expenditure change year-on-year"
         }
        },
        "yaxis13": {
         "anchor": "x13",
         "domain": [
          0.5702479338842974,
          0.6198347107438015
         ],
         "title": {
          "font": {
           "size": 12
          },
          "text": "Health Care and Social Assistance"
         }
        },
        "yaxis14": {
         "anchor": "x14",
         "domain": [
          0.5702479338842974,
          0.6198347107438015
         ],
         "title": {
          "font": {
           "size": 12
          }
         }
        },
        "yaxis15": {
         "anchor": "x15",
         "domain": [
          0.5702479338842974,
          0.6198347107438015
         ],
         "title": {
          "font": {
           "size": 12
          },
          "text": "business expenditure change year-on-year"
         }
        },
        "yaxis16": {
         "anchor": "x16",
         "domain": [
          0.4752066115702479,
          0.524793388429752
         ],
         "title": {
          "font": {
           "size": 12
          },
          "text": "Information Media and Telecommunications"
         }
        },
        "yaxis17": {
         "anchor": "x17",
         "domain": [
          0.4752066115702479,
          0.524793388429752
         ],
         "title": {
          "font": {
           "size": 12
          }
         }
        },
        "yaxis18": {
         "anchor": "x18",
         "domain": [
          0.4752066115702479,
          0.524793388429752
         ],
         "title": {
          "font": {
           "size": 12
          },
          "text": "business expenditure change year-on-year"
         }
        },
        "yaxis19": {
         "anchor": "x19",
         "domain": [
          0.3801652892561983,
          0.42975206611570244
         ],
         "title": {
          "font": {
           "size": 12
          },
          "text": "Manufacturing"
         }
        },
        "yaxis2": {
         "anchor": "x2",
         "domain": [
          0.9504132231404958,
          0.9999999999999999
         ],
         "title": {
          "font": {
           "size": 12
          }
         }
        },
        "yaxis20": {
         "anchor": "x20",
         "domain": [
          0.3801652892561983,
          0.42975206611570244
         ],
         "title": {
          "font": {
           "size": 12
          }
         }
        },
        "yaxis21": {
         "anchor": "x21",
         "domain": [
          0.3801652892561983,
          0.42975206611570244
         ],
         "title": {
          "font": {
           "size": 12
          },
          "text": "business expenditure change year-on-year"
         }
        },
        "yaxis22": {
         "anchor": "x22",
         "domain": [
          0.2851239669421487,
          0.33471074380165283
         ],
         "title": {
          "font": {
           "size": 12
          },
          "text": "Mining"
         }
        },
        "yaxis23": {
         "anchor": "x23",
         "domain": [
          0.2851239669421487,
          0.33471074380165283
         ],
         "title": {
          "font": {
           "size": 12
          }
         }
        },
        "yaxis24": {
         "anchor": "x24",
         "domain": [
          0.2851239669421487,
          0.33471074380165283
         ],
         "title": {
          "font": {
           "size": 12
          },
          "text": "business expenditure change year-on-year"
         }
        },
        "yaxis25": {
         "anchor": "x25",
         "domain": [
          0.19008264462809915,
          0.23966942148760328
         ],
         "title": {
          "font": {
           "size": 12
          },
          "text": "Rental, Hiring and Real Estate Services"
         }
        },
        "yaxis26": {
         "anchor": "x26",
         "domain": [
          0.19008264462809915,
          0.23966942148760328
         ],
         "title": {
          "font": {
           "size": 12
          }
         }
        },
        "yaxis27": {
         "anchor": "x27",
         "domain": [
          0.19008264462809915,
          0.23966942148760328
         ],
         "title": {
          "font": {
           "size": 12
          },
          "text": "business expenditure change year-on-year"
         }
        },
        "yaxis28": {
         "anchor": "x28",
         "domain": [
          0.09504132231404958,
          0.1446280991735537
         ],
         "title": {
          "font": {
           "size": 12
          },
          "text": "Transport, Postal and Warehousing"
         }
        },
        "yaxis29": {
         "anchor": "x29",
         "domain": [
          0.09504132231404958,
          0.1446280991735537
         ],
         "title": {
          "font": {
           "size": 12
          }
         }
        },
        "yaxis3": {
         "anchor": "x3",
         "domain": [
          0.9504132231404958,
          0.9999999999999999
         ],
         "title": {
          "font": {
           "size": 12
          },
          "text": "business expenditure change year-on-year"
         }
        },
        "yaxis30": {
         "anchor": "x30",
         "domain": [
          0.09504132231404958,
          0.1446280991735537
         ],
         "title": {
          "font": {
           "size": 12
          },
          "text": "business expenditure change year-on-year"
         }
        },
        "yaxis31": {
         "anchor": "x31",
         "domain": [
          0,
          0.04958677685950413
         ],
         "title": {
          "font": {
           "size": 12
          },
          "text": "Wholesale Trade"
         }
        },
        "yaxis32": {
         "anchor": "x32",
         "domain": [
          0,
          0.04958677685950413
         ],
         "title": {
          "font": {
           "size": 12
          }
         }
        },
        "yaxis33": {
         "anchor": "x33",
         "domain": [
          0,
          0.04958677685950413
         ],
         "title": {
          "font": {
           "size": 12
          },
          "text": "business expenditure change year-on-year"
         }
        },
        "yaxis4": {
         "anchor": "x4",
         "domain": [
          0.8553719008264462,
          0.9049586776859503
         ],
         "title": {
          "font": {
           "size": 12
          },
          "text": "Construction"
         }
        },
        "yaxis5": {
         "anchor": "x5",
         "domain": [
          0.8553719008264462,
          0.9049586776859503
         ],
         "title": {
          "font": {
           "size": 12
          }
         }
        },
        "yaxis6": {
         "anchor": "x6",
         "domain": [
          0.8553719008264462,
          0.9049586776859503
         ],
         "title": {
          "font": {
           "size": 12
          },
          "text": "business expenditure change year-on-year"
         }
        },
        "yaxis7": {
         "anchor": "x7",
         "domain": [
          0.7603305785123966,
          0.8099173553719007
         ],
         "title": {
          "font": {
           "size": 12
          },
          "text": "Education and Training"
         }
        },
        "yaxis8": {
         "anchor": "x8",
         "domain": [
          0.7603305785123966,
          0.8099173553719007
         ],
         "title": {
          "font": {
           "size": 12
          }
         }
        },
        "yaxis9": {
         "anchor": "x9",
         "domain": [
          0.7603305785123966,
          0.8099173553719007
         ],
         "title": {
          "font": {
           "size": 12
          },
          "text": "business expenditure change year-on-year"
         }
        }
       }
      }
     },
     "metadata": {},
     "output_type": "display_data"
    }
   ],
   "source": [
    "explore_correlations(df_bus_metric_corr, 'industry', 'year_time', 'year', 'profits_yearly_change', 'business profits change', 'expenditure_yearly_change', 'business expenditure change')"
   ]
  },
  {
   "cell_type": "markdown",
   "id": "380483d0",
   "metadata": {},
   "source": [
    "![profits-expenditure](./assets/profits_expenditure.png)"
   ]
  },
  {
   "cell_type": "markdown",
   "id": "246388a4",
   "metadata": {},
   "source": [
    "#### business profits - business salaries correlation"
   ]
  },
  {
   "cell_type": "code",
   "execution_count": 22,
   "id": "5b1ae140",
   "metadata": {},
   "outputs": [
    {
     "data": {
      "application/vnd.plotly.v1+json": {
       "config": {
        "plotlyServerURL": "https://plot.ly"
       },
       "data": [
        {
         "marker": {
          "color": "#002F6B"
         },
         "name": "business profits change year-on-year",
         "type": "bar",
         "x": [
          "2018-01-01T00:00:00.000000000",
          "2019-01-01T00:00:00.000000000",
          "2020-01-01T00:00:00.000000000",
          "2021-01-01T00:00:00.000000000",
          "2022-01-01T00:00:00.000000000",
          "2023-01-01T00:00:00.000000000"
         ],
         "xaxis": "x",
         "y": {
          "bdata": "pHA9CtejsD+HFtnO91PDv8uhRbbz/aS/rkfhehSuxz9g5dAi2/nOv1pkO99PjZe/",
          "dtype": "f8"
         },
         "yaxis": "y",
         "zorder": 1
        },
        {
         "marker": {
          "color": "#002F6B"
         },
         "name": "business salaries change year-on-year",
         "type": "bar",
         "x": [
          "2018-01-01T00:00:00.000000000",
          "2019-01-01T00:00:00.000000000",
          "2020-01-01T00:00:00.000000000",
          "2021-01-01T00:00:00.000000000",
          "2022-01-01T00:00:00.000000000",
          "2023-01-01T00:00:00.000000000"
         ],
         "xaxis": "x2",
         "y": {
          "bdata": "SgwCK4cWuT8rhxbZzvezP7gehetRuJ4/y6FFtvP9tD85tMh2vp+qP4ts5/up8bI/",
          "dtype": "f8"
         },
         "yaxis": "y2",
         "zorder": 1
        },
        {
         "marker": {
          "color": "#002F6B"
         },
         "mode": "markers",
         "name": "business profits change-business salaries change correlation",
         "type": "scatter",
         "x": {
          "bdata": "pHA9CtejsD+HFtnO91PDv8uhRbbz/aS/rkfhehSuxz9g5dAi2/nOv1pkO99PjZe/",
          "dtype": "f8"
         },
         "xaxis": "x3",
         "y": {
          "bdata": "SgwCK4cWuT8rhxbZzvezP7gehetRuJ4/y6FFtvP9tD85tMh2vp+qP4ts5/up8bI/",
          "dtype": "f8"
         },
         "yaxis": "y3",
         "zorder": 1
        },
        {
         "line": {
          "color": "#FAA61A",
          "dash": "solid"
         },
         "mode": "lines",
         "name": "Agriculture, Forestry and Fishing Fit",
         "showlegend": false,
         "type": "scatter",
         "x": {
          "bdata": "pHA9CtejsD+HFtnO91PDv8uhRbbz/aS/rkfhehSuxz9g5dAi2/nOv1pkO99PjZe/",
          "dtype": "f8"
         },
         "xaxis": "x3",
         "y": {
          "bdata": "vTiR5ReOsz/epq0zU+auP/OsG9hbirE/k1TcnfHVtT9AVtWG0XCrP7qKwLPv4bE/",
          "dtype": "f8"
         },
         "yaxis": "y3"
        },
        {
         "marker": {
          "color": "#002F6B"
         },
         "name": "business profits change year-on-year",
         "type": "bar",
         "x": [
          "2018-01-01T00:00:00.000000000",
          "2019-01-01T00:00:00.000000000",
          "2020-01-01T00:00:00.000000000",
          "2021-01-01T00:00:00.000000000",
          "2022-01-01T00:00:00.000000000",
          "2023-01-01T00:00:00.000000000"
         ],
         "xaxis": "x4",
         "y": {
          "bdata": "kxgEVg4tsj8v3SQGgZXDP3npJjEIrJy/UI2XbhKDwD+6SQwCK4e2P/YoXI/C9cg/",
          "dtype": "f8"
         },
         "yaxis": "y4",
         "zorder": 1
        },
        {
         "marker": {
          "color": "#002F6B"
         },
         "name": "business salaries change year-on-year",
         "type": "bar",
         "x": [
          "2018-01-01T00:00:00.000000000",
          "2019-01-01T00:00:00.000000000",
          "2020-01-01T00:00:00.000000000",
          "2021-01-01T00:00:00.000000000",
          "2022-01-01T00:00:00.000000000",
          "2023-01-01T00:00:00.000000000"
         ],
         "xaxis": "x5",
         "y": {
          "bdata": "WmQ730+Ntz9zaJHtfD+1PyuHFtnO96M/nMQgsHJowT9YObTIdr6/P6JFtvP91Lg/",
          "dtype": "f8"
         },
         "yaxis": "y5",
         "zorder": 1
        },
        {
         "marker": {
          "color": "#002F6B"
         },
         "mode": "markers",
         "name": "business profits change-business salaries change correlation",
         "type": "scatter",
         "x": {
          "bdata": "kxgEVg4tsj8v3SQGgZXDP3npJjEIrJy/UI2XbhKDwD+6SQwCK4e2P/YoXI/C9cg/",
          "dtype": "f8"
         },
         "xaxis": "x6",
         "y": {
          "bdata": "WmQ730+Ntz9zaJHtfD+1PyuHFtnO96M/nMQgsHJowT9YObTIdr6/P6JFtvP91Lg/",
          "dtype": "f8"
         },
         "yaxis": "y6",
         "zorder": 1
        },
        {
         "line": {
          "color": "#FAA61A",
          "dash": "solid"
         },
         "mode": "lines",
         "name": "Construction Fit",
         "showlegend": false,
         "type": "scatter",
         "x": {
          "bdata": "kxgEVg4tsj8v3SQGgZXDP3npJjEIrJy/UI2XbhKDwD+6SQwCK4e2P/YoXI/C9cg/",
          "dtype": "f8"
         },
         "xaxis": "x6",
         "y": {
          "bdata": "7tGulJJitj9cAsq7K7u7P8HdmCh73K8/xpyDAZsquj+OBPZtTn63PyQ0xQEpeL4/",
          "dtype": "f8"
         },
         "yaxis": "y6"
        },
        {
         "marker": {
          "color": "#002F6B"
         },
         "name": "business profits change year-on-year",
         "type": "bar",
         "x": [
          "2018-01-01T00:00:00.000000000",
          "2019-01-01T00:00:00.000000000",
          "2020-01-01T00:00:00.000000000",
          "2021-01-01T00:00:00.000000000",
          "2022-01-01T00:00:00.000000000",
          "2023-01-01T00:00:00.000000000"
         ],
         "xaxis": "x7",
         "y": {
          "bdata": "2c73U+Olyz+4HoXrUbi+P/p+arx0k7i/qMZLN4lB0D9OYhBYObTIv4/C9Shcj9I/",
          "dtype": "f8"
         },
         "yaxis": "y7",
         "zorder": 1
        },
        {
         "marker": {
          "color": "#002F6B"
         },
         "name": "business salaries change year-on-year",
         "type": "bar",
         "x": [
          "2018-01-01T00:00:00.000000000",
          "2019-01-01T00:00:00.000000000",
          "2020-01-01T00:00:00.000000000",
          "2021-01-01T00:00:00.000000000",
          "2022-01-01T00:00:00.000000000",
          "2023-01-01T00:00:00.000000000"
         ],
         "xaxis": "x8",
         "y": {
          "bdata": "ukkMAiuHtj+cxCCwcmixP9v5fmq8dJM/2/l+arx0sz/sUbgeheuhP1TjpZvEIMA/",
          "dtype": "f8"
         },
         "yaxis": "y8",
         "zorder": 1
        },
        {
         "marker": {
          "color": "#002F6B"
         },
         "mode": "markers",
         "name": "business profits change-business salaries change correlation",
         "type": "scatter",
         "x": {
          "bdata": "2c73U+Olyz+4HoXrUbi+P/p+arx0k7i/qMZLN4lB0D9OYhBYObTIv4/C9Shcj9I/",
          "dtype": "f8"
         },
         "xaxis": "x9",
         "y": {
          "bdata": "ukkMAiuHtj+cxCCwcmixP9v5fmq8dJM/2/l+arx0sz/sUbgeheuhP1TjpZvEIMA/",
          "dtype": "f8"
         },
         "yaxis": "y9",
         "zorder": 1
        },
        {
         "line": {
          "color": "#FAA61A",
          "dash": "solid"
         },
         "mode": "lines",
         "name": "Education and Training Fit",
         "showlegend": false,
         "type": "scatter",
         "x": {
          "bdata": "2c73U+Olyz+4HoXrUbi+P/p+arx0k7i/qMZLN4lB0D9OYhBYObTIv4/C9Shcj9I/",
          "dtype": "f8"
         },
         "xaxis": "x9",
         "y": {
          "bdata": "cPd0SCi5tj85qUMEIIWyP3xyqdUaIKI/unvIOBZjuD8wngvtPkOTPw75WlKZ9rk/",
          "dtype": "f8"
         },
         "yaxis": "y9"
        },
        {
         "marker": {
          "color": "#002F6B"
         },
         "name": "business profits change year-on-year",
         "type": "bar",
         "x": [
          "2018-01-01T00:00:00.000000000",
          "2019-01-01T00:00:00.000000000",
          "2020-01-01T00:00:00.000000000",
          "2021-01-01T00:00:00.000000000",
          "2022-01-01T00:00:00.000000000",
          "2023-01-01T00:00:00.000000000"
         ],
         "xaxis": "x10",
         "y": {
          "bdata": "/Knx0k1isD+6SQwCK4eGP+kmMQisHKq/2c73U+Olm79aZDvfT423PyuHFtnO97M/",
          "dtype": "f8"
         },
         "yaxis": "y10",
         "zorder": 1
        },
        {
         "marker": {
          "color": "#002F6B"
         },
         "name": "business salaries change year-on-year",
         "type": "bar",
         "x": [
          "2018-01-01T00:00:00.000000000",
          "2019-01-01T00:00:00.000000000",
          "2020-01-01T00:00:00.000000000",
          "2021-01-01T00:00:00.000000000",
          "2022-01-01T00:00:00.000000000",
          "2023-01-01T00:00:00.000000000"
         ],
         "xaxis": "x11",
         "y": {
          "bdata": "CtejcD0Ktz9qvHSTGASmP0w3iUFg5bA/46WbxCCwsj+q8dJNYhC4Pylcj8L1KLw/",
          "dtype": "f8"
         },
         "yaxis": "y11",
         "zorder": 1
        },
        {
         "marker": {
          "color": "#002F6B"
         },
         "mode": "markers",
         "name": "business profits change-business salaries change correlation",
         "type": "scatter",
         "x": {
          "bdata": "/Knx0k1isD+6SQwCK4eGP+kmMQisHKq/2c73U+Olm79aZDvfT423PyuHFtnO97M/",
          "dtype": "f8"
         },
         "xaxis": "x12",
         "y": {
          "bdata": "CtejcD0Ktz9qvHSTGASmP0w3iUFg5bA/46WbxCCwsj+q8dJNYhC4Pylcj8L1KLw/",
          "dtype": "f8"
         },
         "yaxis": "y12",
         "zorder": 1
        },
        {
         "line": {
          "color": "#FAA61A",
          "dash": "solid"
         },
         "mode": "lines",
         "name": "Electricity, Gas, Water and Waste Services Fit",
         "showlegend": false,
         "type": "scatter",
         "x": {
          "bdata": "/Knx0k1isD+6SQwCK4eGP+kmMQisHKq/2c73U+Olm79aZDvfT423PyuHFtnO97M/",
          "dtype": "f8"
         },
         "xaxis": "x12",
         "y": {
          "bdata": "vHvhm4Xltj8WSFor6hqzP1r6DZP5Vq0/NTun9wFjsD9vGQenS+a4P5VKdKHo5bc/",
          "dtype": "f8"
         },
         "yaxis": "y12"
        },
        {
         "marker": {
          "color": "#002F6B"
         },
         "name": "business profits change year-on-year",
         "type": "bar",
         "x": [
          "2018-01-01T00:00:00.000000000",
          "2019-01-01T00:00:00.000000000",
          "2020-01-01T00:00:00.000000000",
          "2021-01-01T00:00:00.000000000",
          "2022-01-01T00:00:00.000000000",
          "2023-01-01T00:00:00.000000000"
         ],
         "xaxis": "x13",
         "y": {
          "bdata": "i2zn+6nxsj8OLbKd76fGP2ZmZmZmZsY//Knx0k1ikL+JQWDl0CKrvxkEVg4tsr0/",
          "dtype": "f8"
         },
         "yaxis": "y13",
         "zorder": 1
        },
        {
         "marker": {
          "color": "#002F6B"
         },
         "name": "business salaries change year-on-year",
         "type": "bar",
         "x": [
          "2018-01-01T00:00:00.000000000",
          "2019-01-01T00:00:00.000000000",
          "2020-01-01T00:00:00.000000000",
          "2021-01-01T00:00:00.000000000",
          "2022-01-01T00:00:00.000000000",
          "2023-01-01T00:00:00.000000000"
         ],
         "xaxis": "x14",
         "y": {
          "bdata": "ke18PzVeuj8j2/l+ary0PxkEVg4tsq0/TDeJQWDlwD8Sg8DKoUW2PzEIrBxaZLs/",
          "dtype": "f8"
         },
         "yaxis": "y14",
         "zorder": 1
        },
        {
         "marker": {
          "color": "#002F6B"
         },
         "mode": "markers",
         "name": "business profits change-business salaries change correlation",
         "type": "scatter",
         "x": {
          "bdata": "i2zn+6nxsj8OLbKd76fGP2ZmZmZmZsY//Knx0k1ikL+JQWDl0CKrvxkEVg4tsr0/",
          "dtype": "f8"
         },
         "xaxis": "x15",
         "y": {
          "bdata": "ke18PzVeuj8j2/l+ary0PxkEVg4tsq0/TDeJQWDlwD8Sg8DKoUW2PzEIrBxaZLs/",
          "dtype": "f8"
         },
         "yaxis": "y15",
         "zorder": 1
        },
        {
         "line": {
          "color": "#FAA61A",
          "dash": "solid"
         },
         "mode": "lines",
         "name": "Health Care and Social Assistance Fit",
         "showlegend": false,
         "type": "scatter",
         "x": {
          "bdata": "i2zn+6nxsj8OLbKd76fGP2ZmZmZmZsY//Knx0k1ikL+JQWDl0CKrvxkEVg4tsr0/",
          "dtype": "f8"
         },
         "xaxis": "x15",
         "y": {
          "bdata": "oVtqrnNruD/EJW6+03m0Pw6oCnZujbQ/nULt9KXduz/0rLw5VEi9P5Grk57Cz7Y/",
          "dtype": "f8"
         },
         "yaxis": "y15"
        },
        {
         "marker": {
          "color": "#002F6B"
         },
         "name": "business profits change year-on-year",
         "type": "bar",
         "x": [
          "2018-01-01T00:00:00.000000000",
          "2019-01-01T00:00:00.000000000",
          "2020-01-01T00:00:00.000000000",
          "2021-01-01T00:00:00.000000000",
          "2022-01-01T00:00:00.000000000",
          "2023-01-01T00:00:00.000000000"
         ],
         "xaxis": "x16",
         "y": {
          "bdata": "RIts5/upsT8xCKwcWmS7v4PAyqFFtrM/ukkMAiuHpj/8qfHSTWLAv6rx0k1iELg/",
          "dtype": "f8"
         },
         "yaxis": "y16",
         "zorder": 1
        },
        {
         "marker": {
          "color": "#002F6B"
         },
         "name": "business salaries change year-on-year",
         "type": "bar",
         "x": [
          "2018-01-01T00:00:00.000000000",
          "2019-01-01T00:00:00.000000000",
          "2020-01-01T00:00:00.000000000",
          "2021-01-01T00:00:00.000000000",
          "2022-01-01T00:00:00.000000000",
          "2023-01-01T00:00:00.000000000"
         ],
         "xaxis": "x17",
         "y": {
          "bdata": "ukkMAiuHhr9aZDvfT42nPxsv3SQGgZU/O99PjZduoj9Ei2zn+6mxP4lBYOXQIqs/",
          "dtype": "f8"
         },
         "yaxis": "y17",
         "zorder": 1
        },
        {
         "marker": {
          "color": "#002F6B"
         },
         "mode": "markers",
         "name": "business profits change-business salaries change correlation",
         "type": "scatter",
         "x": {
          "bdata": "RIts5/upsT8xCKwcWmS7v4PAyqFFtrM/ukkMAiuHpj/8qfHSTWLAv6rx0k1iELg/",
          "dtype": "f8"
         },
         "xaxis": "x18",
         "y": {
          "bdata": "ukkMAiuHhr9aZDvfT42nPxsv3SQGgZU/O99PjZduoj9Ei2zn+6mxP4lBYOXQIqs/",
          "dtype": "f8"
         },
         "yaxis": "y18",
         "zorder": 1
        },
        {
         "line": {
          "color": "#FAA61A",
          "dash": "solid"
         },
         "mode": "lines",
         "name": "Information Media and Telecommunications Fit",
         "showlegend": false,
         "type": "scatter",
         "x": {
          "bdata": "RIts5/upsT8xCKwcWmS7v4PAyqFFtrM/ukkMAiuHpj/8qfHSTWLAv6rx0k1iELg/",
          "dtype": "f8"
         },
         "xaxis": "x18",
         "y": {
          "bdata": "IKKztkM7mj+X2ZWwsACsP4hbaADO4Jg/ut5ekPN1nj8+ptgva8etP4RlCN2TAJY/",
          "dtype": "f8"
         },
         "yaxis": "y18"
        },
        {
         "marker": {
          "color": "#002F6B"
         },
         "name": "business profits change year-on-year",
         "type": "bar",
         "x": [
          "2018-01-01T00:00:00.000000000",
          "2019-01-01T00:00:00.000000000",
          "2020-01-01T00:00:00.000000000",
          "2021-01-01T00:00:00.000000000",
          "2022-01-01T00:00:00.000000000",
          "2023-01-01T00:00:00.000000000"
         ],
         "xaxis": "x19",
         "y": {
          "bdata": "6SYxCKwcqr8K16NwPQqnvwAAAAAAAMA/sp3vp8ZLt7/0/dR46SbRP4ts5/up8bK/",
          "dtype": "f8"
         },
         "yaxis": "y19",
         "zorder": 1
        },
        {
         "marker": {
          "color": "#002F6B"
         },
         "name": "business salaries change year-on-year",
         "type": "bar",
         "x": [
          "2018-01-01T00:00:00.000000000",
          "2019-01-01T00:00:00.000000000",
          "2020-01-01T00:00:00.000000000",
          "2021-01-01T00:00:00.000000000",
          "2022-01-01T00:00:00.000000000",
          "2023-01-01T00:00:00.000000000"
         ],
         "xaxis": "x20",
         "y": {
          "bdata": "6SYxCKwcqj/b+X5qvHSjP9v5fmq8dJM/2c73U+Olqz/TTWIQWDm0P2iR7Xw/Na4/",
          "dtype": "f8"
         },
         "yaxis": "y20",
         "zorder": 1
        },
        {
         "marker": {
          "color": "#002F6B"
         },
         "mode": "markers",
         "name": "business profits change-business salaries change correlation",
         "type": "scatter",
         "x": {
          "bdata": "6SYxCKwcqr8K16NwPQqnvwAAAAAAAMA/sp3vp8ZLt7/0/dR46SbRP4ts5/up8bK/",
          "dtype": "f8"
         },
         "xaxis": "x21",
         "y": {
          "bdata": "6SYxCKwcqj/b+X5qvHSjP9v5fmq8dJM/2c73U+Olqz/TTWIQWDm0P2iR7Xw/Na4/",
          "dtype": "f8"
         },
         "yaxis": "y21",
         "zorder": 1
        },
        {
         "line": {
          "color": "#FAA61A",
          "dash": "solid"
         },
         "mode": "lines",
         "name": "Manufacturing Fit",
         "showlegend": false,
         "type": "scatter",
         "x": {
          "bdata": "6SYxCKwcqr8K16NwPQqnvwAAAAAAAMA/sp3vp8ZLt7/0/dR46SbRP4ts5/up8bK/",
          "dtype": "f8"
         },
         "xaxis": "x21",
         "y": {
          "bdata": "20eRvZ9hqD81kcYORHuoPx1arAvJUas/hgkuoK22pz/zWCKb6rStPwQERYZU/6c/",
          "dtype": "f8"
         },
         "yaxis": "y21"
        },
        {
         "marker": {
          "color": "#002F6B"
         },
         "name": "business profits change year-on-year",
         "type": "bar",
         "x": [
          "2018-01-01T00:00:00.000000000",
          "2019-01-01T00:00:00.000000000",
          "2020-01-01T00:00:00.000000000",
          "2021-01-01T00:00:00.000000000",
          "2022-01-01T00:00:00.000000000",
          "2023-01-01T00:00:00.000000000"
         ],
         "xaxis": "x22",
         "y": {
          "bdata": "oBov3SQGwT+6SQwCK4eGP5MYBFYOLdK/kxgEVg4t0j9KDAIrhxbRP+f7qfHSTcK/",
          "dtype": "f8"
         },
         "yaxis": "y22",
         "zorder": 1
        },
        {
         "marker": {
          "color": "#002F6B"
         },
         "name": "business salaries change year-on-year",
         "type": "bar",
         "x": [
          "2018-01-01T00:00:00.000000000",
          "2019-01-01T00:00:00.000000000",
          "2020-01-01T00:00:00.000000000",
          "2021-01-01T00:00:00.000000000",
          "2022-01-01T00:00:00.000000000",
          "2023-01-01T00:00:00.000000000"
         ],
         "xaxis": "x23",
         "y": {
          "bdata": "/Knx0k1ioL/6fmq8dJOoP1pkO99Pjbe/c2iR7Xw/tT9I4XoUrkfBP6JFtvP91Lg/",
          "dtype": "f8"
         },
         "yaxis": "y23",
         "zorder": 1
        },
        {
         "marker": {
          "color": "#002F6B"
         },
         "mode": "markers",
         "name": "business profits change-business salaries change correlation",
         "type": "scatter",
         "x": {
          "bdata": "oBov3SQGwT+6SQwCK4eGP5MYBFYOLdK/kxgEVg4t0j9KDAIrhxbRP+f7qfHSTcK/",
          "dtype": "f8"
         },
         "xaxis": "x24",
         "y": {
          "bdata": "/Knx0k1ioL/6fmq8dJOoP1pkO99Pjbe/c2iR7Xw/tT9I4XoUrkfBP6JFtvP91Lg/",
          "dtype": "f8"
         },
         "yaxis": "y24",
         "zorder": 1
        },
        {
         "line": {
          "color": "#FAA61A",
          "dash": "solid"
         },
         "mode": "lines",
         "name": "Mining Fit",
         "showlegend": false,
         "type": "scatter",
         "x": {
          "bdata": "oBov3SQGwT+6SQwCK4eGP5MYBFYOLdK/kxgEVg4t0j9KDAIrhxbRP+f7qfHSTcK/",
          "dtype": "f8"
         },
         "xaxis": "x24",
         "y": {
          "bdata": "iG1coDtvrj96/c8dc5GgPxMJTecK9qC/4KF6lmjMtz8kRs9rFtW2P6CNyH6T7V2/",
          "dtype": "f8"
         },
         "yaxis": "y24"
        },
        {
         "marker": {
          "color": "#002F6B"
         },
         "name": "business profits change year-on-year",
         "type": "bar",
         "x": [
          "2018-01-01T00:00:00.000000000",
          "2019-01-01T00:00:00.000000000",
          "2020-01-01T00:00:00.000000000",
          "2021-01-01T00:00:00.000000000",
          "2022-01-01T00:00:00.000000000",
          "2023-01-01T00:00:00.000000000"
         ],
         "xaxis": "x25",
         "y": {
          "bdata": "46WbxCCwsj/jpZvEILCyv6jGSzeJQcA/SgwCK4cWuT8rhxbZzvfDvzm0yHa+n7o/",
          "dtype": "f8"
         },
         "yaxis": "y25",
         "zorder": 1
        },
        {
         "marker": {
          "color": "#002F6B"
         },
         "name": "business salaries change year-on-year",
         "type": "bar",
         "x": [
          "2018-01-01T00:00:00.000000000",
          "2019-01-01T00:00:00.000000000",
          "2020-01-01T00:00:00.000000000",
          "2021-01-01T00:00:00.000000000",
          "2022-01-01T00:00:00.000000000",
          "2023-01-01T00:00:00.000000000"
         ],
         "xaxis": "x26",
         "y": {
          "bdata": "sp3vp8ZLtz956SYxCKysP/yp8dJNYpC/YhBYObTItj9U46WbxCDAP3npJjEIrHw/",
          "dtype": "f8"
         },
         "yaxis": "y26",
         "zorder": 1
        },
        {
         "marker": {
          "color": "#002F6B"
         },
         "mode": "markers",
         "name": "business profits change-business salaries change correlation",
         "type": "scatter",
         "x": {
          "bdata": "46WbxCCwsj/jpZvEILCyv6jGSzeJQcA/SgwCK4cWuT8rhxbZzvfDvzm0yHa+n7o/",
          "dtype": "f8"
         },
         "xaxis": "x27",
         "y": {
          "bdata": "sp3vp8ZLtz956SYxCKysP/yp8dJNYpC/YhBYObTItj9U46WbxCDAP3npJjEIrHw/",
          "dtype": "f8"
         },
         "yaxis": "y27",
         "zorder": 1
        },
        {
         "line": {
          "color": "#FAA61A",
          "dash": "solid"
         },
         "mode": "lines",
         "name": "Rental, Hiring and Real Estate Services Fit",
         "showlegend": false,
         "type": "scatter",
         "x": {
          "bdata": "46WbxCCwsj/jpZvEILCyv6jGSzeJQcA/SgwCK4cWuT8rhxbZzvfDvzm0yHa+n7o/",
          "dtype": "f8"
         },
         "xaxis": "x27",
         "y": {
          "bdata": "gPxOONtfpz+eZfTWRNe2PwRET3hfP54/WNcW+v+Noz+Irf+zgi69PxI/hHpQo6I/",
          "dtype": "f8"
         },
         "yaxis": "y27"
        },
        {
         "marker": {
          "color": "#002F6B"
         },
         "name": "business profits change year-on-year",
         "type": "bar",
         "x": [
          "2018-01-01T00:00:00.000000000",
          "2019-01-01T00:00:00.000000000",
          "2020-01-01T00:00:00.000000000",
          "2021-01-01T00:00:00.000000000",
          "2022-01-01T00:00:00.000000000",
          "2023-01-01T00:00:00.000000000"
         ],
         "xaxis": "x28",
         "y": {
          "bdata": "nMQgsHJokT8IrBxaZDuvP5qZmZmZmcm/4XoUrkfhyj+wcmiR7XzPP4PAyqFFtrO/",
          "dtype": "f8"
         },
         "yaxis": "y28",
         "zorder": 1
        },
        {
         "marker": {
          "color": "#002F6B"
         },
         "name": "business salaries change year-on-year",
         "type": "bar",
         "x": [
          "2018-01-01T00:00:00.000000000",
          "2019-01-01T00:00:00.000000000",
          "2020-01-01T00:00:00.000000000",
          "2021-01-01T00:00:00.000000000",
          "2022-01-01T00:00:00.000000000",
          "2023-01-01T00:00:00.000000000"
         ],
         "xaxis": "x29",
         "y": {
          "bdata": "ObTIdr6fqj8IrBxaZDuvP4lBYOXQIru/SgwCK4cWqT8rhxbZzvfDP1TjpZvEIMA/",
          "dtype": "f8"
         },
         "yaxis": "y29",
         "zorder": 1
        },
        {
         "marker": {
          "color": "#002F6B"
         },
         "mode": "markers",
         "name": "business profits change-business salaries change correlation",
         "type": "scatter",
         "x": {
          "bdata": "nMQgsHJokT8IrBxaZDuvP5qZmZmZmcm/4XoUrkfhyj+wcmiR7XzPP4PAyqFFtrO/",
          "dtype": "f8"
         },
         "xaxis": "x30",
         "y": {
          "bdata": "ObTIdr6fqj8IrBxaZDuvP4lBYOXQIru/SgwCK4cWqT8rhxbZzvfDP1TjpZvEIMA/",
          "dtype": "f8"
         },
         "yaxis": "y30",
         "zorder": 1
        },
        {
         "line": {
          "color": "#FAA61A",
          "dash": "solid"
         },
         "mode": "lines",
         "name": "Transport, Postal and Warehousing Fit",
         "showlegend": false,
         "type": "scatter",
         "x": {
          "bdata": "nMQgsHJokT8IrBxaZDuvP5qZmZmZmcm/4XoUrkfhyj+wcmiR7XzPP4PAyqFFtrO/",
          "dtype": "f8"
         },
         "xaxis": "x30",
         "y": {
          "bdata": "BIxtb281qD9hhvur+QywP+y6n9zBbp2/0RHNMhNqvT+b1zwgU1LAP0hY2RGFY40/",
          "dtype": "f8"
         },
         "yaxis": "y30"
        },
        {
         "marker": {
          "color": "#002F6B"
         },
         "name": "business profits change year-on-year",
         "type": "bar",
         "x": [
          "2018-01-01T00:00:00.000000000",
          "2019-01-01T00:00:00.000000000",
          "2020-01-01T00:00:00.000000000",
          "2021-01-01T00:00:00.000000000",
          "2022-01-01T00:00:00.000000000",
          "2023-01-01T00:00:00.000000000"
         ],
         "xaxis": "x31",
         "y": {
          "bdata": "O99PjZdugj/0/dR46SaxP5zEILByaNE/mpmZmZmZmb8K16NwPQqnPzm0yHa+n5o/",
          "dtype": "f8"
         },
         "yaxis": "y31",
         "zorder": 1
        },
        {
         "marker": {
          "color": "#002F6B"
         },
         "name": "business salaries change year-on-year",
         "type": "bar",
         "x": [
          "2018-01-01T00:00:00.000000000",
          "2019-01-01T00:00:00.000000000",
          "2020-01-01T00:00:00.000000000",
          "2021-01-01T00:00:00.000000000",
          "2022-01-01T00:00:00.000000000",
          "2023-01-01T00:00:00.000000000"
         ],
         "xaxis": "x32",
         "y": {
          "bdata": "eekmMQisrD+q8dJNYhCoP/p+arx0k3g/CtejcD0Ktz9KDAIrhxa5Pylcj8L1KKw/",
          "dtype": "f8"
         },
         "yaxis": "y32",
         "zorder": 1
        },
        {
         "marker": {
          "color": "#002F6B"
         },
         "mode": "markers",
         "name": "business profits change-business salaries change correlation",
         "type": "scatter",
         "x": {
          "bdata": "O99PjZdugj/0/dR46SaxP5zEILByaNE/mpmZmZmZmb8K16NwPQqnPzm0yHa+n5o/",
          "dtype": "f8"
         },
         "xaxis": "x33",
         "y": {
          "bdata": "eekmMQisrD+q8dJNYhCoP/p+arx0k3g/CtejcD0Ktz9KDAIrhxa5Pylcj8L1KKw/",
          "dtype": "f8"
         },
         "yaxis": "y33",
         "zorder": 1
        },
        {
         "line": {
          "color": "#FAA61A",
          "dash": "solid"
         },
         "mode": "lines",
         "name": "Wholesale Trade Fit",
         "showlegend": false,
         "type": "scatter",
         "x": {
          "bdata": "O99PjZdugj/0/dR46SaxP5zEILByaNE/mpmZmZmZmb8K16NwPQqnPzm0yHa+n5o/",
          "dtype": "f8"
         },
         "xaxis": "x33",
         "y": {
          "bdata": "Z0lTuPm0sj+d0wbiH92tPzADS+6pbHk/wSRNWX7rtD8JQ9L+IV2wP7tb1me3mbE/",
          "dtype": "f8"
         },
         "yaxis": "y33"
        }
       ],
       "layout": {
        "annotations": [
         {
          "font": {
           "size": 16
          },
          "showarrow": false,
          "text": "business profits change year-on-year",
          "x": 0.14444444444444446,
          "xanchor": "center",
          "xref": "paper",
          "y": 0.9999999999999999,
          "yanchor": "bottom",
          "yref": "paper"
         },
         {
          "font": {
           "size": 16
          },
          "showarrow": false,
          "text": "business salaries change year-on-year",
          "x": 0.5,
          "xanchor": "center",
          "xref": "paper",
          "y": 0.9999999999999999,
          "yanchor": "bottom",
          "yref": "paper"
         },
         {
          "font": {
           "size": 16
          },
          "showarrow": false,
          "text": "business profits change-business salaries change correlation",
          "x": 0.8555555555555556,
          "xanchor": "center",
          "xref": "paper",
          "y": 0.9999999999999999,
          "yanchor": "bottom",
          "yref": "paper"
         }
        ],
        "height": 5000,
        "showlegend": false,
        "template": {
         "data": {
          "bar": [
           {
            "error_x": {
             "color": "#2a3f5f"
            },
            "error_y": {
             "color": "#2a3f5f"
            },
            "marker": {
             "line": {
              "color": "#E5ECF6",
              "width": 0.5
             },
             "pattern": {
              "fillmode": "overlay",
              "size": 10,
              "solidity": 0.2
             }
            },
            "type": "bar"
           }
          ],
          "barpolar": [
           {
            "marker": {
             "line": {
              "color": "#E5ECF6",
              "width": 0.5
             },
             "pattern": {
              "fillmode": "overlay",
              "size": 10,
              "solidity": 0.2
             }
            },
            "type": "barpolar"
           }
          ],
          "carpet": [
           {
            "aaxis": {
             "endlinecolor": "#2a3f5f",
             "gridcolor": "white",
             "linecolor": "white",
             "minorgridcolor": "white",
             "startlinecolor": "#2a3f5f"
            },
            "baxis": {
             "endlinecolor": "#2a3f5f",
             "gridcolor": "white",
             "linecolor": "white",
             "minorgridcolor": "white",
             "startlinecolor": "#2a3f5f"
            },
            "type": "carpet"
           }
          ],
          "choropleth": [
           {
            "colorbar": {
             "outlinewidth": 0,
             "ticks": ""
            },
            "type": "choropleth"
           }
          ],
          "contour": [
           {
            "colorbar": {
             "outlinewidth": 0,
             "ticks": ""
            },
            "colorscale": [
             [
              0,
              "#0d0887"
             ],
             [
              0.1111111111111111,
              "#46039f"
             ],
             [
              0.2222222222222222,
              "#7201a8"
             ],
             [
              0.3333333333333333,
              "#9c179e"
             ],
             [
              0.4444444444444444,
              "#bd3786"
             ],
             [
              0.5555555555555556,
              "#d8576b"
             ],
             [
              0.6666666666666666,
              "#ed7953"
             ],
             [
              0.7777777777777778,
              "#fb9f3a"
             ],
             [
              0.8888888888888888,
              "#fdca26"
             ],
             [
              1,
              "#f0f921"
             ]
            ],
            "type": "contour"
           }
          ],
          "contourcarpet": [
           {
            "colorbar": {
             "outlinewidth": 0,
             "ticks": ""
            },
            "type": "contourcarpet"
           }
          ],
          "heatmap": [
           {
            "colorbar": {
             "outlinewidth": 0,
             "ticks": ""
            },
            "colorscale": [
             [
              0,
              "#0d0887"
             ],
             [
              0.1111111111111111,
              "#46039f"
             ],
             [
              0.2222222222222222,
              "#7201a8"
             ],
             [
              0.3333333333333333,
              "#9c179e"
             ],
             [
              0.4444444444444444,
              "#bd3786"
             ],
             [
              0.5555555555555556,
              "#d8576b"
             ],
             [
              0.6666666666666666,
              "#ed7953"
             ],
             [
              0.7777777777777778,
              "#fb9f3a"
             ],
             [
              0.8888888888888888,
              "#fdca26"
             ],
             [
              1,
              "#f0f921"
             ]
            ],
            "type": "heatmap"
           }
          ],
          "histogram": [
           {
            "marker": {
             "pattern": {
              "fillmode": "overlay",
              "size": 10,
              "solidity": 0.2
             }
            },
            "type": "histogram"
           }
          ],
          "histogram2d": [
           {
            "colorbar": {
             "outlinewidth": 0,
             "ticks": ""
            },
            "colorscale": [
             [
              0,
              "#0d0887"
             ],
             [
              0.1111111111111111,
              "#46039f"
             ],
             [
              0.2222222222222222,
              "#7201a8"
             ],
             [
              0.3333333333333333,
              "#9c179e"
             ],
             [
              0.4444444444444444,
              "#bd3786"
             ],
             [
              0.5555555555555556,
              "#d8576b"
             ],
             [
              0.6666666666666666,
              "#ed7953"
             ],
             [
              0.7777777777777778,
              "#fb9f3a"
             ],
             [
              0.8888888888888888,
              "#fdca26"
             ],
             [
              1,
              "#f0f921"
             ]
            ],
            "type": "histogram2d"
           }
          ],
          "histogram2dcontour": [
           {
            "colorbar": {
             "outlinewidth": 0,
             "ticks": ""
            },
            "colorscale": [
             [
              0,
              "#0d0887"
             ],
             [
              0.1111111111111111,
              "#46039f"
             ],
             [
              0.2222222222222222,
              "#7201a8"
             ],
             [
              0.3333333333333333,
              "#9c179e"
             ],
             [
              0.4444444444444444,
              "#bd3786"
             ],
             [
              0.5555555555555556,
              "#d8576b"
             ],
             [
              0.6666666666666666,
              "#ed7953"
             ],
             [
              0.7777777777777778,
              "#fb9f3a"
             ],
             [
              0.8888888888888888,
              "#fdca26"
             ],
             [
              1,
              "#f0f921"
             ]
            ],
            "type": "histogram2dcontour"
           }
          ],
          "mesh3d": [
           {
            "colorbar": {
             "outlinewidth": 0,
             "ticks": ""
            },
            "type": "mesh3d"
           }
          ],
          "parcoords": [
           {
            "line": {
             "colorbar": {
              "outlinewidth": 0,
              "ticks": ""
             }
            },
            "type": "parcoords"
           }
          ],
          "pie": [
           {
            "automargin": true,
            "type": "pie"
           }
          ],
          "scatter": [
           {
            "fillpattern": {
             "fillmode": "overlay",
             "size": 10,
             "solidity": 0.2
            },
            "type": "scatter"
           }
          ],
          "scatter3d": [
           {
            "line": {
             "colorbar": {
              "outlinewidth": 0,
              "ticks": ""
             }
            },
            "marker": {
             "colorbar": {
              "outlinewidth": 0,
              "ticks": ""
             }
            },
            "type": "scatter3d"
           }
          ],
          "scattercarpet": [
           {
            "marker": {
             "colorbar": {
              "outlinewidth": 0,
              "ticks": ""
             }
            },
            "type": "scattercarpet"
           }
          ],
          "scattergeo": [
           {
            "marker": {
             "colorbar": {
              "outlinewidth": 0,
              "ticks": ""
             }
            },
            "type": "scattergeo"
           }
          ],
          "scattergl": [
           {
            "marker": {
             "colorbar": {
              "outlinewidth": 0,
              "ticks": ""
             }
            },
            "type": "scattergl"
           }
          ],
          "scattermap": [
           {
            "marker": {
             "colorbar": {
              "outlinewidth": 0,
              "ticks": ""
             }
            },
            "type": "scattermap"
           }
          ],
          "scattermapbox": [
           {
            "marker": {
             "colorbar": {
              "outlinewidth": 0,
              "ticks": ""
             }
            },
            "type": "scattermapbox"
           }
          ],
          "scatterpolar": [
           {
            "marker": {
             "colorbar": {
              "outlinewidth": 0,
              "ticks": ""
             }
            },
            "type": "scatterpolar"
           }
          ],
          "scatterpolargl": [
           {
            "marker": {
             "colorbar": {
              "outlinewidth": 0,
              "ticks": ""
             }
            },
            "type": "scatterpolargl"
           }
          ],
          "scatterternary": [
           {
            "marker": {
             "colorbar": {
              "outlinewidth": 0,
              "ticks": ""
             }
            },
            "type": "scatterternary"
           }
          ],
          "surface": [
           {
            "colorbar": {
             "outlinewidth": 0,
             "ticks": ""
            },
            "colorscale": [
             [
              0,
              "#0d0887"
             ],
             [
              0.1111111111111111,
              "#46039f"
             ],
             [
              0.2222222222222222,
              "#7201a8"
             ],
             [
              0.3333333333333333,
              "#9c179e"
             ],
             [
              0.4444444444444444,
              "#bd3786"
             ],
             [
              0.5555555555555556,
              "#d8576b"
             ],
             [
              0.6666666666666666,
              "#ed7953"
             ],
             [
              0.7777777777777778,
              "#fb9f3a"
             ],
             [
              0.8888888888888888,
              "#fdca26"
             ],
             [
              1,
              "#f0f921"
             ]
            ],
            "type": "surface"
           }
          ],
          "table": [
           {
            "cells": {
             "fill": {
              "color": "#EBF0F8"
             },
             "line": {
              "color": "white"
             }
            },
            "header": {
             "fill": {
              "color": "#C8D4E3"
             },
             "line": {
              "color": "white"
             }
            },
            "type": "table"
           }
          ]
         },
         "layout": {
          "annotationdefaults": {
           "arrowcolor": "#2a3f5f",
           "arrowhead": 0,
           "arrowwidth": 1
          },
          "autotypenumbers": "strict",
          "coloraxis": {
           "colorbar": {
            "outlinewidth": 0,
            "ticks": ""
           }
          },
          "colorscale": {
           "diverging": [
            [
             0,
             "#8e0152"
            ],
            [
             0.1,
             "#c51b7d"
            ],
            [
             0.2,
             "#de77ae"
            ],
            [
             0.3,
             "#f1b6da"
            ],
            [
             0.4,
             "#fde0ef"
            ],
            [
             0.5,
             "#f7f7f7"
            ],
            [
             0.6,
             "#e6f5d0"
            ],
            [
             0.7,
             "#b8e186"
            ],
            [
             0.8,
             "#7fbc41"
            ],
            [
             0.9,
             "#4d9221"
            ],
            [
             1,
             "#276419"
            ]
           ],
           "sequential": [
            [
             0,
             "#0d0887"
            ],
            [
             0.1111111111111111,
             "#46039f"
            ],
            [
             0.2222222222222222,
             "#7201a8"
            ],
            [
             0.3333333333333333,
             "#9c179e"
            ],
            [
             0.4444444444444444,
             "#bd3786"
            ],
            [
             0.5555555555555556,
             "#d8576b"
            ],
            [
             0.6666666666666666,
             "#ed7953"
            ],
            [
             0.7777777777777778,
             "#fb9f3a"
            ],
            [
             0.8888888888888888,
             "#fdca26"
            ],
            [
             1,
             "#f0f921"
            ]
           ],
           "sequentialminus": [
            [
             0,
             "#0d0887"
            ],
            [
             0.1111111111111111,
             "#46039f"
            ],
            [
             0.2222222222222222,
             "#7201a8"
            ],
            [
             0.3333333333333333,
             "#9c179e"
            ],
            [
             0.4444444444444444,
             "#bd3786"
            ],
            [
             0.5555555555555556,
             "#d8576b"
            ],
            [
             0.6666666666666666,
             "#ed7953"
            ],
            [
             0.7777777777777778,
             "#fb9f3a"
            ],
            [
             0.8888888888888888,
             "#fdca26"
            ],
            [
             1,
             "#f0f921"
            ]
           ]
          },
          "colorway": [
           "#636efa",
           "#EF553B",
           "#00cc96",
           "#ab63fa",
           "#FFA15A",
           "#19d3f3",
           "#FF6692",
           "#B6E880",
           "#FF97FF",
           "#FECB52"
          ],
          "font": {
           "color": "#2a3f5f"
          },
          "geo": {
           "bgcolor": "white",
           "lakecolor": "white",
           "landcolor": "#E5ECF6",
           "showlakes": true,
           "showland": true,
           "subunitcolor": "white"
          },
          "hoverlabel": {
           "align": "left"
          },
          "hovermode": "closest",
          "mapbox": {
           "style": "light"
          },
          "paper_bgcolor": "white",
          "plot_bgcolor": "#E5ECF6",
          "polar": {
           "angularaxis": {
            "gridcolor": "white",
            "linecolor": "white",
            "ticks": ""
           },
           "bgcolor": "#E5ECF6",
           "radialaxis": {
            "gridcolor": "white",
            "linecolor": "white",
            "ticks": ""
           }
          },
          "scene": {
           "xaxis": {
            "backgroundcolor": "#E5ECF6",
            "gridcolor": "white",
            "gridwidth": 2,
            "linecolor": "white",
            "showbackground": true,
            "ticks": "",
            "zerolinecolor": "white"
           },
           "yaxis": {
            "backgroundcolor": "#E5ECF6",
            "gridcolor": "white",
            "gridwidth": 2,
            "linecolor": "white",
            "showbackground": true,
            "ticks": "",
            "zerolinecolor": "white"
           },
           "zaxis": {
            "backgroundcolor": "#E5ECF6",
            "gridcolor": "white",
            "gridwidth": 2,
            "linecolor": "white",
            "showbackground": true,
            "ticks": "",
            "zerolinecolor": "white"
           }
          },
          "shapedefaults": {
           "line": {
            "color": "#2a3f5f"
           }
          },
          "ternary": {
           "aaxis": {
            "gridcolor": "white",
            "linecolor": "white",
            "ticks": ""
           },
           "baxis": {
            "gridcolor": "white",
            "linecolor": "white",
            "ticks": ""
           },
           "bgcolor": "#E5ECF6",
           "caxis": {
            "gridcolor": "white",
            "linecolor": "white",
            "ticks": ""
           }
          },
          "title": {
           "x": 0.05
          },
          "xaxis": {
           "automargin": true,
           "gridcolor": "white",
           "linecolor": "white",
           "ticks": "",
           "title": {
            "standoff": 15
           },
           "zerolinecolor": "white",
           "zerolinewidth": 2
          },
          "yaxis": {
           "automargin": true,
           "gridcolor": "white",
           "linecolor": "white",
           "ticks": "",
           "title": {
            "standoff": 15
           },
           "zerolinecolor": "white",
           "zerolinewidth": 2
          }
         }
        },
        "xaxis": {
         "anchor": "y",
         "domain": [
          0,
          0.2888888888888889
         ],
         "title": {
          "text": "year"
         }
        },
        "xaxis10": {
         "anchor": "y10",
         "domain": [
          0,
          0.2888888888888889
         ],
         "title": {
          "text": "year"
         }
        },
        "xaxis11": {
         "anchor": "y11",
         "domain": [
          0.35555555555555557,
          0.6444444444444445
         ],
         "title": {
          "text": "year"
         }
        },
        "xaxis12": {
         "anchor": "y12",
         "domain": [
          0.7111111111111111,
          1
         ],
         "title": {
          "text": "business profits change year-on-year"
         }
        },
        "xaxis13": {
         "anchor": "y13",
         "domain": [
          0,
          0.2888888888888889
         ],
         "title": {
          "text": "year"
         }
        },
        "xaxis14": {
         "anchor": "y14",
         "domain": [
          0.35555555555555557,
          0.6444444444444445
         ],
         "title": {
          "text": "year"
         }
        },
        "xaxis15": {
         "anchor": "y15",
         "domain": [
          0.7111111111111111,
          1
         ],
         "title": {
          "text": "business profits change year-on-year"
         }
        },
        "xaxis16": {
         "anchor": "y16",
         "domain": [
          0,
          0.2888888888888889
         ],
         "title": {
          "text": "year"
         }
        },
        "xaxis17": {
         "anchor": "y17",
         "domain": [
          0.35555555555555557,
          0.6444444444444445
         ],
         "title": {
          "text": "year"
         }
        },
        "xaxis18": {
         "anchor": "y18",
         "domain": [
          0.7111111111111111,
          1
         ],
         "title": {
          "text": "business profits change year-on-year"
         }
        },
        "xaxis19": {
         "anchor": "y19",
         "domain": [
          0,
          0.2888888888888889
         ],
         "title": {
          "text": "year"
         }
        },
        "xaxis2": {
         "anchor": "y2",
         "domain": [
          0.35555555555555557,
          0.6444444444444445
         ],
         "title": {
          "text": "year"
         }
        },
        "xaxis20": {
         "anchor": "y20",
         "domain": [
          0.35555555555555557,
          0.6444444444444445
         ],
         "title": {
          "text": "year"
         }
        },
        "xaxis21": {
         "anchor": "y21",
         "domain": [
          0.7111111111111111,
          1
         ],
         "title": {
          "text": "business profits change year-on-year"
         }
        },
        "xaxis22": {
         "anchor": "y22",
         "domain": [
          0,
          0.2888888888888889
         ],
         "title": {
          "text": "year"
         }
        },
        "xaxis23": {
         "anchor": "y23",
         "domain": [
          0.35555555555555557,
          0.6444444444444445
         ],
         "title": {
          "text": "year"
         }
        },
        "xaxis24": {
         "anchor": "y24",
         "domain": [
          0.7111111111111111,
          1
         ],
         "title": {
          "text": "business profits change year-on-year"
         }
        },
        "xaxis25": {
         "anchor": "y25",
         "domain": [
          0,
          0.2888888888888889
         ],
         "title": {
          "text": "year"
         }
        },
        "xaxis26": {
         "anchor": "y26",
         "domain": [
          0.35555555555555557,
          0.6444444444444445
         ],
         "title": {
          "text": "year"
         }
        },
        "xaxis27": {
         "anchor": "y27",
         "domain": [
          0.7111111111111111,
          1
         ],
         "title": {
          "text": "business profits change year-on-year"
         }
        },
        "xaxis28": {
         "anchor": "y28",
         "domain": [
          0,
          0.2888888888888889
         ],
         "title": {
          "text": "year"
         }
        },
        "xaxis29": {
         "anchor": "y29",
         "domain": [
          0.35555555555555557,
          0.6444444444444445
         ],
         "title": {
          "text": "year"
         }
        },
        "xaxis3": {
         "anchor": "y3",
         "domain": [
          0.7111111111111111,
          1
         ],
         "title": {
          "text": "business profits change year-on-year"
         }
        },
        "xaxis30": {
         "anchor": "y30",
         "domain": [
          0.7111111111111111,
          1
         ],
         "title": {
          "text": "business profits change year-on-year"
         }
        },
        "xaxis31": {
         "anchor": "y31",
         "domain": [
          0,
          0.2888888888888889
         ],
         "title": {
          "text": "year"
         }
        },
        "xaxis32": {
         "anchor": "y32",
         "domain": [
          0.35555555555555557,
          0.6444444444444445
         ],
         "title": {
          "text": "year"
         }
        },
        "xaxis33": {
         "anchor": "y33",
         "domain": [
          0.7111111111111111,
          1
         ],
         "title": {
          "text": "business profits change year-on-year"
         }
        },
        "xaxis4": {
         "anchor": "y4",
         "domain": [
          0,
          0.2888888888888889
         ],
         "title": {
          "text": "year"
         }
        },
        "xaxis5": {
         "anchor": "y5",
         "domain": [
          0.35555555555555557,
          0.6444444444444445
         ],
         "title": {
          "text": "year"
         }
        },
        "xaxis6": {
         "anchor": "y6",
         "domain": [
          0.7111111111111111,
          1
         ],
         "title": {
          "text": "business profits change year-on-year"
         }
        },
        "xaxis7": {
         "anchor": "y7",
         "domain": [
          0,
          0.2888888888888889
         ],
         "title": {
          "text": "year"
         }
        },
        "xaxis8": {
         "anchor": "y8",
         "domain": [
          0.35555555555555557,
          0.6444444444444445
         ],
         "title": {
          "text": "year"
         }
        },
        "xaxis9": {
         "anchor": "y9",
         "domain": [
          0.7111111111111111,
          1
         ],
         "title": {
          "text": "business profits change year-on-year"
         }
        },
        "yaxis": {
         "anchor": "x",
         "domain": [
          0.9504132231404958,
          0.9999999999999999
         ],
         "title": {
          "font": {
           "size": 12
          },
          "text": "Agriculture, Forestry and Fishing"
         }
        },
        "yaxis10": {
         "anchor": "x10",
         "domain": [
          0.665289256198347,
          0.7148760330578511
         ],
         "title": {
          "font": {
           "size": 12
          },
          "text": "Electricity, Gas, Water and Waste Services"
         }
        },
        "yaxis11": {
         "anchor": "x11",
         "domain": [
          0.665289256198347,
          0.7148760330578511
         ],
         "title": {
          "font": {
           "size": 12
          }
         }
        },
        "yaxis12": {
         "anchor": "x12",
         "domain": [
          0.665289256198347,
          0.7148760330578511
         ],
         "title": {
          "font": {
           "size": 12
          },
          "text": "business salaries change year-on-year"
         }
        },
        "yaxis13": {
         "anchor": "x13",
         "domain": [
          0.5702479338842974,
          0.6198347107438015
         ],
         "title": {
          "font": {
           "size": 12
          },
          "text": "Health Care and Social Assistance"
         }
        },
        "yaxis14": {
         "anchor": "x14",
         "domain": [
          0.5702479338842974,
          0.6198347107438015
         ],
         "title": {
          "font": {
           "size": 12
          }
         }
        },
        "yaxis15": {
         "anchor": "x15",
         "domain": [
          0.5702479338842974,
          0.6198347107438015
         ],
         "title": {
          "font": {
           "size": 12
          },
          "text": "business salaries change year-on-year"
         }
        },
        "yaxis16": {
         "anchor": "x16",
         "domain": [
          0.4752066115702479,
          0.524793388429752
         ],
         "title": {
          "font": {
           "size": 12
          },
          "text": "Information Media and Telecommunications"
         }
        },
        "yaxis17": {
         "anchor": "x17",
         "domain": [
          0.4752066115702479,
          0.524793388429752
         ],
         "title": {
          "font": {
           "size": 12
          }
         }
        },
        "yaxis18": {
         "anchor": "x18",
         "domain": [
          0.4752066115702479,
          0.524793388429752
         ],
         "title": {
          "font": {
           "size": 12
          },
          "text": "business salaries change year-on-year"
         }
        },
        "yaxis19": {
         "anchor": "x19",
         "domain": [
          0.3801652892561983,
          0.42975206611570244
         ],
         "title": {
          "font": {
           "size": 12
          },
          "text": "Manufacturing"
         }
        },
        "yaxis2": {
         "anchor": "x2",
         "domain": [
          0.9504132231404958,
          0.9999999999999999
         ],
         "title": {
          "font": {
           "size": 12
          }
         }
        },
        "yaxis20": {
         "anchor": "x20",
         "domain": [
          0.3801652892561983,
          0.42975206611570244
         ],
         "title": {
          "font": {
           "size": 12
          }
         }
        },
        "yaxis21": {
         "anchor": "x21",
         "domain": [
          0.3801652892561983,
          0.42975206611570244
         ],
         "title": {
          "font": {
           "size": 12
          },
          "text": "business salaries change year-on-year"
         }
        },
        "yaxis22": {
         "anchor": "x22",
         "domain": [
          0.2851239669421487,
          0.33471074380165283
         ],
         "title": {
          "font": {
           "size": 12
          },
          "text": "Mining"
         }
        },
        "yaxis23": {
         "anchor": "x23",
         "domain": [
          0.2851239669421487,
          0.33471074380165283
         ],
         "title": {
          "font": {
           "size": 12
          }
         }
        },
        "yaxis24": {
         "anchor": "x24",
         "domain": [
          0.2851239669421487,
          0.33471074380165283
         ],
         "title": {
          "font": {
           "size": 12
          },
          "text": "business salaries change year-on-year"
         }
        },
        "yaxis25": {
         "anchor": "x25",
         "domain": [
          0.19008264462809915,
          0.23966942148760328
         ],
         "title": {
          "font": {
           "size": 12
          },
          "text": "Rental, Hiring and Real Estate Services"
         }
        },
        "yaxis26": {
         "anchor": "x26",
         "domain": [
          0.19008264462809915,
          0.23966942148760328
         ],
         "title": {
          "font": {
           "size": 12
          }
         }
        },
        "yaxis27": {
         "anchor": "x27",
         "domain": [
          0.19008264462809915,
          0.23966942148760328
         ],
         "title": {
          "font": {
           "size": 12
          },
          "text": "business salaries change year-on-year"
         }
        },
        "yaxis28": {
         "anchor": "x28",
         "domain": [
          0.09504132231404958,
          0.1446280991735537
         ],
         "title": {
          "font": {
           "size": 12
          },
          "text": "Transport, Postal and Warehousing"
         }
        },
        "yaxis29": {
         "anchor": "x29",
         "domain": [
          0.09504132231404958,
          0.1446280991735537
         ],
         "title": {
          "font": {
           "size": 12
          }
         }
        },
        "yaxis3": {
         "anchor": "x3",
         "domain": [
          0.9504132231404958,
          0.9999999999999999
         ],
         "title": {
          "font": {
           "size": 12
          },
          "text": "business salaries change year-on-year"
         }
        },
        "yaxis30": {
         "anchor": "x30",
         "domain": [
          0.09504132231404958,
          0.1446280991735537
         ],
         "title": {
          "font": {
           "size": 12
          },
          "text": "business salaries change year-on-year"
         }
        },
        "yaxis31": {
         "anchor": "x31",
         "domain": [
          0,
          0.04958677685950413
         ],
         "title": {
          "font": {
           "size": 12
          },
          "text": "Wholesale Trade"
         }
        },
        "yaxis32": {
         "anchor": "x32",
         "domain": [
          0,
          0.04958677685950413
         ],
         "title": {
          "font": {
           "size": 12
          }
         }
        },
        "yaxis33": {
         "anchor": "x33",
         "domain": [
          0,
          0.04958677685950413
         ],
         "title": {
          "font": {
           "size": 12
          },
          "text": "business salaries change year-on-year"
         }
        },
        "yaxis4": {
         "anchor": "x4",
         "domain": [
          0.8553719008264462,
          0.9049586776859503
         ],
         "title": {
          "font": {
           "size": 12
          },
          "text": "Construction"
         }
        },
        "yaxis5": {
         "anchor": "x5",
         "domain": [
          0.8553719008264462,
          0.9049586776859503
         ],
         "title": {
          "font": {
           "size": 12
          }
         }
        },
        "yaxis6": {
         "anchor": "x6",
         "domain": [
          0.8553719008264462,
          0.9049586776859503
         ],
         "title": {
          "font": {
           "size": 12
          },
          "text": "business salaries change year-on-year"
         }
        },
        "yaxis7": {
         "anchor": "x7",
         "domain": [
          0.7603305785123966,
          0.8099173553719007
         ],
         "title": {
          "font": {
           "size": 12
          },
          "text": "Education and Training"
         }
        },
        "yaxis8": {
         "anchor": "x8",
         "domain": [
          0.7603305785123966,
          0.8099173553719007
         ],
         "title": {
          "font": {
           "size": 12
          }
         }
        },
        "yaxis9": {
         "anchor": "x9",
         "domain": [
          0.7603305785123966,
          0.8099173553719007
         ],
         "title": {
          "font": {
           "size": 12
          },
          "text": "business salaries change year-on-year"
         }
        }
       }
      }
     },
     "metadata": {},
     "output_type": "display_data"
    }
   ],
   "source": [
    "explore_correlations(df_bus_metric_corr, 'industry', 'year_time', 'year', 'profits_yearly_change', 'business profits change', 'salaries_yearly_change', 'business salaries change')"
   ]
  },
  {
   "cell_type": "markdown",
   "id": "8f40b6cd",
   "metadata": {},
   "source": [
    "![profits-salaries](./assets/profits_salaries.png)"
   ]
  },
  {
   "cell_type": "markdown",
   "id": "833314b3",
   "metadata": {},
   "source": [
    "#### business profits - filled jobs correlation"
   ]
  },
  {
   "cell_type": "code",
   "execution_count": 23,
   "id": "14cb792e",
   "metadata": {},
   "outputs": [
    {
     "data": {
      "application/vnd.plotly.v1+json": {
       "config": {
        "plotlyServerURL": "https://plot.ly"
       },
       "data": [
        {
         "marker": {
          "color": "#002F6B"
         },
         "name": "business profits change year-on-year",
         "type": "bar",
         "x": [
          "2018-01-01T00:00:00.000000000",
          "2019-01-01T00:00:00.000000000",
          "2020-01-01T00:00:00.000000000",
          "2021-01-01T00:00:00.000000000",
          "2022-01-01T00:00:00.000000000",
          "2023-01-01T00:00:00.000000000"
         ],
         "xaxis": "x",
         "y": {
          "bdata": "pHA9CtejsD+HFtnO91PDv8uhRbbz/aS/rkfhehSuxz9g5dAi2/nOv1pkO99PjZe/",
          "dtype": "f8"
         },
         "yaxis": "y",
         "zorder": 1
        },
        {
         "marker": {
          "color": "#002F6B"
         },
         "name": "business filled jobs change year-on-year",
         "type": "bar",
         "x": [
          "2018-01-01T00:00:00.000000000",
          "2019-01-01T00:00:00.000000000",
          "2020-01-01T00:00:00.000000000",
          "2021-01-01T00:00:00.000000000",
          "2022-01-01T00:00:00.000000000",
          "2023-01-01T00:00:00.000000000"
         ],
         "xaxis": "x2",
         "y": {
          "bdata": "O99PjZdugj97FK5H4Xp0P9nO91PjpZs//Knx0k1iYL/8qfHSTWKAvzm0yHa+n4q/",
          "dtype": "f8"
         },
         "yaxis": "y2",
         "zorder": 1
        },
        {
         "marker": {
          "color": "#002F6B"
         },
         "mode": "markers",
         "name": "business profits change-business filled jobs change correlation",
         "type": "scatter",
         "x": {
          "bdata": "pHA9CtejsD+HFtnO91PDv8uhRbbz/aS/rkfhehSuxz9g5dAi2/nOv1pkO99PjZe/",
          "dtype": "f8"
         },
         "xaxis": "x3",
         "y": {
          "bdata": "O99PjZdugj97FK5H4Xp0P9nO91PjpZs//Knx0k1iYL/8qfHSTWKAvzm0yHa+n4q/",
          "dtype": "f8"
         },
         "yaxis": "y3",
         "zorder": 1
        },
        {
         "line": {
          "color": "#FAA61A",
          "dash": "solid"
         },
         "mode": "lines",
         "name": "Agriculture, Forestry and Fishing Fit",
         "showlegend": false,
         "type": "scatter",
         "x": {
          "bdata": "pHA9CtejsD+HFtnO91PDv8uhRbbz/aS/rkfhehSuxz9g5dAi2/nOv1pkO99PjZe/",
          "dtype": "f8"
         },
         "xaxis": "x3",
         "y": {
          "bdata": "KknHcLOTcD/vlxCTpRBdP/yQZZMABGg/REBXsOO/dT+YIQ0t4r9KP4TBEEBCkWk/",
          "dtype": "f8"
         },
         "yaxis": "y3"
        },
        {
         "marker": {
          "color": "#002F6B"
         },
         "name": "business profits change year-on-year",
         "type": "bar",
         "x": [
          "2018-01-01T00:00:00.000000000",
          "2019-01-01T00:00:00.000000000",
          "2020-01-01T00:00:00.000000000",
          "2021-01-01T00:00:00.000000000",
          "2022-01-01T00:00:00.000000000",
          "2023-01-01T00:00:00.000000000"
         ],
         "xaxis": "x4",
         "y": {
          "bdata": "kxgEVg4tsj8v3SQGgZXDP3npJjEIrJy/UI2XbhKDwD+6SQwCK4e2P/YoXI/C9cg/",
          "dtype": "f8"
         },
         "yaxis": "y4",
         "zorder": 1
        },
        {
         "marker": {
          "color": "#002F6B"
         },
         "name": "business filled jobs change year-on-year",
         "type": "bar",
         "x": [
          "2018-01-01T00:00:00.000000000",
          "2019-01-01T00:00:00.000000000",
          "2020-01-01T00:00:00.000000000",
          "2021-01-01T00:00:00.000000000",
          "2022-01-01T00:00:00.000000000",
          "2023-01-01T00:00:00.000000000"
         ],
         "xaxis": "x5",
         "y": {
          "bdata": "iUFg5dAiqz/pJjEIrByqP2q8dJMYBKY/TDeJQWDlsD9aZDvfT42nP9nO91PjpZs/",
          "dtype": "f8"
         },
         "yaxis": "y5",
         "zorder": 1
        },
        {
         "marker": {
          "color": "#002F6B"
         },
         "mode": "markers",
         "name": "business profits change-business filled jobs change correlation",
         "type": "scatter",
         "x": {
          "bdata": "kxgEVg4tsj8v3SQGgZXDP3npJjEIrJy/UI2XbhKDwD+6SQwCK4e2P/YoXI/C9cg/",
          "dtype": "f8"
         },
         "xaxis": "x6",
         "y": {
          "bdata": "iUFg5dAiqz/pJjEIrByqP2q8dJMYBKY/TDeJQWDlsD9aZDvfT42nP9nO91PjpZs/",
          "dtype": "f8"
         },
         "yaxis": "y6",
         "zorder": 1
        },
        {
         "line": {
          "color": "#FAA61A",
          "dash": "solid"
         },
         "mode": "lines",
         "name": "Construction Fit",
         "showlegend": false,
         "type": "scatter",
         "x": {
          "bdata": "kxgEVg4tsj8v3SQGgZXDP3npJjEIrJy/UI2XbhKDwD+6SQwCK4e2P/YoXI/C9cg/",
          "dtype": "f8"
         },
         "xaxis": "x6",
         "y": {
          "bdata": "VP7EyafQqD+u62M8G7WnP9Gtxi/9Jqo/KthzqhgIqD98YSTx3pWoP9YNyLvfI6c/",
          "dtype": "f8"
         },
         "yaxis": "y6"
        },
        {
         "marker": {
          "color": "#002F6B"
         },
         "name": "business profits change year-on-year",
         "type": "bar",
         "x": [
          "2018-01-01T00:00:00.000000000",
          "2019-01-01T00:00:00.000000000",
          "2020-01-01T00:00:00.000000000",
          "2021-01-01T00:00:00.000000000",
          "2022-01-01T00:00:00.000000000",
          "2023-01-01T00:00:00.000000000"
         ],
         "xaxis": "x7",
         "y": {
          "bdata": "2c73U+Olyz+4HoXrUbi+P/p+arx0k7i/qMZLN4lB0D9OYhBYObTIv4/C9Shcj9I/",
          "dtype": "f8"
         },
         "yaxis": "y7",
         "zorder": 1
        },
        {
         "marker": {
          "color": "#002F6B"
         },
         "name": "business filled jobs change year-on-year",
         "type": "bar",
         "x": [
          "2018-01-01T00:00:00.000000000",
          "2019-01-01T00:00:00.000000000",
          "2020-01-01T00:00:00.000000000",
          "2021-01-01T00:00:00.000000000",
          "2022-01-01T00:00:00.000000000",
          "2023-01-01T00:00:00.000000000"
         ],
         "xaxis": "x8",
         "y": {
          "bdata": "mpmZmZmZmT8ZBFYOLbKdPzvfT42XbpI/ObTIdr6fij8AAAAAAAAAAPp+arx0k5g/",
          "dtype": "f8"
         },
         "yaxis": "y8",
         "zorder": 1
        },
        {
         "marker": {
          "color": "#002F6B"
         },
         "mode": "markers",
         "name": "business profits change-business filled jobs change correlation",
         "type": "scatter",
         "x": {
          "bdata": "2c73U+Olyz+4HoXrUbi+P/p+arx0k7i/qMZLN4lB0D9OYhBYObTIv4/C9Shcj9I/",
          "dtype": "f8"
         },
         "xaxis": "x9",
         "y": {
          "bdata": "mpmZmZmZmT8ZBFYOLbKdPzvfT42XbpI/ObTIdr6fij8AAAAAAAAAAPp+arx0k5g/",
          "dtype": "f8"
         },
         "yaxis": "y9",
         "zorder": 1
        },
        {
         "line": {
          "color": "#FAA61A",
          "dash": "solid"
         },
         "mode": "lines",
         "name": "Education and Training Fit",
         "showlegend": false,
         "type": "scatter",
         "x": {
          "bdata": "2c73U+Olyz+4HoXrUbi+P/p+arx0k7i/qMZLN4lB0D9OYhBYObTIv4/C9Shcj9I/",
          "dtype": "f8"
         },
         "xaxis": "x9",
         "y": {
          "bdata": "ICn2nHiplj/4ia+abliTP8FHISswxIc/dB0yk4z5lz/MkDLxaxCBPyOZDFTwN5k/",
          "dtype": "f8"
         },
         "yaxis": "y9"
        },
        {
         "marker": {
          "color": "#002F6B"
         },
         "name": "business profits change year-on-year",
         "type": "bar",
         "x": [
          "2018-01-01T00:00:00.000000000",
          "2019-01-01T00:00:00.000000000",
          "2020-01-01T00:00:00.000000000",
          "2021-01-01T00:00:00.000000000",
          "2022-01-01T00:00:00.000000000",
          "2023-01-01T00:00:00.000000000"
         ],
         "xaxis": "x10",
         "y": {
          "bdata": "/Knx0k1isD+6SQwCK4eGP+kmMQisHKq/2c73U+Olm79aZDvfT423PyuHFtnO97M/",
          "dtype": "f8"
         },
         "yaxis": "y10",
         "zorder": 1
        },
        {
         "marker": {
          "color": "#002F6B"
         },
         "name": "business filled jobs change year-on-year",
         "type": "bar",
         "x": [
          "2018-01-01T00:00:00.000000000",
          "2019-01-01T00:00:00.000000000",
          "2020-01-01T00:00:00.000000000",
          "2021-01-01T00:00:00.000000000",
          "2022-01-01T00:00:00.000000000",
          "2023-01-01T00:00:00.000000000"
         ],
         "xaxis": "x11",
         "y": {
          "bdata": "aJHtfD81rj/sUbgeheuhPyuHFtnO96M/exSuR+F6pD+JQWDl0CKrPyuHFtnO96M/",
          "dtype": "f8"
         },
         "yaxis": "y11",
         "zorder": 1
        },
        {
         "marker": {
          "color": "#002F6B"
         },
         "mode": "markers",
         "name": "business profits change-business filled jobs change correlation",
         "type": "scatter",
         "x": {
          "bdata": "/Knx0k1isD+6SQwCK4eGP+kmMQisHKq/2c73U+Olm79aZDvfT423PyuHFtnO97M/",
          "dtype": "f8"
         },
         "xaxis": "x12",
         "y": {
          "bdata": "aJHtfD81rj/sUbgeheuhPyuHFtnO96M/exSuR+F6pD+JQWDl0CKrPyuHFtnO96M/",
          "dtype": "f8"
         },
         "yaxis": "y12",
         "zorder": 1
        },
        {
         "line": {
          "color": "#FAA61A",
          "dash": "solid"
         },
         "mode": "lines",
         "name": "Electricity, Gas, Water and Waste Services Fit",
         "showlegend": false,
         "type": "scatter",
         "x": {
          "bdata": "/Knx0k1isD+6SQwCK4eGP+kmMQisHKq/2c73U+Olm79aZDvfT423PyuHFtnO97M/",
          "dtype": "f8"
         },
         "xaxis": "x12",
         "y": {
          "bdata": "cx6PYgdZqD9sz0ULWs6lPyGL/qku1aI/Lhn5GdT7oz/YbjNlyLCpP6VG4ePnBKk/",
          "dtype": "f8"
         },
         "yaxis": "y12"
        },
        {
         "marker": {
          "color": "#002F6B"
         },
         "name": "business profits change year-on-year",
         "type": "bar",
         "x": [
          "2018-01-01T00:00:00.000000000",
          "2019-01-01T00:00:00.000000000",
          "2020-01-01T00:00:00.000000000",
          "2021-01-01T00:00:00.000000000",
          "2022-01-01T00:00:00.000000000",
          "2023-01-01T00:00:00.000000000"
         ],
         "xaxis": "x13",
         "y": {
          "bdata": "i2zn+6nxsj8OLbKd76fGP2ZmZmZmZsY//Knx0k1ikL+JQWDl0CKrvxkEVg4tsr0/",
          "dtype": "f8"
         },
         "yaxis": "y13",
         "zorder": 1
        },
        {
         "marker": {
          "color": "#002F6B"
         },
         "name": "business filled jobs change year-on-year",
         "type": "bar",
         "x": [
          "2018-01-01T00:00:00.000000000",
          "2019-01-01T00:00:00.000000000",
          "2020-01-01T00:00:00.000000000",
          "2021-01-01T00:00:00.000000000",
          "2022-01-01T00:00:00.000000000",
          "2023-01-01T00:00:00.000000000"
         ],
         "xaxis": "x14",
         "y": {
          "bdata": "O99PjZdukj85tMh2vp+aPzvfT42XbqI/2c73U+Olqz+cxCCwcmiRP9v5fmq8dKM/",
          "dtype": "f8"
         },
         "yaxis": "y14",
         "zorder": 1
        },
        {
         "marker": {
          "color": "#002F6B"
         },
         "mode": "markers",
         "name": "business profits change-business filled jobs change correlation",
         "type": "scatter",
         "x": {
          "bdata": "i2zn+6nxsj8OLbKd76fGP2ZmZmZmZsY//Knx0k1ikL+JQWDl0CKrvxkEVg4tsr0/",
          "dtype": "f8"
         },
         "xaxis": "x15",
         "y": {
          "bdata": "O99PjZdukj85tMh2vp+aPzvfT42XbqI/2c73U+Olqz+cxCCwcmiRP9v5fmq8dKM/",
          "dtype": "f8"
         },
         "yaxis": "y15",
         "zorder": 1
        },
        {
         "line": {
          "color": "#FAA61A",
          "dash": "solid"
         },
         "mode": "lines",
         "name": "Health Care and Social Assistance Fit",
         "showlegend": false,
         "type": "scatter",
         "x": {
          "bdata": "i2zn+6nxsj8OLbKd76fGP2ZmZmZmZsY//Knx0k1ikL+JQWDl0CKrvxkEVg4tsr0/",
          "dtype": "f8"
         },
         "xaxis": "x15",
         "y": {
          "bdata": "UmrozhIhoD8jqZNVkBqgP42RaLGwGqA/1ERV88ImoD9wEDiWGSmgP69ZcUZrHqA/",
          "dtype": "f8"
         },
         "yaxis": "y15"
        },
        {
         "marker": {
          "color": "#002F6B"
         },
         "name": "business profits change year-on-year",
         "type": "bar",
         "x": [
          "2018-01-01T00:00:00.000000000",
          "2019-01-01T00:00:00.000000000",
          "2020-01-01T00:00:00.000000000",
          "2021-01-01T00:00:00.000000000",
          "2022-01-01T00:00:00.000000000",
          "2023-01-01T00:00:00.000000000"
         ],
         "xaxis": "x16",
         "y": {
          "bdata": "RIts5/upsT8xCKwcWmS7v4PAyqFFtrM/ukkMAiuHpj/8qfHSTWLAv6rx0k1iELg/",
          "dtype": "f8"
         },
         "yaxis": "y16",
         "zorder": 1
        },
        {
         "marker": {
          "color": "#002F6B"
         },
         "name": "business filled jobs change year-on-year",
         "type": "bar",
         "x": [
          "2018-01-01T00:00:00.000000000",
          "2019-01-01T00:00:00.000000000",
          "2020-01-01T00:00:00.000000000",
          "2021-01-01T00:00:00.000000000",
          "2022-01-01T00:00:00.000000000",
          "2023-01-01T00:00:00.000000000"
         ],
         "xaxis": "x17",
         "y": {
          "bdata": "Gy/dJAaBpb/8qfHSTWKwv4lBYOXQIqu/exSuR+F6dD97FK5H4XqUP1pkO99Pjac/",
          "dtype": "f8"
         },
         "yaxis": "y17",
         "zorder": 1
        },
        {
         "marker": {
          "color": "#002F6B"
         },
         "mode": "markers",
         "name": "business profits change-business filled jobs change correlation",
         "type": "scatter",
         "x": {
          "bdata": "RIts5/upsT8xCKwcWmS7v4PAyqFFtrM/ukkMAiuHpj/8qfHSTWLAv6rx0k1iELg/",
          "dtype": "f8"
         },
         "xaxis": "x18",
         "y": {
          "bdata": "Gy/dJAaBpb/8qfHSTWKwv4lBYOXQIqu/exSuR+F6dD97FK5H4XqUP1pkO99Pjac/",
          "dtype": "f8"
         },
         "yaxis": "y18",
         "zorder": 1
        },
        {
         "line": {
          "color": "#FAA61A",
          "dash": "solid"
         },
         "mode": "lines",
         "name": "Information Media and Telecommunications Fit",
         "showlegend": false,
         "type": "scatter",
         "x": {
          "bdata": "RIts5/upsT8xCKwcWmS7v4PAyqFFtrM/ukkMAiuHpj/8qfHSTWLAv6rx0k1iELg/",
          "dtype": "f8"
         },
         "xaxis": "x18",
         "y": {
          "bdata": "HQQR+g18h79jOxtRqTiVv9AhVZVzn4a/UCfcdHAtir9p1FH1M1qWv+zgRX+ryoS/",
          "dtype": "f8"
         },
         "yaxis": "y18"
        },
        {
         "marker": {
          "color": "#002F6B"
         },
         "name": "business profits change year-on-year",
         "type": "bar",
         "x": [
          "2018-01-01T00:00:00.000000000",
          "2019-01-01T00:00:00.000000000",
          "2020-01-01T00:00:00.000000000",
          "2021-01-01T00:00:00.000000000",
          "2022-01-01T00:00:00.000000000",
          "2023-01-01T00:00:00.000000000"
         ],
         "xaxis": "x19",
         "y": {
          "bdata": "6SYxCKwcqr8K16NwPQqnvwAAAAAAAMA/sp3vp8ZLt7/0/dR46SbRP4ts5/up8bK/",
          "dtype": "f8"
         },
         "yaxis": "y19",
         "zorder": 1
        },
        {
         "marker": {
          "color": "#002F6B"
         },
         "name": "business filled jobs change year-on-year",
         "type": "bar",
         "x": [
          "2018-01-01T00:00:00.000000000",
          "2019-01-01T00:00:00.000000000",
          "2020-01-01T00:00:00.000000000",
          "2021-01-01T00:00:00.000000000",
          "2022-01-01T00:00:00.000000000",
          "2023-01-01T00:00:00.000000000"
         ],
         "xaxis": "x20",
         "y": {
          "bdata": "ukkMAiuHlj97FK5H4XqEP/p+arx0k3i/AAAAAAAAAACcxCCwcmiRP7gehetRuI4/",
          "dtype": "f8"
         },
         "yaxis": "y20",
         "zorder": 1
        },
        {
         "marker": {
          "color": "#002F6B"
         },
         "mode": "markers",
         "name": "business profits change-business filled jobs change correlation",
         "type": "scatter",
         "x": {
          "bdata": "6SYxCKwcqr8K16NwPQqnvwAAAAAAAMA/sp3vp8ZLt7/0/dR46SbRP4ts5/up8bK/",
          "dtype": "f8"
         },
         "xaxis": "x21",
         "y": {
          "bdata": "ukkMAiuHlj97FK5H4XqEP/p+arx0k3i/AAAAAAAAAACcxCCwcmiRP7gehetRuI4/",
          "dtype": "f8"
         },
         "yaxis": "y21",
         "zorder": 1
        },
        {
         "line": {
          "color": "#FAA61A",
          "dash": "solid"
         },
         "mode": "lines",
         "name": "Manufacturing Fit",
         "showlegend": false,
         "type": "scatter",
         "x": {
          "bdata": "6SYxCKwcqr8K16NwPQqnvwAAAAAAAMA/sp3vp8ZLt7/0/dR46SbRP4ts5/up8bK/",
          "dtype": "f8"
         },
         "xaxis": "x21",
         "y": {
          "bdata": "TVYQLqMEhD95ZHLv/f+DP19L96tefIM/JU0tepsjhD9/8kICpw2DP6PKbfNxFoQ/",
          "dtype": "f8"
         },
         "yaxis": "y21"
        },
        {
         "marker": {
          "color": "#002F6B"
         },
         "name": "business profits change year-on-year",
         "type": "bar",
         "x": [
          "2018-01-01T00:00:00.000000000",
          "2019-01-01T00:00:00.000000000",
          "2020-01-01T00:00:00.000000000",
          "2021-01-01T00:00:00.000000000",
          "2022-01-01T00:00:00.000000000",
          "2023-01-01T00:00:00.000000000"
         ],
         "xaxis": "x22",
         "y": {
          "bdata": "oBov3SQGwT+6SQwCK4eGP5MYBFYOLdK/kxgEVg4t0j9KDAIrhxbRP+f7qfHSTcK/",
          "dtype": "f8"
         },
         "yaxis": "y22",
         "zorder": 1
        },
        {
         "marker": {
          "color": "#002F6B"
         },
         "name": "business filled jobs change year-on-year",
         "type": "bar",
         "x": [
          "2018-01-01T00:00:00.000000000",
          "2019-01-01T00:00:00.000000000",
          "2020-01-01T00:00:00.000000000",
          "2021-01-01T00:00:00.000000000",
          "2022-01-01T00:00:00.000000000",
          "2023-01-01T00:00:00.000000000"
         ],
         "xaxis": "x23",
         "y": {
          "bdata": "WDm0yHa+nz956SYxCKycv3sUrkfhenQ//Knx0k1ikD8ZBFYOLbKdP0oMAiuHFqk/",
          "dtype": "f8"
         },
         "yaxis": "y23",
         "zorder": 1
        },
        {
         "marker": {
          "color": "#002F6B"
         },
         "mode": "markers",
         "name": "business profits change-business filled jobs change correlation",
         "type": "scatter",
         "x": {
          "bdata": "oBov3SQGwT+6SQwCK4eGP5MYBFYOLdK/kxgEVg4t0j9KDAIrhxbRP+f7qfHSTcK/",
          "dtype": "f8"
         },
         "xaxis": "x24",
         "y": {
          "bdata": "WDm0yHa+nz956SYxCKycv3sUrkfhenQ//Knx0k1ikD8ZBFYOLbKdP0oMAiuHFqk/",
          "dtype": "f8"
         },
         "yaxis": "y24",
         "zorder": 1
        },
        {
         "line": {
          "color": "#FAA61A",
          "dash": "solid"
         },
         "mode": "lines",
         "name": "Mining Fit",
         "showlegend": false,
         "type": "scatter",
         "x": {
          "bdata": "oBov3SQGwT+6SQwCK4eGP5MYBFYOLdK/kxgEVg4t0j9KDAIrhxbRP+f7qfHSTcK/",
          "dtype": "f8"
         },
         "xaxis": "x24",
         "y": {
          "bdata": "WraeXWx/kj8CIMoeH/6QP5Yhug3mtIo/Y69iK1BclD/hY6GinyaUP1pC9Z6DL44/",
          "dtype": "f8"
         },
         "yaxis": "y24"
        },
        {
         "marker": {
          "color": "#002F6B"
         },
         "name": "business profits change year-on-year",
         "type": "bar",
         "x": [
          "2018-01-01T00:00:00.000000000",
          "2019-01-01T00:00:00.000000000",
          "2020-01-01T00:00:00.000000000",
          "2021-01-01T00:00:00.000000000",
          "2022-01-01T00:00:00.000000000",
          "2023-01-01T00:00:00.000000000"
         ],
         "xaxis": "x25",
         "y": {
          "bdata": "46WbxCCwsj/jpZvEILCyv6jGSzeJQcA/SgwCK4cWuT8rhxbZzvfDvzm0yHa+n7o/",
          "dtype": "f8"
         },
         "yaxis": "y25",
         "zorder": 1
        },
        {
         "marker": {
          "color": "#002F6B"
         },
         "name": "business filled jobs change year-on-year",
         "type": "bar",
         "x": [
          "2018-01-01T00:00:00.000000000",
          "2019-01-01T00:00:00.000000000",
          "2020-01-01T00:00:00.000000000",
          "2021-01-01T00:00:00.000000000",
          "2022-01-01T00:00:00.000000000",
          "2023-01-01T00:00:00.000000000"
         ],
         "xaxis": "x26",
         "y": {
          "bdata": "Gy/dJAaBpT85tMh2vp+KP7pJDAIrh4Y/WDm0yHa+nz+cxCCwcmihPzm0yHa+n5o/",
          "dtype": "f8"
         },
         "yaxis": "y26",
         "zorder": 1
        },
        {
         "marker": {
          "color": "#002F6B"
         },
         "mode": "markers",
         "name": "business profits change-business filled jobs change correlation",
         "type": "scatter",
         "x": {
          "bdata": "46WbxCCwsj/jpZvEILCyv6jGSzeJQcA/SgwCK4cWuT8rhxbZzvfDvzm0yHa+n7o/",
          "dtype": "f8"
         },
         "xaxis": "x27",
         "y": {
          "bdata": "Gy/dJAaBpT85tMh2vp+KP7pJDAIrh4Y/WDm0yHa+nz+cxCCwcmihPzm0yHa+n5o/",
          "dtype": "f8"
         },
         "yaxis": "y27",
         "zorder": 1
        },
        {
         "line": {
          "color": "#FAA61A",
          "dash": "solid"
         },
         "mode": "lines",
         "name": "Rental, Hiring and Real Estate Services Fit",
         "showlegend": false,
         "type": "scatter",
         "x": {
          "bdata": "46WbxCCwsj/jpZvEILCyv6jGSzeJQcA/SgwCK4cWuT8rhxbZzvfDvzm0yHa+n7o/",
          "dtype": "f8"
         },
         "xaxis": "x27",
         "y": {
          "bdata": "h4pBdW9nmj/h0u7B/7GbP9aSQA8s7Zk/hsLr/tQumj9C+poX7G2cPwCn60g/IZo/",
          "dtype": "f8"
         },
         "yaxis": "y27"
        },
        {
         "marker": {
          "color": "#002F6B"
         },
         "name": "business profits change year-on-year",
         "type": "bar",
         "x": [
          "2018-01-01T00:00:00.000000000",
          "2019-01-01T00:00:00.000000000",
          "2020-01-01T00:00:00.000000000",
          "2021-01-01T00:00:00.000000000",
          "2022-01-01T00:00:00.000000000",
          "2023-01-01T00:00:00.000000000"
         ],
         "xaxis": "x28",
         "y": {
          "bdata": "nMQgsHJokT8IrBxaZDuvP5qZmZmZmcm/4XoUrkfhyj+wcmiR7XzPP4PAyqFFtrO/",
          "dtype": "f8"
         },
         "yaxis": "y28",
         "zorder": 1
        },
        {
         "marker": {
          "color": "#002F6B"
         },
         "name": "business filled jobs change year-on-year",
         "type": "bar",
         "x": [
          "2018-01-01T00:00:00.000000000",
          "2019-01-01T00:00:00.000000000",
          "2020-01-01T00:00:00.000000000",
          "2021-01-01T00:00:00.000000000",
          "2022-01-01T00:00:00.000000000",
          "2023-01-01T00:00:00.000000000"
         ],
         "xaxis": "x29",
         "y": {
          "bdata": "/Knx0k1ikD/LoUW28/2kP4ts5/up8aK/mpmZmZmZmb9YObTIdr6fP6RwPQrXo7A/",
          "dtype": "f8"
         },
         "yaxis": "y29",
         "zorder": 1
        },
        {
         "marker": {
          "color": "#002F6B"
         },
         "mode": "markers",
         "name": "business profits change-business filled jobs change correlation",
         "type": "scatter",
         "x": {
          "bdata": "nMQgsHJokT8IrBxaZDuvP5qZmZmZmcm/4XoUrkfhyj+wcmiR7XzPP4PAyqFFtrO/",
          "dtype": "f8"
         },
         "xaxis": "x30",
         "y": {
          "bdata": "/Knx0k1ikD/LoUW28/2kP4ts5/up8aK/mpmZmZmZmb9YObTIdr6fP6RwPQrXo7A/",
          "dtype": "f8"
         },
         "yaxis": "y30",
         "zorder": 1
        },
        {
         "line": {
          "color": "#FAA61A",
          "dash": "solid"
         },
         "mode": "lines",
         "name": "Transport, Postal and Warehousing Fit",
         "showlegend": false,
         "type": "scatter",
         "x": {
          "bdata": "nMQgsHJokT8IrBxaZDuvP5qZmZmZmcm/4XoUrkfhyj+wcmiR7XzPP4PAyqFFtrO/",
          "dtype": "f8"
         },
         "xaxis": "x30",
         "y": {
          "bdata": "LKbWeqy3jT8H3zmx0ACQP3rNMpDXbYI/jsQGRfLgkz/ffJjpp9CUP/g4wXTb04g/",
          "dtype": "f8"
         },
         "yaxis": "y30"
        },
        {
         "marker": {
          "color": "#002F6B"
         },
         "name": "business profits change year-on-year",
         "type": "bar",
         "x": [
          "2018-01-01T00:00:00.000000000",
          "2019-01-01T00:00:00.000000000",
          "2020-01-01T00:00:00.000000000",
          "2021-01-01T00:00:00.000000000",
          "2022-01-01T00:00:00.000000000",
          "2023-01-01T00:00:00.000000000"
         ],
         "xaxis": "x31",
         "y": {
          "bdata": "O99PjZdugj/0/dR46SaxP5zEILByaNE/mpmZmZmZmb8K16NwPQqnPzm0yHa+n5o/",
          "dtype": "f8"
         },
         "yaxis": "y31",
         "zorder": 1
        },
        {
         "marker": {
          "color": "#002F6B"
         },
         "name": "business filled jobs change year-on-year",
         "type": "bar",
         "x": [
          "2018-01-01T00:00:00.000000000",
          "2019-01-01T00:00:00.000000000",
          "2020-01-01T00:00:00.000000000",
          "2021-01-01T00:00:00.000000000",
          "2022-01-01T00:00:00.000000000",
          "2023-01-01T00:00:00.000000000"
         ],
         "xaxis": "x32",
         "y": {
          "bdata": "WDm0yHa+nz956SYxCKx8P3npJjEIrHy/eekmMQisjD+4HoXrUbieP5zEILByaJE/",
          "dtype": "f8"
         },
         "yaxis": "y32",
         "zorder": 1
        },
        {
         "marker": {
          "color": "#002F6B"
         },
         "mode": "markers",
         "name": "business profits change-business filled jobs change correlation",
         "type": "scatter",
         "x": {
          "bdata": "O99PjZdugj/0/dR46SaxP5zEILByaNE/mpmZmZmZmb8K16NwPQqnPzm0yHa+n5o/",
          "dtype": "f8"
         },
         "xaxis": "x33",
         "y": {
          "bdata": "WDm0yHa+nz956SYxCKx8P3npJjEIrHy/eekmMQisjD+4HoXrUbieP5zEILByaJE/",
          "dtype": "f8"
         },
         "yaxis": "y33",
         "zorder": 1
        },
        {
         "line": {
          "color": "#FAA61A",
          "dash": "solid"
         },
         "mode": "lines",
         "name": "Wholesale Trade Fit",
         "showlegend": false,
         "type": "scatter",
         "x": {
          "bdata": "O99PjZdugj/0/dR46SaxP5zEILByaNE/mpmZmZmZmb8K16NwPQqnPzm0yHa+n5o/",
          "dtype": "f8"
         },
         "xaxis": "x33",
         "y": {
          "bdata": "Tf7fTweqlT/rbTF7Px+PP5BS3BSsCni/vm4bwOs9mT/zO86cQuCRPxRGwhcV4JM/",
          "dtype": "f8"
         },
         "yaxis": "y33"
        }
       ],
       "layout": {
        "annotations": [
         {
          "font": {
           "size": 16
          },
          "showarrow": false,
          "text": "business profits change year-on-year",
          "x": 0.14444444444444446,
          "xanchor": "center",
          "xref": "paper",
          "y": 0.9999999999999999,
          "yanchor": "bottom",
          "yref": "paper"
         },
         {
          "font": {
           "size": 16
          },
          "showarrow": false,
          "text": "business filled jobs change year-on-year",
          "x": 0.5,
          "xanchor": "center",
          "xref": "paper",
          "y": 0.9999999999999999,
          "yanchor": "bottom",
          "yref": "paper"
         },
         {
          "font": {
           "size": 16
          },
          "showarrow": false,
          "text": "business profits change-business filled jobs change correlation",
          "x": 0.8555555555555556,
          "xanchor": "center",
          "xref": "paper",
          "y": 0.9999999999999999,
          "yanchor": "bottom",
          "yref": "paper"
         }
        ],
        "height": 5000,
        "showlegend": false,
        "template": {
         "data": {
          "bar": [
           {
            "error_x": {
             "color": "#2a3f5f"
            },
            "error_y": {
             "color": "#2a3f5f"
            },
            "marker": {
             "line": {
              "color": "#E5ECF6",
              "width": 0.5
             },
             "pattern": {
              "fillmode": "overlay",
              "size": 10,
              "solidity": 0.2
             }
            },
            "type": "bar"
           }
          ],
          "barpolar": [
           {
            "marker": {
             "line": {
              "color": "#E5ECF6",
              "width": 0.5
             },
             "pattern": {
              "fillmode": "overlay",
              "size": 10,
              "solidity": 0.2
             }
            },
            "type": "barpolar"
           }
          ],
          "carpet": [
           {
            "aaxis": {
             "endlinecolor": "#2a3f5f",
             "gridcolor": "white",
             "linecolor": "white",
             "minorgridcolor": "white",
             "startlinecolor": "#2a3f5f"
            },
            "baxis": {
             "endlinecolor": "#2a3f5f",
             "gridcolor": "white",
             "linecolor": "white",
             "minorgridcolor": "white",
             "startlinecolor": "#2a3f5f"
            },
            "type": "carpet"
           }
          ],
          "choropleth": [
           {
            "colorbar": {
             "outlinewidth": 0,
             "ticks": ""
            },
            "type": "choropleth"
           }
          ],
          "contour": [
           {
            "colorbar": {
             "outlinewidth": 0,
             "ticks": ""
            },
            "colorscale": [
             [
              0,
              "#0d0887"
             ],
             [
              0.1111111111111111,
              "#46039f"
             ],
             [
              0.2222222222222222,
              "#7201a8"
             ],
             [
              0.3333333333333333,
              "#9c179e"
             ],
             [
              0.4444444444444444,
              "#bd3786"
             ],
             [
              0.5555555555555556,
              "#d8576b"
             ],
             [
              0.6666666666666666,
              "#ed7953"
             ],
             [
              0.7777777777777778,
              "#fb9f3a"
             ],
             [
              0.8888888888888888,
              "#fdca26"
             ],
             [
              1,
              "#f0f921"
             ]
            ],
            "type": "contour"
           }
          ],
          "contourcarpet": [
           {
            "colorbar": {
             "outlinewidth": 0,
             "ticks": ""
            },
            "type": "contourcarpet"
           }
          ],
          "heatmap": [
           {
            "colorbar": {
             "outlinewidth": 0,
             "ticks": ""
            },
            "colorscale": [
             [
              0,
              "#0d0887"
             ],
             [
              0.1111111111111111,
              "#46039f"
             ],
             [
              0.2222222222222222,
              "#7201a8"
             ],
             [
              0.3333333333333333,
              "#9c179e"
             ],
             [
              0.4444444444444444,
              "#bd3786"
             ],
             [
              0.5555555555555556,
              "#d8576b"
             ],
             [
              0.6666666666666666,
              "#ed7953"
             ],
             [
              0.7777777777777778,
              "#fb9f3a"
             ],
             [
              0.8888888888888888,
              "#fdca26"
             ],
             [
              1,
              "#f0f921"
             ]
            ],
            "type": "heatmap"
           }
          ],
          "histogram": [
           {
            "marker": {
             "pattern": {
              "fillmode": "overlay",
              "size": 10,
              "solidity": 0.2
             }
            },
            "type": "histogram"
           }
          ],
          "histogram2d": [
           {
            "colorbar": {
             "outlinewidth": 0,
             "ticks": ""
            },
            "colorscale": [
             [
              0,
              "#0d0887"
             ],
             [
              0.1111111111111111,
              "#46039f"
             ],
             [
              0.2222222222222222,
              "#7201a8"
             ],
             [
              0.3333333333333333,
              "#9c179e"
             ],
             [
              0.4444444444444444,
              "#bd3786"
             ],
             [
              0.5555555555555556,
              "#d8576b"
             ],
             [
              0.6666666666666666,
              "#ed7953"
             ],
             [
              0.7777777777777778,
              "#fb9f3a"
             ],
             [
              0.8888888888888888,
              "#fdca26"
             ],
             [
              1,
              "#f0f921"
             ]
            ],
            "type": "histogram2d"
           }
          ],
          "histogram2dcontour": [
           {
            "colorbar": {
             "outlinewidth": 0,
             "ticks": ""
            },
            "colorscale": [
             [
              0,
              "#0d0887"
             ],
             [
              0.1111111111111111,
              "#46039f"
             ],
             [
              0.2222222222222222,
              "#7201a8"
             ],
             [
              0.3333333333333333,
              "#9c179e"
             ],
             [
              0.4444444444444444,
              "#bd3786"
             ],
             [
              0.5555555555555556,
              "#d8576b"
             ],
             [
              0.6666666666666666,
              "#ed7953"
             ],
             [
              0.7777777777777778,
              "#fb9f3a"
             ],
             [
              0.8888888888888888,
              "#fdca26"
             ],
             [
              1,
              "#f0f921"
             ]
            ],
            "type": "histogram2dcontour"
           }
          ],
          "mesh3d": [
           {
            "colorbar": {
             "outlinewidth": 0,
             "ticks": ""
            },
            "type": "mesh3d"
           }
          ],
          "parcoords": [
           {
            "line": {
             "colorbar": {
              "outlinewidth": 0,
              "ticks": ""
             }
            },
            "type": "parcoords"
           }
          ],
          "pie": [
           {
            "automargin": true,
            "type": "pie"
           }
          ],
          "scatter": [
           {
            "fillpattern": {
             "fillmode": "overlay",
             "size": 10,
             "solidity": 0.2
            },
            "type": "scatter"
           }
          ],
          "scatter3d": [
           {
            "line": {
             "colorbar": {
              "outlinewidth": 0,
              "ticks": ""
             }
            },
            "marker": {
             "colorbar": {
              "outlinewidth": 0,
              "ticks": ""
             }
            },
            "type": "scatter3d"
           }
          ],
          "scattercarpet": [
           {
            "marker": {
             "colorbar": {
              "outlinewidth": 0,
              "ticks": ""
             }
            },
            "type": "scattercarpet"
           }
          ],
          "scattergeo": [
           {
            "marker": {
             "colorbar": {
              "outlinewidth": 0,
              "ticks": ""
             }
            },
            "type": "scattergeo"
           }
          ],
          "scattergl": [
           {
            "marker": {
             "colorbar": {
              "outlinewidth": 0,
              "ticks": ""
             }
            },
            "type": "scattergl"
           }
          ],
          "scattermap": [
           {
            "marker": {
             "colorbar": {
              "outlinewidth": 0,
              "ticks": ""
             }
            },
            "type": "scattermap"
           }
          ],
          "scattermapbox": [
           {
            "marker": {
             "colorbar": {
              "outlinewidth": 0,
              "ticks": ""
             }
            },
            "type": "scattermapbox"
           }
          ],
          "scatterpolar": [
           {
            "marker": {
             "colorbar": {
              "outlinewidth": 0,
              "ticks": ""
             }
            },
            "type": "scatterpolar"
           }
          ],
          "scatterpolargl": [
           {
            "marker": {
             "colorbar": {
              "outlinewidth": 0,
              "ticks": ""
             }
            },
            "type": "scatterpolargl"
           }
          ],
          "scatterternary": [
           {
            "marker": {
             "colorbar": {
              "outlinewidth": 0,
              "ticks": ""
             }
            },
            "type": "scatterternary"
           }
          ],
          "surface": [
           {
            "colorbar": {
             "outlinewidth": 0,
             "ticks": ""
            },
            "colorscale": [
             [
              0,
              "#0d0887"
             ],
             [
              0.1111111111111111,
              "#46039f"
             ],
             [
              0.2222222222222222,
              "#7201a8"
             ],
             [
              0.3333333333333333,
              "#9c179e"
             ],
             [
              0.4444444444444444,
              "#bd3786"
             ],
             [
              0.5555555555555556,
              "#d8576b"
             ],
             [
              0.6666666666666666,
              "#ed7953"
             ],
             [
              0.7777777777777778,
              "#fb9f3a"
             ],
             [
              0.8888888888888888,
              "#fdca26"
             ],
             [
              1,
              "#f0f921"
             ]
            ],
            "type": "surface"
           }
          ],
          "table": [
           {
            "cells": {
             "fill": {
              "color": "#EBF0F8"
             },
             "line": {
              "color": "white"
             }
            },
            "header": {
             "fill": {
              "color": "#C8D4E3"
             },
             "line": {
              "color": "white"
             }
            },
            "type": "table"
           }
          ]
         },
         "layout": {
          "annotationdefaults": {
           "arrowcolor": "#2a3f5f",
           "arrowhead": 0,
           "arrowwidth": 1
          },
          "autotypenumbers": "strict",
          "coloraxis": {
           "colorbar": {
            "outlinewidth": 0,
            "ticks": ""
           }
          },
          "colorscale": {
           "diverging": [
            [
             0,
             "#8e0152"
            ],
            [
             0.1,
             "#c51b7d"
            ],
            [
             0.2,
             "#de77ae"
            ],
            [
             0.3,
             "#f1b6da"
            ],
            [
             0.4,
             "#fde0ef"
            ],
            [
             0.5,
             "#f7f7f7"
            ],
            [
             0.6,
             "#e6f5d0"
            ],
            [
             0.7,
             "#b8e186"
            ],
            [
             0.8,
             "#7fbc41"
            ],
            [
             0.9,
             "#4d9221"
            ],
            [
             1,
             "#276419"
            ]
           ],
           "sequential": [
            [
             0,
             "#0d0887"
            ],
            [
             0.1111111111111111,
             "#46039f"
            ],
            [
             0.2222222222222222,
             "#7201a8"
            ],
            [
             0.3333333333333333,
             "#9c179e"
            ],
            [
             0.4444444444444444,
             "#bd3786"
            ],
            [
             0.5555555555555556,
             "#d8576b"
            ],
            [
             0.6666666666666666,
             "#ed7953"
            ],
            [
             0.7777777777777778,
             "#fb9f3a"
            ],
            [
             0.8888888888888888,
             "#fdca26"
            ],
            [
             1,
             "#f0f921"
            ]
           ],
           "sequentialminus": [
            [
             0,
             "#0d0887"
            ],
            [
             0.1111111111111111,
             "#46039f"
            ],
            [
             0.2222222222222222,
             "#7201a8"
            ],
            [
             0.3333333333333333,
             "#9c179e"
            ],
            [
             0.4444444444444444,
             "#bd3786"
            ],
            [
             0.5555555555555556,
             "#d8576b"
            ],
            [
             0.6666666666666666,
             "#ed7953"
            ],
            [
             0.7777777777777778,
             "#fb9f3a"
            ],
            [
             0.8888888888888888,
             "#fdca26"
            ],
            [
             1,
             "#f0f921"
            ]
           ]
          },
          "colorway": [
           "#636efa",
           "#EF553B",
           "#00cc96",
           "#ab63fa",
           "#FFA15A",
           "#19d3f3",
           "#FF6692",
           "#B6E880",
           "#FF97FF",
           "#FECB52"
          ],
          "font": {
           "color": "#2a3f5f"
          },
          "geo": {
           "bgcolor": "white",
           "lakecolor": "white",
           "landcolor": "#E5ECF6",
           "showlakes": true,
           "showland": true,
           "subunitcolor": "white"
          },
          "hoverlabel": {
           "align": "left"
          },
          "hovermode": "closest",
          "mapbox": {
           "style": "light"
          },
          "paper_bgcolor": "white",
          "plot_bgcolor": "#E5ECF6",
          "polar": {
           "angularaxis": {
            "gridcolor": "white",
            "linecolor": "white",
            "ticks": ""
           },
           "bgcolor": "#E5ECF6",
           "radialaxis": {
            "gridcolor": "white",
            "linecolor": "white",
            "ticks": ""
           }
          },
          "scene": {
           "xaxis": {
            "backgroundcolor": "#E5ECF6",
            "gridcolor": "white",
            "gridwidth": 2,
            "linecolor": "white",
            "showbackground": true,
            "ticks": "",
            "zerolinecolor": "white"
           },
           "yaxis": {
            "backgroundcolor": "#E5ECF6",
            "gridcolor": "white",
            "gridwidth": 2,
            "linecolor": "white",
            "showbackground": true,
            "ticks": "",
            "zerolinecolor": "white"
           },
           "zaxis": {
            "backgroundcolor": "#E5ECF6",
            "gridcolor": "white",
            "gridwidth": 2,
            "linecolor": "white",
            "showbackground": true,
            "ticks": "",
            "zerolinecolor": "white"
           }
          },
          "shapedefaults": {
           "line": {
            "color": "#2a3f5f"
           }
          },
          "ternary": {
           "aaxis": {
            "gridcolor": "white",
            "linecolor": "white",
            "ticks": ""
           },
           "baxis": {
            "gridcolor": "white",
            "linecolor": "white",
            "ticks": ""
           },
           "bgcolor": "#E5ECF6",
           "caxis": {
            "gridcolor": "white",
            "linecolor": "white",
            "ticks": ""
           }
          },
          "title": {
           "x": 0.05
          },
          "xaxis": {
           "automargin": true,
           "gridcolor": "white",
           "linecolor": "white",
           "ticks": "",
           "title": {
            "standoff": 15
           },
           "zerolinecolor": "white",
           "zerolinewidth": 2
          },
          "yaxis": {
           "automargin": true,
           "gridcolor": "white",
           "linecolor": "white",
           "ticks": "",
           "title": {
            "standoff": 15
           },
           "zerolinecolor": "white",
           "zerolinewidth": 2
          }
         }
        },
        "xaxis": {
         "anchor": "y",
         "domain": [
          0,
          0.2888888888888889
         ],
         "title": {
          "text": "year"
         }
        },
        "xaxis10": {
         "anchor": "y10",
         "domain": [
          0,
          0.2888888888888889
         ],
         "title": {
          "text": "year"
         }
        },
        "xaxis11": {
         "anchor": "y11",
         "domain": [
          0.35555555555555557,
          0.6444444444444445
         ],
         "title": {
          "text": "year"
         }
        },
        "xaxis12": {
         "anchor": "y12",
         "domain": [
          0.7111111111111111,
          1
         ],
         "title": {
          "text": "business profits change year-on-year"
         }
        },
        "xaxis13": {
         "anchor": "y13",
         "domain": [
          0,
          0.2888888888888889
         ],
         "title": {
          "text": "year"
         }
        },
        "xaxis14": {
         "anchor": "y14",
         "domain": [
          0.35555555555555557,
          0.6444444444444445
         ],
         "title": {
          "text": "year"
         }
        },
        "xaxis15": {
         "anchor": "y15",
         "domain": [
          0.7111111111111111,
          1
         ],
         "title": {
          "text": "business profits change year-on-year"
         }
        },
        "xaxis16": {
         "anchor": "y16",
         "domain": [
          0,
          0.2888888888888889
         ],
         "title": {
          "text": "year"
         }
        },
        "xaxis17": {
         "anchor": "y17",
         "domain": [
          0.35555555555555557,
          0.6444444444444445
         ],
         "title": {
          "text": "year"
         }
        },
        "xaxis18": {
         "anchor": "y18",
         "domain": [
          0.7111111111111111,
          1
         ],
         "title": {
          "text": "business profits change year-on-year"
         }
        },
        "xaxis19": {
         "anchor": "y19",
         "domain": [
          0,
          0.2888888888888889
         ],
         "title": {
          "text": "year"
         }
        },
        "xaxis2": {
         "anchor": "y2",
         "domain": [
          0.35555555555555557,
          0.6444444444444445
         ],
         "title": {
          "text": "year"
         }
        },
        "xaxis20": {
         "anchor": "y20",
         "domain": [
          0.35555555555555557,
          0.6444444444444445
         ],
         "title": {
          "text": "year"
         }
        },
        "xaxis21": {
         "anchor": "y21",
         "domain": [
          0.7111111111111111,
          1
         ],
         "title": {
          "text": "business profits change year-on-year"
         }
        },
        "xaxis22": {
         "anchor": "y22",
         "domain": [
          0,
          0.2888888888888889
         ],
         "title": {
          "text": "year"
         }
        },
        "xaxis23": {
         "anchor": "y23",
         "domain": [
          0.35555555555555557,
          0.6444444444444445
         ],
         "title": {
          "text": "year"
         }
        },
        "xaxis24": {
         "anchor": "y24",
         "domain": [
          0.7111111111111111,
          1
         ],
         "title": {
          "text": "business profits change year-on-year"
         }
        },
        "xaxis25": {
         "anchor": "y25",
         "domain": [
          0,
          0.2888888888888889
         ],
         "title": {
          "text": "year"
         }
        },
        "xaxis26": {
         "anchor": "y26",
         "domain": [
          0.35555555555555557,
          0.6444444444444445
         ],
         "title": {
          "text": "year"
         }
        },
        "xaxis27": {
         "anchor": "y27",
         "domain": [
          0.7111111111111111,
          1
         ],
         "title": {
          "text": "business profits change year-on-year"
         }
        },
        "xaxis28": {
         "anchor": "y28",
         "domain": [
          0,
          0.2888888888888889
         ],
         "title": {
          "text": "year"
         }
        },
        "xaxis29": {
         "anchor": "y29",
         "domain": [
          0.35555555555555557,
          0.6444444444444445
         ],
         "title": {
          "text": "year"
         }
        },
        "xaxis3": {
         "anchor": "y3",
         "domain": [
          0.7111111111111111,
          1
         ],
         "title": {
          "text": "business profits change year-on-year"
         }
        },
        "xaxis30": {
         "anchor": "y30",
         "domain": [
          0.7111111111111111,
          1
         ],
         "title": {
          "text": "business profits change year-on-year"
         }
        },
        "xaxis31": {
         "anchor": "y31",
         "domain": [
          0,
          0.2888888888888889
         ],
         "title": {
          "text": "year"
         }
        },
        "xaxis32": {
         "anchor": "y32",
         "domain": [
          0.35555555555555557,
          0.6444444444444445
         ],
         "title": {
          "text": "year"
         }
        },
        "xaxis33": {
         "anchor": "y33",
         "domain": [
          0.7111111111111111,
          1
         ],
         "title": {
          "text": "business profits change year-on-year"
         }
        },
        "xaxis4": {
         "anchor": "y4",
         "domain": [
          0,
          0.2888888888888889
         ],
         "title": {
          "text": "year"
         }
        },
        "xaxis5": {
         "anchor": "y5",
         "domain": [
          0.35555555555555557,
          0.6444444444444445
         ],
         "title": {
          "text": "year"
         }
        },
        "xaxis6": {
         "anchor": "y6",
         "domain": [
          0.7111111111111111,
          1
         ],
         "title": {
          "text": "business profits change year-on-year"
         }
        },
        "xaxis7": {
         "anchor": "y7",
         "domain": [
          0,
          0.2888888888888889
         ],
         "title": {
          "text": "year"
         }
        },
        "xaxis8": {
         "anchor": "y8",
         "domain": [
          0.35555555555555557,
          0.6444444444444445
         ],
         "title": {
          "text": "year"
         }
        },
        "xaxis9": {
         "anchor": "y9",
         "domain": [
          0.7111111111111111,
          1
         ],
         "title": {
          "text": "business profits change year-on-year"
         }
        },
        "yaxis": {
         "anchor": "x",
         "domain": [
          0.9504132231404958,
          0.9999999999999999
         ],
         "title": {
          "font": {
           "size": 12
          },
          "text": "Agriculture, Forestry and Fishing"
         }
        },
        "yaxis10": {
         "anchor": "x10",
         "domain": [
          0.665289256198347,
          0.7148760330578511
         ],
         "title": {
          "font": {
           "size": 12
          },
          "text": "Electricity, Gas, Water and Waste Services"
         }
        },
        "yaxis11": {
         "anchor": "x11",
         "domain": [
          0.665289256198347,
          0.7148760330578511
         ],
         "title": {
          "font": {
           "size": 12
          }
         }
        },
        "yaxis12": {
         "anchor": "x12",
         "domain": [
          0.665289256198347,
          0.7148760330578511
         ],
         "title": {
          "font": {
           "size": 12
          },
          "text": "business filled jobs change year-on-year"
         }
        },
        "yaxis13": {
         "anchor": "x13",
         "domain": [
          0.5702479338842974,
          0.6198347107438015
         ],
         "title": {
          "font": {
           "size": 12
          },
          "text": "Health Care and Social Assistance"
         }
        },
        "yaxis14": {
         "anchor": "x14",
         "domain": [
          0.5702479338842974,
          0.6198347107438015
         ],
         "title": {
          "font": {
           "size": 12
          }
         }
        },
        "yaxis15": {
         "anchor": "x15",
         "domain": [
          0.5702479338842974,
          0.6198347107438015
         ],
         "title": {
          "font": {
           "size": 12
          },
          "text": "business filled jobs change year-on-year"
         }
        },
        "yaxis16": {
         "anchor": "x16",
         "domain": [
          0.4752066115702479,
          0.524793388429752
         ],
         "title": {
          "font": {
           "size": 12
          },
          "text": "Information Media and Telecommunications"
         }
        },
        "yaxis17": {
         "anchor": "x17",
         "domain": [
          0.4752066115702479,
          0.524793388429752
         ],
         "title": {
          "font": {
           "size": 12
          }
         }
        },
        "yaxis18": {
         "anchor": "x18",
         "domain": [
          0.4752066115702479,
          0.524793388429752
         ],
         "title": {
          "font": {
           "size": 12
          },
          "text": "business filled jobs change year-on-year"
         }
        },
        "yaxis19": {
         "anchor": "x19",
         "domain": [
          0.3801652892561983,
          0.42975206611570244
         ],
         "title": {
          "font": {
           "size": 12
          },
          "text": "Manufacturing"
         }
        },
        "yaxis2": {
         "anchor": "x2",
         "domain": [
          0.9504132231404958,
          0.9999999999999999
         ],
         "title": {
          "font": {
           "size": 12
          }
         }
        },
        "yaxis20": {
         "anchor": "x20",
         "domain": [
          0.3801652892561983,
          0.42975206611570244
         ],
         "title": {
          "font": {
           "size": 12
          }
         }
        },
        "yaxis21": {
         "anchor": "x21",
         "domain": [
          0.3801652892561983,
          0.42975206611570244
         ],
         "title": {
          "font": {
           "size": 12
          },
          "text": "business filled jobs change year-on-year"
         }
        },
        "yaxis22": {
         "anchor": "x22",
         "domain": [
          0.2851239669421487,
          0.33471074380165283
         ],
         "title": {
          "font": {
           "size": 12
          },
          "text": "Mining"
         }
        },
        "yaxis23": {
         "anchor": "x23",
         "domain": [
          0.2851239669421487,
          0.33471074380165283
         ],
         "title": {
          "font": {
           "size": 12
          }
         }
        },
        "yaxis24": {
         "anchor": "x24",
         "domain": [
          0.2851239669421487,
          0.33471074380165283
         ],
         "title": {
          "font": {
           "size": 12
          },
          "text": "business filled jobs change year-on-year"
         }
        },
        "yaxis25": {
         "anchor": "x25",
         "domain": [
          0.19008264462809915,
          0.23966942148760328
         ],
         "title": {
          "font": {
           "size": 12
          },
          "text": "Rental, Hiring and Real Estate Services"
         }
        },
        "yaxis26": {
         "anchor": "x26",
         "domain": [
          0.19008264462809915,
          0.23966942148760328
         ],
         "title": {
          "font": {
           "size": 12
          }
         }
        },
        "yaxis27": {
         "anchor": "x27",
         "domain": [
          0.19008264462809915,
          0.23966942148760328
         ],
         "title": {
          "font": {
           "size": 12
          },
          "text": "business filled jobs change year-on-year"
         }
        },
        "yaxis28": {
         "anchor": "x28",
         "domain": [
          0.09504132231404958,
          0.1446280991735537
         ],
         "title": {
          "font": {
           "size": 12
          },
          "text": "Transport, Postal and Warehousing"
         }
        },
        "yaxis29": {
         "anchor": "x29",
         "domain": [
          0.09504132231404958,
          0.1446280991735537
         ],
         "title": {
          "font": {
           "size": 12
          }
         }
        },
        "yaxis3": {
         "anchor": "x3",
         "domain": [
          0.9504132231404958,
          0.9999999999999999
         ],
         "title": {
          "font": {
           "size": 12
          },
          "text": "business filled jobs change year-on-year"
         }
        },
        "yaxis30": {
         "anchor": "x30",
         "domain": [
          0.09504132231404958,
          0.1446280991735537
         ],
         "title": {
          "font": {
           "size": 12
          },
          "text": "business filled jobs change year-on-year"
         }
        },
        "yaxis31": {
         "anchor": "x31",
         "domain": [
          0,
          0.04958677685950413
         ],
         "title": {
          "font": {
           "size": 12
          },
          "text": "Wholesale Trade"
         }
        },
        "yaxis32": {
         "anchor": "x32",
         "domain": [
          0,
          0.04958677685950413
         ],
         "title": {
          "font": {
           "size": 12
          }
         }
        },
        "yaxis33": {
         "anchor": "x33",
         "domain": [
          0,
          0.04958677685950413
         ],
         "title": {
          "font": {
           "size": 12
          },
          "text": "business filled jobs change year-on-year"
         }
        },
        "yaxis4": {
         "anchor": "x4",
         "domain": [
          0.8553719008264462,
          0.9049586776859503
         ],
         "title": {
          "font": {
           "size": 12
          },
          "text": "Construction"
         }
        },
        "yaxis5": {
         "anchor": "x5",
         "domain": [
          0.8553719008264462,
          0.9049586776859503
         ],
         "title": {
          "font": {
           "size": 12
          }
         }
        },
        "yaxis6": {
         "anchor": "x6",
         "domain": [
          0.8553719008264462,
          0.9049586776859503
         ],
         "title": {
          "font": {
           "size": 12
          },
          "text": "business filled jobs change year-on-year"
         }
        },
        "yaxis7": {
         "anchor": "x7",
         "domain": [
          0.7603305785123966,
          0.8099173553719007
         ],
         "title": {
          "font": {
           "size": 12
          },
          "text": "Education and Training"
         }
        },
        "yaxis8": {
         "anchor": "x8",
         "domain": [
          0.7603305785123966,
          0.8099173553719007
         ],
         "title": {
          "font": {
           "size": 12
          }
         }
        },
        "yaxis9": {
         "anchor": "x9",
         "domain": [
          0.7603305785123966,
          0.8099173553719007
         ],
         "title": {
          "font": {
           "size": 12
          },
          "text": "business filled jobs change year-on-year"
         }
        }
       }
      }
     },
     "metadata": {},
     "output_type": "display_data"
    }
   ],
   "source": [
    "explore_correlations(df_bus_metric_corr, 'industry', 'year_time', 'year', 'profits_yearly_change', 'business profits change', 'filled_jobs_yearly_change', 'business filled jobs change')"
   ]
  },
  {
   "cell_type": "markdown",
   "id": "d0c02495",
   "metadata": {},
   "source": [
    "![profits-jobs](./assets/profits_jobs.png)"
   ]
  },
  {
   "cell_type": "markdown",
   "id": "44db8da3",
   "metadata": {},
   "source": [
    "#### filled jobs - salaries correlation"
   ]
  },
  {
   "cell_type": "code",
   "execution_count": 24,
   "id": "670f48d3",
   "metadata": {},
   "outputs": [
    {
     "data": {
      "application/vnd.plotly.v1+json": {
       "config": {
        "plotlyServerURL": "https://plot.ly"
       },
       "data": [
        {
         "marker": {
          "color": "#002F6B"
         },
         "name": "business salaries change year-on-year",
         "type": "bar",
         "x": [
          "2018-01-01T00:00:00.000000000",
          "2019-01-01T00:00:00.000000000",
          "2020-01-01T00:00:00.000000000",
          "2021-01-01T00:00:00.000000000",
          "2022-01-01T00:00:00.000000000",
          "2023-01-01T00:00:00.000000000"
         ],
         "xaxis": "x",
         "y": {
          "bdata": "SgwCK4cWuT8rhxbZzvezP7gehetRuJ4/y6FFtvP9tD85tMh2vp+qP4ts5/up8bI/",
          "dtype": "f8"
         },
         "yaxis": "y",
         "zorder": 1
        },
        {
         "marker": {
          "color": "#002F6B"
         },
         "name": "business filled jobs change year-on-year",
         "type": "bar",
         "x": [
          "2018-01-01T00:00:00.000000000",
          "2019-01-01T00:00:00.000000000",
          "2020-01-01T00:00:00.000000000",
          "2021-01-01T00:00:00.000000000",
          "2022-01-01T00:00:00.000000000",
          "2023-01-01T00:00:00.000000000"
         ],
         "xaxis": "x2",
         "y": {
          "bdata": "O99PjZdugj97FK5H4Xp0P9nO91PjpZs//Knx0k1iYL/8qfHSTWKAvzm0yHa+n4q/",
          "dtype": "f8"
         },
         "yaxis": "y2",
         "zorder": 1
        },
        {
         "marker": {
          "color": "#002F6B"
         },
         "mode": "markers",
         "name": "business salaries change-business filled jobs change correlation",
         "type": "scatter",
         "x": {
          "bdata": "SgwCK4cWuT8rhxbZzvezP7gehetRuJ4/y6FFtvP9tD85tMh2vp+qP4ts5/up8bI/",
          "dtype": "f8"
         },
         "xaxis": "x3",
         "y": {
          "bdata": "O99PjZdugj97FK5H4Xp0P9nO91PjpZs//Knx0k1iYL/8qfHSTWKAvzm0yHa+n4q/",
          "dtype": "f8"
         },
         "yaxis": "y3",
         "zorder": 1
        },
        {
         "line": {
          "color": "#FAA61A",
          "dash": "solid"
         },
         "mode": "lines",
         "name": "Agriculture, Forestry and Fishing Fit",
         "showlegend": false,
         "type": "scatter",
         "x": {
          "bdata": "SgwCK4cWuT8rhxbZzvezP7gehetRuJ4/y6FFtvP9tD85tMh2vp+qP4ts5/up8bI/",
          "dtype": "f8"
         },
         "xaxis": "x3",
         "y": {
          "bdata": "BBal4t01cL9AbnGOn4xLP3CbpMSFTok/AL8EX4EtH7+20jC5dP58PzC6YaR3f10/",
          "dtype": "f8"
         },
         "yaxis": "y3"
        },
        {
         "marker": {
          "color": "#002F6B"
         },
         "name": "business salaries change year-on-year",
         "type": "bar",
         "x": [
          "2018-01-01T00:00:00.000000000",
          "2019-01-01T00:00:00.000000000",
          "2020-01-01T00:00:00.000000000",
          "2021-01-01T00:00:00.000000000",
          "2022-01-01T00:00:00.000000000",
          "2023-01-01T00:00:00.000000000"
         ],
         "xaxis": "x4",
         "y": {
          "bdata": "WmQ730+Ntz9zaJHtfD+1PyuHFtnO96M/nMQgsHJowT9YObTIdr6/P6JFtvP91Lg/",
          "dtype": "f8"
         },
         "yaxis": "y4",
         "zorder": 1
        },
        {
         "marker": {
          "color": "#002F6B"
         },
         "name": "business filled jobs change year-on-year",
         "type": "bar",
         "x": [
          "2018-01-01T00:00:00.000000000",
          "2019-01-01T00:00:00.000000000",
          "2020-01-01T00:00:00.000000000",
          "2021-01-01T00:00:00.000000000",
          "2022-01-01T00:00:00.000000000",
          "2023-01-01T00:00:00.000000000"
         ],
         "xaxis": "x5",
         "y": {
          "bdata": "iUFg5dAiqz/pJjEIrByqP2q8dJMYBKY/TDeJQWDlsD9aZDvfT42nP9nO91PjpZs/",
          "dtype": "f8"
         },
         "yaxis": "y5",
         "zorder": 1
        },
        {
         "marker": {
          "color": "#002F6B"
         },
         "mode": "markers",
         "name": "business salaries change-business filled jobs change correlation",
         "type": "scatter",
         "x": {
          "bdata": "WmQ730+Ntz9zaJHtfD+1PyuHFtnO96M/nMQgsHJowT9YObTIdr6/P6JFtvP91Lg/",
          "dtype": "f8"
         },
         "xaxis": "x6",
         "y": {
          "bdata": "iUFg5dAiqz/pJjEIrByqP2q8dJMYBKY/TDeJQWDlsD9aZDvfT42nP9nO91PjpZs/",
          "dtype": "f8"
         },
         "yaxis": "y6",
         "zorder": 1
        },
        {
         "line": {
          "color": "#FAA61A",
          "dash": "solid"
         },
         "mode": "lines",
         "name": "Construction Fit",
         "showlegend": false,
         "type": "scatter",
         "x": {
          "bdata": "WmQ730+Ntz9zaJHtfD+1PyuHFtnO96M/nMQgsHJowT9YObTIdr6/P6JFtvP91Lg/",
          "dtype": "f8"
         },
         "xaxis": "x6",
         "y": {
          "bdata": "gnzk9NopqD/8t+mE5nmnP4ZMA0WtHaQ/+OfKNBSGqz/v4dH0eJuqP1uU4aSbi6g/",
          "dtype": "f8"
         },
         "yaxis": "y6"
        },
        {
         "marker": {
          "color": "#002F6B"
         },
         "name": "business salaries change year-on-year",
         "type": "bar",
         "x": [
          "2018-01-01T00:00:00.000000000",
          "2019-01-01T00:00:00.000000000",
          "2020-01-01T00:00:00.000000000",
          "2021-01-01T00:00:00.000000000",
          "2022-01-01T00:00:00.000000000",
          "2023-01-01T00:00:00.000000000"
         ],
         "xaxis": "x7",
         "y": {
          "bdata": "ukkMAiuHtj+cxCCwcmixP9v5fmq8dJM/2/l+arx0sz/sUbgeheuhP1TjpZvEIMA/",
          "dtype": "f8"
         },
         "yaxis": "y7",
         "zorder": 1
        },
        {
         "marker": {
          "color": "#002F6B"
         },
         "name": "business filled jobs change year-on-year",
         "type": "bar",
         "x": [
          "2018-01-01T00:00:00.000000000",
          "2019-01-01T00:00:00.000000000",
          "2020-01-01T00:00:00.000000000",
          "2021-01-01T00:00:00.000000000",
          "2022-01-01T00:00:00.000000000",
          "2023-01-01T00:00:00.000000000"
         ],
         "xaxis": "x8",
         "y": {
          "bdata": "mpmZmZmZmT8ZBFYOLbKdPzvfT42XbpI/ObTIdr6fij8AAAAAAAAAAPp+arx0k5g/",
          "dtype": "f8"
         },
         "yaxis": "y8",
         "zorder": 1
        },
        {
         "marker": {
          "color": "#002F6B"
         },
         "mode": "markers",
         "name": "business salaries change-business filled jobs change correlation",
         "type": "scatter",
         "x": {
          "bdata": "ukkMAiuHtj+cxCCwcmixP9v5fmq8dJM/2/l+arx0sz/sUbgeheuhP1TjpZvEIMA/",
          "dtype": "f8"
         },
         "xaxis": "x9",
         "y": {
          "bdata": "mpmZmZmZmT8ZBFYOLbKdPzvfT42XbpI/ObTIdr6fij8AAAAAAAAAAPp+arx0k5g/",
          "dtype": "f8"
         },
         "yaxis": "y9",
         "zorder": 1
        },
        {
         "line": {
          "color": "#FAA61A",
          "dash": "solid"
         },
         "mode": "lines",
         "name": "Education and Training Fit",
         "showlegend": false,
         "type": "scatter",
         "x": {
          "bdata": "ukkMAiuHtj+cxCCwcmixP9v5fmq8dJM/2/l+arx0sz/sUbgeheuhP1TjpZvEIMA/",
          "dtype": "f8"
         },
         "xaxis": "x9",
         "y": {
          "bdata": "hoGP5LlrlT+KARjCZ4GSP4mpGajWuYY/IpsUA++rkz/qDwys82OLPxlbP1m89Zo/",
          "dtype": "f8"
         },
         "yaxis": "y9"
        },
        {
         "marker": {
          "color": "#002F6B"
         },
         "name": "business salaries change year-on-year",
         "type": "bar",
         "x": [
          "2018-01-01T00:00:00.000000000",
          "2019-01-01T00:00:00.000000000",
          "2020-01-01T00:00:00.000000000",
          "2021-01-01T00:00:00.000000000",
          "2022-01-01T00:00:00.000000000",
          "2023-01-01T00:00:00.000000000"
         ],
         "xaxis": "x10",
         "y": {
          "bdata": "CtejcD0Ktz9qvHSTGASmP0w3iUFg5bA/46WbxCCwsj+q8dJNYhC4Pylcj8L1KLw/",
          "dtype": "f8"
         },
         "yaxis": "y10",
         "zorder": 1
        },
        {
         "marker": {
          "color": "#002F6B"
         },
         "name": "business filled jobs change year-on-year",
         "type": "bar",
         "x": [
          "2018-01-01T00:00:00.000000000",
          "2019-01-01T00:00:00.000000000",
          "2020-01-01T00:00:00.000000000",
          "2021-01-01T00:00:00.000000000",
          "2022-01-01T00:00:00.000000000",
          "2023-01-01T00:00:00.000000000"
         ],
         "xaxis": "x11",
         "y": {
          "bdata": "aJHtfD81rj/sUbgeheuhPyuHFtnO96M/exSuR+F6pD+JQWDl0CKrPyuHFtnO96M/",
          "dtype": "f8"
         },
         "yaxis": "y11",
         "zorder": 1
        },
        {
         "marker": {
          "color": "#002F6B"
         },
         "mode": "markers",
         "name": "business salaries change-business filled jobs change correlation",
         "type": "scatter",
         "x": {
          "bdata": "CtejcD0Ktz9qvHSTGASmP0w3iUFg5bA/46WbxCCwsj+q8dJNYhC4Pylcj8L1KLw/",
          "dtype": "f8"
         },
         "xaxis": "x12",
         "y": {
          "bdata": "aJHtfD81rj/sUbgeheuhPyuHFtnO96M/exSuR+F6pD+JQWDl0CKrPyuHFtnO96M/",
          "dtype": "f8"
         },
         "yaxis": "y12",
         "zorder": 1
        },
        {
         "line": {
          "color": "#FAA61A",
          "dash": "solid"
         },
         "mode": "lines",
         "name": "Electricity, Gas, Water and Waste Services Fit",
         "showlegend": false,
         "type": "scatter",
         "x": {
          "bdata": "CtejcD0Ktz9qvHSTGASmP0w3iUFg5bA/46WbxCCwsj+q8dJNYhC4Pylcj8L1KLw/",
          "dtype": "f8"
         },
         "xaxis": "x12",
         "y": {
          "bdata": "rCjour2ypz8dppbFAOuiPwxIcoTaQaU/5f6pyRz4pT9xI1GZ4xqoP4YO9RJ7u6k/",
          "dtype": "f8"
         },
         "yaxis": "y12"
        },
        {
         "marker": {
          "color": "#002F6B"
         },
         "name": "business salaries change year-on-year",
         "type": "bar",
         "x": [
          "2018-01-01T00:00:00.000000000",
          "2019-01-01T00:00:00.000000000",
          "2020-01-01T00:00:00.000000000",
          "2021-01-01T00:00:00.000000000",
          "2022-01-01T00:00:00.000000000",
          "2023-01-01T00:00:00.000000000"
         ],
         "xaxis": "x13",
         "y": {
          "bdata": "ke18PzVeuj8j2/l+ary0PxkEVg4tsq0/TDeJQWDlwD8Sg8DKoUW2PzEIrBxaZLs/",
          "dtype": "f8"
         },
         "yaxis": "y13",
         "zorder": 1
        },
        {
         "marker": {
          "color": "#002F6B"
         },
         "name": "business filled jobs change year-on-year",
         "type": "bar",
         "x": [
          "2018-01-01T00:00:00.000000000",
          "2019-01-01T00:00:00.000000000",
          "2020-01-01T00:00:00.000000000",
          "2021-01-01T00:00:00.000000000",
          "2022-01-01T00:00:00.000000000",
          "2023-01-01T00:00:00.000000000"
         ],
         "xaxis": "x14",
         "y": {
          "bdata": "O99PjZdukj85tMh2vp+aPzvfT42XbqI/2c73U+Olqz+cxCCwcmiRP9v5fmq8dKM/",
          "dtype": "f8"
         },
         "yaxis": "y14",
         "zorder": 1
        },
        {
         "marker": {
          "color": "#002F6B"
         },
         "mode": "markers",
         "name": "business salaries change-business filled jobs change correlation",
         "type": "scatter",
         "x": {
          "bdata": "ke18PzVeuj8j2/l+ary0PxkEVg4tsq0/TDeJQWDlwD8Sg8DKoUW2PzEIrBxaZLs/",
          "dtype": "f8"
         },
         "xaxis": "x15",
         "y": {
          "bdata": "O99PjZdukj85tMh2vp+aPzvfT42XbqI/2c73U+Olqz+cxCCwcmiRP9v5fmq8dKM/",
          "dtype": "f8"
         },
         "yaxis": "y15",
         "zorder": 1
        },
        {
         "line": {
          "color": "#FAA61A",
          "dash": "solid"
         },
         "mode": "lines",
         "name": "Health Care and Social Assistance Fit",
         "showlegend": false,
         "type": "scatter",
         "x": {
          "bdata": "ke18PzVeuj8j2/l+ary0PxkEVg4tsq0/TDeJQWDlwD8Sg8DKoUW2PzEIrBxaZLs/",
          "dtype": "f8"
         },
         "xaxis": "x15",
         "y": {
          "bdata": "O7zMM0M7oT+Zjv859KKcP4/r9ZWVi5Y/SLkg6VcSpT+m5Z0AvzmeP5UurCDcwqE/",
          "dtype": "f8"
         },
         "yaxis": "y15"
        },
        {
         "marker": {
          "color": "#002F6B"
         },
         "name": "business salaries change year-on-year",
         "type": "bar",
         "x": [
          "2018-01-01T00:00:00.000000000",
          "2019-01-01T00:00:00.000000000",
          "2020-01-01T00:00:00.000000000",
          "2021-01-01T00:00:00.000000000",
          "2022-01-01T00:00:00.000000000",
          "2023-01-01T00:00:00.000000000"
         ],
         "xaxis": "x16",
         "y": {
          "bdata": "ukkMAiuHhr9aZDvfT42nPxsv3SQGgZU/O99PjZduoj9Ei2zn+6mxP4lBYOXQIqs/",
          "dtype": "f8"
         },
         "yaxis": "y16",
         "zorder": 1
        },
        {
         "marker": {
          "color": "#002F6B"
         },
         "name": "business filled jobs change year-on-year",
         "type": "bar",
         "x": [
          "2018-01-01T00:00:00.000000000",
          "2019-01-01T00:00:00.000000000",
          "2020-01-01T00:00:00.000000000",
          "2021-01-01T00:00:00.000000000",
          "2022-01-01T00:00:00.000000000",
          "2023-01-01T00:00:00.000000000"
         ],
         "xaxis": "x17",
         "y": {
          "bdata": "Gy/dJAaBpb/8qfHSTWKwv4lBYOXQIqu/exSuR+F6dD97FK5H4XqUP1pkO99Pjac/",
          "dtype": "f8"
         },
         "yaxis": "y17",
         "zorder": 1
        },
        {
         "marker": {
          "color": "#002F6B"
         },
         "mode": "markers",
         "name": "business salaries change-business filled jobs change correlation",
         "type": "scatter",
         "x": {
          "bdata": "ukkMAiuHhr9aZDvfT42nPxsv3SQGgZU/O99PjZduoj9Ei2zn+6mxP4lBYOXQIqs/",
          "dtype": "f8"
         },
         "xaxis": "x18",
         "y": {
          "bdata": "Gy/dJAaBpb/8qfHSTWKwv4lBYOXQIqu/exSuR+F6dD97FK5H4XqUP1pkO99Pjac/",
          "dtype": "f8"
         },
         "yaxis": "y18",
         "zorder": 1
        },
        {
         "line": {
          "color": "#FAA61A",
          "dash": "solid"
         },
         "mode": "lines",
         "name": "Information Media and Telecommunications Fit",
         "showlegend": false,
         "type": "scatter",
         "x": {
          "bdata": "ukkMAiuHhr9aZDvfT42nPxsv3SQGgZU/O99PjZduoj9Ei2zn+6mxP4lBYOXQIqs/",
          "dtype": "f8"
         },
         "xaxis": "x18",
         "y": {
          "bdata": "c9TR1fskrb/Id/3q4791vz2n0kwunpy/7FzB0E9rjb+Ets2C/8aPP8Cm5R+x2VA/",
          "dtype": "f8"
         },
         "yaxis": "y18"
        },
        {
         "marker": {
          "color": "#002F6B"
         },
         "name": "business salaries change year-on-year",
         "type": "bar",
         "x": [
          "2018-01-01T00:00:00.000000000",
          "2019-01-01T00:00:00.000000000",
          "2020-01-01T00:00:00.000000000",
          "2021-01-01T00:00:00.000000000",
          "2022-01-01T00:00:00.000000000",
          "2023-01-01T00:00:00.000000000"
         ],
         "xaxis": "x19",
         "y": {
          "bdata": "6SYxCKwcqj/b+X5qvHSjP9v5fmq8dJM/2c73U+Olqz/TTWIQWDm0P2iR7Xw/Na4/",
          "dtype": "f8"
         },
         "yaxis": "y19",
         "zorder": 1
        },
        {
         "marker": {
          "color": "#002F6B"
         },
         "name": "business filled jobs change year-on-year",
         "type": "bar",
         "x": [
          "2018-01-01T00:00:00.000000000",
          "2019-01-01T00:00:00.000000000",
          "2020-01-01T00:00:00.000000000",
          "2021-01-01T00:00:00.000000000",
          "2022-01-01T00:00:00.000000000",
          "2023-01-01T00:00:00.000000000"
         ],
         "xaxis": "x20",
         "y": {
          "bdata": "ukkMAiuHlj97FK5H4XqEP/p+arx0k3i/AAAAAAAAAACcxCCwcmiRP7gehetRuI4/",
          "dtype": "f8"
         },
         "yaxis": "y20",
         "zorder": 1
        },
        {
         "marker": {
          "color": "#002F6B"
         },
         "mode": "markers",
         "name": "business salaries change-business filled jobs change correlation",
         "type": "scatter",
         "x": {
          "bdata": "6SYxCKwcqj/b+X5qvHSjP9v5fmq8dJM/2c73U+Olqz/TTWIQWDm0P2iR7Xw/Na4/",
          "dtype": "f8"
         },
         "xaxis": "x21",
         "y": {
          "bdata": "ukkMAiuHlj97FK5H4XqEP/p+arx0k3i/AAAAAAAAAACcxCCwcmiRP7gehetRuI4/",
          "dtype": "f8"
         },
         "yaxis": "y21",
         "zorder": 1
        },
        {
         "line": {
          "color": "#FAA61A",
          "dash": "solid"
         },
         "mode": "lines",
         "name": "Manufacturing Fit",
         "showlegend": false,
         "type": "scatter",
         "x": {
          "bdata": "6SYxCKwcqj/b+X5qvHSjP9v5fmq8dJM/2c73U+Olqz/TTWIQWDm0P2iR7Xw/Na4/",
          "dtype": "f8"
         },
         "xaxis": "x21",
         "y": {
          "bdata": "mtcDpMWDhD8OZiGYhWB2P+R1C1VtiVO/MlZjc7yqhj+UOmpEDU2UPzAprXcCQYo/",
          "dtype": "f8"
         },
         "yaxis": "y21"
        },
        {
         "marker": {
          "color": "#002F6B"
         },
         "name": "business salaries change year-on-year",
         "type": "bar",
         "x": [
          "2018-01-01T00:00:00.000000000",
          "2019-01-01T00:00:00.000000000",
          "2020-01-01T00:00:00.000000000",
          "2021-01-01T00:00:00.000000000",
          "2022-01-01T00:00:00.000000000",
          "2023-01-01T00:00:00.000000000"
         ],
         "xaxis": "x22",
         "y": {
          "bdata": "/Knx0k1ioL/6fmq8dJOoP1pkO99Pjbe/c2iR7Xw/tT9I4XoUrkfBP6JFtvP91Lg/",
          "dtype": "f8"
         },
         "yaxis": "y22",
         "zorder": 1
        },
        {
         "marker": {
          "color": "#002F6B"
         },
         "name": "business filled jobs change year-on-year",
         "type": "bar",
         "x": [
          "2018-01-01T00:00:00.000000000",
          "2019-01-01T00:00:00.000000000",
          "2020-01-01T00:00:00.000000000",
          "2021-01-01T00:00:00.000000000",
          "2022-01-01T00:00:00.000000000",
          "2023-01-01T00:00:00.000000000"
         ],
         "xaxis": "x23",
         "y": {
          "bdata": "WDm0yHa+nz956SYxCKycv3sUrkfhenQ//Knx0k1ikD8ZBFYOLbKdP0oMAiuHFqk/",
          "dtype": "f8"
         },
         "yaxis": "y23",
         "zorder": 1
        },
        {
         "marker": {
          "color": "#002F6B"
         },
         "mode": "markers",
         "name": "business salaries change-business filled jobs change correlation",
         "type": "scatter",
         "x": {
          "bdata": "/Knx0k1ioL/6fmq8dJOoP1pkO99Pjbe/c2iR7Xw/tT9I4XoUrkfBP6JFtvP91Lg/",
          "dtype": "f8"
         },
         "xaxis": "x24",
         "y": {
          "bdata": "WDm0yHa+nz956SYxCKycv3sUrkfhenQ//Knx0k1ikD8ZBFYOLbKdP0oMAiuHFqk/",
          "dtype": "f8"
         },
         "yaxis": "y24",
         "zorder": 1
        },
        {
         "line": {
          "color": "#FAA61A",
          "dash": "solid"
         },
         "mode": "lines",
         "name": "Mining Fit",
         "showlegend": false,
         "type": "scatter",
         "x": {
          "bdata": "/Knx0k1ioL/6fmq8dJOoP1pkO99Pjbe/c2iR7Xw/tT9I4XoUrkfBP6JFtvP91Lg/",
          "dtype": "f8"
         },
         "xaxis": "x24",
         "y": {
          "bdata": "1kX59gRGhj9lQxwF+B6SPzyqE1EpmHc/mxlScTMtlT8edZPXX7eZPxc8AQMYZpY/",
          "dtype": "f8"
         },
         "yaxis": "y24"
        },
        {
         "marker": {
          "color": "#002F6B"
         },
         "name": "business salaries change year-on-year",
         "type": "bar",
         "x": [
          "2018-01-01T00:00:00.000000000",
          "2019-01-01T00:00:00.000000000",
          "2020-01-01T00:00:00.000000000",
          "2021-01-01T00:00:00.000000000",
          "2022-01-01T00:00:00.000000000",
          "2023-01-01T00:00:00.000000000"
         ],
         "xaxis": "x25",
         "y": {
          "bdata": "sp3vp8ZLtz956SYxCKysP/yp8dJNYpC/YhBYObTItj9U46WbxCDAP3npJjEIrHw/",
          "dtype": "f8"
         },
         "yaxis": "y25",
         "zorder": 1
        },
        {
         "marker": {
          "color": "#002F6B"
         },
         "name": "business filled jobs change year-on-year",
         "type": "bar",
         "x": [
          "2018-01-01T00:00:00.000000000",
          "2019-01-01T00:00:00.000000000",
          "2020-01-01T00:00:00.000000000",
          "2021-01-01T00:00:00.000000000",
          "2022-01-01T00:00:00.000000000",
          "2023-01-01T00:00:00.000000000"
         ],
         "xaxis": "x26",
         "y": {
          "bdata": "Gy/dJAaBpT85tMh2vp+KP7pJDAIrh4Y/WDm0yHa+nz+cxCCwcmihPzm0yHa+n5o/",
          "dtype": "f8"
         },
         "yaxis": "y26",
         "zorder": 1
        },
        {
         "marker": {
          "color": "#002F6B"
         },
         "mode": "markers",
         "name": "business salaries change-business filled jobs change correlation",
         "type": "scatter",
         "x": {
          "bdata": "sp3vp8ZLtz956SYxCKysP/yp8dJNYpC/YhBYObTItj9U46WbxCDAP3npJjEIrHw/",
          "dtype": "f8"
         },
         "xaxis": "x27",
         "y": {
          "bdata": "Gy/dJAaBpT85tMh2vp+KP7pJDAIrh4Y/WDm0yHa+nz+cxCCwcmihPzm0yHa+n5o/",
          "dtype": "f8"
         },
         "yaxis": "y27",
         "zorder": 1
        },
        {
         "line": {
          "color": "#FAA61A",
          "dash": "solid"
         },
         "mode": "lines",
         "name": "Rental, Hiring and Real Estate Services Fit",
         "showlegend": false,
         "type": "scatter",
         "x": {
          "bdata": "sp3vp8ZLtz956SYxCKysP/yp8dJNYpC/YhBYObTItj9U46WbxCDAP3npJjEIrHw/",
          "dtype": "f8"
         },
         "xaxis": "x27",
         "y": {
          "bdata": "t7cr5eEIoD9Y1CZhflSaP6afm3D8C40/FKHfc869nz9CBcSZhOeiP9OUr5qDS5I/",
          "dtype": "f8"
         },
         "yaxis": "y27"
        },
        {
         "marker": {
          "color": "#002F6B"
         },
         "name": "business salaries change year-on-year",
         "type": "bar",
         "x": [
          "2018-01-01T00:00:00.000000000",
          "2019-01-01T00:00:00.000000000",
          "2020-01-01T00:00:00.000000000",
          "2021-01-01T00:00:00.000000000",
          "2022-01-01T00:00:00.000000000",
          "2023-01-01T00:00:00.000000000"
         ],
         "xaxis": "x28",
         "y": {
          "bdata": "ObTIdr6fqj8IrBxaZDuvP4lBYOXQIru/SgwCK4cWqT8rhxbZzvfDP1TjpZvEIMA/",
          "dtype": "f8"
         },
         "yaxis": "y28",
         "zorder": 1
        },
        {
         "marker": {
          "color": "#002F6B"
         },
         "name": "business filled jobs change year-on-year",
         "type": "bar",
         "x": [
          "2018-01-01T00:00:00.000000000",
          "2019-01-01T00:00:00.000000000",
          "2020-01-01T00:00:00.000000000",
          "2021-01-01T00:00:00.000000000",
          "2022-01-01T00:00:00.000000000",
          "2023-01-01T00:00:00.000000000"
         ],
         "xaxis": "x29",
         "y": {
          "bdata": "/Knx0k1ikD/LoUW28/2kP4ts5/up8aK/mpmZmZmZmb9YObTIdr6fP6RwPQrXo7A/",
          "dtype": "f8"
         },
         "yaxis": "y29",
         "zorder": 1
        },
        {
         "marker": {
          "color": "#002F6B"
         },
         "mode": "markers",
         "name": "business salaries change-business filled jobs change correlation",
         "type": "scatter",
         "x": {
          "bdata": "ObTIdr6fqj8IrBxaZDuvP4lBYOXQIru/SgwCK4cWqT8rhxbZzvfDP1TjpZvEIMA/",
          "dtype": "f8"
         },
         "xaxis": "x30",
         "y": {
          "bdata": "/Knx0k1ikD/LoUW28/2kP4ts5/up8aK/mpmZmZmZmb9YObTIdr6fP6RwPQrXo7A/",
          "dtype": "f8"
         },
         "yaxis": "y30",
         "zorder": 1
        },
        {
         "line": {
          "color": "#FAA61A",
          "dash": "solid"
         },
         "mode": "lines",
         "name": "Transport, Postal and Warehousing Fit",
         "showlegend": false,
         "type": "scatter",
         "x": {
          "bdata": "ObTIdr6fqj8IrBxaZDuvP4lBYOXQIru/SgwCK4cWqT8rhxbZzvfDP1TjpZvEIMA/",
          "dtype": "f8"
         },
         "xaxis": "x30",
         "y": {
          "bdata": "NGIU3jAQjD+iGy0iICWRP3BH5uwaUKS/3MWnZtb8iT/yuIdCHAGpPxAy+Be60KM/",
          "dtype": "f8"
         },
         "yaxis": "y30"
        },
        {
         "marker": {
          "color": "#002F6B"
         },
         "name": "business salaries change year-on-year",
         "type": "bar",
         "x": [
          "2018-01-01T00:00:00.000000000",
          "2019-01-01T00:00:00.000000000",
          "2020-01-01T00:00:00.000000000",
          "2021-01-01T00:00:00.000000000",
          "2022-01-01T00:00:00.000000000",
          "2023-01-01T00:00:00.000000000"
         ],
         "xaxis": "x31",
         "y": {
          "bdata": "eekmMQisrD+q8dJNYhCoP/p+arx0k3g/CtejcD0Ktz9KDAIrhxa5Pylcj8L1KKw/",
          "dtype": "f8"
         },
         "yaxis": "y31",
         "zorder": 1
        },
        {
         "marker": {
          "color": "#002F6B"
         },
         "name": "business filled jobs change year-on-year",
         "type": "bar",
         "x": [
          "2018-01-01T00:00:00.000000000",
          "2019-01-01T00:00:00.000000000",
          "2020-01-01T00:00:00.000000000",
          "2021-01-01T00:00:00.000000000",
          "2022-01-01T00:00:00.000000000",
          "2023-01-01T00:00:00.000000000"
         ],
         "xaxis": "x32",
         "y": {
          "bdata": "WDm0yHa+nz956SYxCKx8P3npJjEIrHy/eekmMQisjD+4HoXrUbieP5zEILByaJE/",
          "dtype": "f8"
         },
         "yaxis": "y32",
         "zorder": 1
        },
        {
         "marker": {
          "color": "#002F6B"
         },
         "mode": "markers",
         "name": "business salaries change-business filled jobs change correlation",
         "type": "scatter",
         "x": {
          "bdata": "eekmMQisrD+q8dJNYhCoP/p+arx0k3g/CtejcD0Ktz9KDAIrhxa5Pylcj8L1KKw/",
          "dtype": "f8"
         },
         "xaxis": "x33",
         "y": {
          "bdata": "WDm0yHa+nz956SYxCKx8P3npJjEIrHy/eekmMQisjD+4HoXrUbieP5zEILByaJE/",
          "dtype": "f8"
         },
         "yaxis": "y33",
         "zorder": 1
        },
        {
         "line": {
          "color": "#FAA61A",
          "dash": "solid"
         },
         "mode": "lines",
         "name": "Wholesale Trade Fit",
         "showlegend": false,
         "type": "scatter",
         "x": {
          "bdata": "eekmMQisrD+q8dJNYhCoP/p+arx0k3g/CtejcD0Ktz9KDAIrhxa5Pylcj8L1KKw/",
          "dtype": "f8"
         },
         "xaxis": "x33",
         "y": {
          "bdata": "7Uws1y+kjT/0jNbgabKHP8vsDpnfEFu/FJFU2Y0Mmj9o5gjV5bCcP5k3P9gZ+4w/",
          "dtype": "f8"
         },
         "yaxis": "y33"
        }
       ],
       "layout": {
        "annotations": [
         {
          "font": {
           "size": 16
          },
          "showarrow": false,
          "text": "business salaries change year-on-year",
          "x": 0.14444444444444446,
          "xanchor": "center",
          "xref": "paper",
          "y": 0.9999999999999999,
          "yanchor": "bottom",
          "yref": "paper"
         },
         {
          "font": {
           "size": 16
          },
          "showarrow": false,
          "text": "business filled jobs change year-on-year",
          "x": 0.5,
          "xanchor": "center",
          "xref": "paper",
          "y": 0.9999999999999999,
          "yanchor": "bottom",
          "yref": "paper"
         },
         {
          "font": {
           "size": 16
          },
          "showarrow": false,
          "text": "business salaries change-business filled jobs change correlation",
          "x": 0.8555555555555556,
          "xanchor": "center",
          "xref": "paper",
          "y": 0.9999999999999999,
          "yanchor": "bottom",
          "yref": "paper"
         }
        ],
        "height": 5000,
        "showlegend": false,
        "template": {
         "data": {
          "bar": [
           {
            "error_x": {
             "color": "#2a3f5f"
            },
            "error_y": {
             "color": "#2a3f5f"
            },
            "marker": {
             "line": {
              "color": "#E5ECF6",
              "width": 0.5
             },
             "pattern": {
              "fillmode": "overlay",
              "size": 10,
              "solidity": 0.2
             }
            },
            "type": "bar"
           }
          ],
          "barpolar": [
           {
            "marker": {
             "line": {
              "color": "#E5ECF6",
              "width": 0.5
             },
             "pattern": {
              "fillmode": "overlay",
              "size": 10,
              "solidity": 0.2
             }
            },
            "type": "barpolar"
           }
          ],
          "carpet": [
           {
            "aaxis": {
             "endlinecolor": "#2a3f5f",
             "gridcolor": "white",
             "linecolor": "white",
             "minorgridcolor": "white",
             "startlinecolor": "#2a3f5f"
            },
            "baxis": {
             "endlinecolor": "#2a3f5f",
             "gridcolor": "white",
             "linecolor": "white",
             "minorgridcolor": "white",
             "startlinecolor": "#2a3f5f"
            },
            "type": "carpet"
           }
          ],
          "choropleth": [
           {
            "colorbar": {
             "outlinewidth": 0,
             "ticks": ""
            },
            "type": "choropleth"
           }
          ],
          "contour": [
           {
            "colorbar": {
             "outlinewidth": 0,
             "ticks": ""
            },
            "colorscale": [
             [
              0,
              "#0d0887"
             ],
             [
              0.1111111111111111,
              "#46039f"
             ],
             [
              0.2222222222222222,
              "#7201a8"
             ],
             [
              0.3333333333333333,
              "#9c179e"
             ],
             [
              0.4444444444444444,
              "#bd3786"
             ],
             [
              0.5555555555555556,
              "#d8576b"
             ],
             [
              0.6666666666666666,
              "#ed7953"
             ],
             [
              0.7777777777777778,
              "#fb9f3a"
             ],
             [
              0.8888888888888888,
              "#fdca26"
             ],
             [
              1,
              "#f0f921"
             ]
            ],
            "type": "contour"
           }
          ],
          "contourcarpet": [
           {
            "colorbar": {
             "outlinewidth": 0,
             "ticks": ""
            },
            "type": "contourcarpet"
           }
          ],
          "heatmap": [
           {
            "colorbar": {
             "outlinewidth": 0,
             "ticks": ""
            },
            "colorscale": [
             [
              0,
              "#0d0887"
             ],
             [
              0.1111111111111111,
              "#46039f"
             ],
             [
              0.2222222222222222,
              "#7201a8"
             ],
             [
              0.3333333333333333,
              "#9c179e"
             ],
             [
              0.4444444444444444,
              "#bd3786"
             ],
             [
              0.5555555555555556,
              "#d8576b"
             ],
             [
              0.6666666666666666,
              "#ed7953"
             ],
             [
              0.7777777777777778,
              "#fb9f3a"
             ],
             [
              0.8888888888888888,
              "#fdca26"
             ],
             [
              1,
              "#f0f921"
             ]
            ],
            "type": "heatmap"
           }
          ],
          "histogram": [
           {
            "marker": {
             "pattern": {
              "fillmode": "overlay",
              "size": 10,
              "solidity": 0.2
             }
            },
            "type": "histogram"
           }
          ],
          "histogram2d": [
           {
            "colorbar": {
             "outlinewidth": 0,
             "ticks": ""
            },
            "colorscale": [
             [
              0,
              "#0d0887"
             ],
             [
              0.1111111111111111,
              "#46039f"
             ],
             [
              0.2222222222222222,
              "#7201a8"
             ],
             [
              0.3333333333333333,
              "#9c179e"
             ],
             [
              0.4444444444444444,
              "#bd3786"
             ],
             [
              0.5555555555555556,
              "#d8576b"
             ],
             [
              0.6666666666666666,
              "#ed7953"
             ],
             [
              0.7777777777777778,
              "#fb9f3a"
             ],
             [
              0.8888888888888888,
              "#fdca26"
             ],
             [
              1,
              "#f0f921"
             ]
            ],
            "type": "histogram2d"
           }
          ],
          "histogram2dcontour": [
           {
            "colorbar": {
             "outlinewidth": 0,
             "ticks": ""
            },
            "colorscale": [
             [
              0,
              "#0d0887"
             ],
             [
              0.1111111111111111,
              "#46039f"
             ],
             [
              0.2222222222222222,
              "#7201a8"
             ],
             [
              0.3333333333333333,
              "#9c179e"
             ],
             [
              0.4444444444444444,
              "#bd3786"
             ],
             [
              0.5555555555555556,
              "#d8576b"
             ],
             [
              0.6666666666666666,
              "#ed7953"
             ],
             [
              0.7777777777777778,
              "#fb9f3a"
             ],
             [
              0.8888888888888888,
              "#fdca26"
             ],
             [
              1,
              "#f0f921"
             ]
            ],
            "type": "histogram2dcontour"
           }
          ],
          "mesh3d": [
           {
            "colorbar": {
             "outlinewidth": 0,
             "ticks": ""
            },
            "type": "mesh3d"
           }
          ],
          "parcoords": [
           {
            "line": {
             "colorbar": {
              "outlinewidth": 0,
              "ticks": ""
             }
            },
            "type": "parcoords"
           }
          ],
          "pie": [
           {
            "automargin": true,
            "type": "pie"
           }
          ],
          "scatter": [
           {
            "fillpattern": {
             "fillmode": "overlay",
             "size": 10,
             "solidity": 0.2
            },
            "type": "scatter"
           }
          ],
          "scatter3d": [
           {
            "line": {
             "colorbar": {
              "outlinewidth": 0,
              "ticks": ""
             }
            },
            "marker": {
             "colorbar": {
              "outlinewidth": 0,
              "ticks": ""
             }
            },
            "type": "scatter3d"
           }
          ],
          "scattercarpet": [
           {
            "marker": {
             "colorbar": {
              "outlinewidth": 0,
              "ticks": ""
             }
            },
            "type": "scattercarpet"
           }
          ],
          "scattergeo": [
           {
            "marker": {
             "colorbar": {
              "outlinewidth": 0,
              "ticks": ""
             }
            },
            "type": "scattergeo"
           }
          ],
          "scattergl": [
           {
            "marker": {
             "colorbar": {
              "outlinewidth": 0,
              "ticks": ""
             }
            },
            "type": "scattergl"
           }
          ],
          "scattermap": [
           {
            "marker": {
             "colorbar": {
              "outlinewidth": 0,
              "ticks": ""
             }
            },
            "type": "scattermap"
           }
          ],
          "scattermapbox": [
           {
            "marker": {
             "colorbar": {
              "outlinewidth": 0,
              "ticks": ""
             }
            },
            "type": "scattermapbox"
           }
          ],
          "scatterpolar": [
           {
            "marker": {
             "colorbar": {
              "outlinewidth": 0,
              "ticks": ""
             }
            },
            "type": "scatterpolar"
           }
          ],
          "scatterpolargl": [
           {
            "marker": {
             "colorbar": {
              "outlinewidth": 0,
              "ticks": ""
             }
            },
            "type": "scatterpolargl"
           }
          ],
          "scatterternary": [
           {
            "marker": {
             "colorbar": {
              "outlinewidth": 0,
              "ticks": ""
             }
            },
            "type": "scatterternary"
           }
          ],
          "surface": [
           {
            "colorbar": {
             "outlinewidth": 0,
             "ticks": ""
            },
            "colorscale": [
             [
              0,
              "#0d0887"
             ],
             [
              0.1111111111111111,
              "#46039f"
             ],
             [
              0.2222222222222222,
              "#7201a8"
             ],
             [
              0.3333333333333333,
              "#9c179e"
             ],
             [
              0.4444444444444444,
              "#bd3786"
             ],
             [
              0.5555555555555556,
              "#d8576b"
             ],
             [
              0.6666666666666666,
              "#ed7953"
             ],
             [
              0.7777777777777778,
              "#fb9f3a"
             ],
             [
              0.8888888888888888,
              "#fdca26"
             ],
             [
              1,
              "#f0f921"
             ]
            ],
            "type": "surface"
           }
          ],
          "table": [
           {
            "cells": {
             "fill": {
              "color": "#EBF0F8"
             },
             "line": {
              "color": "white"
             }
            },
            "header": {
             "fill": {
              "color": "#C8D4E3"
             },
             "line": {
              "color": "white"
             }
            },
            "type": "table"
           }
          ]
         },
         "layout": {
          "annotationdefaults": {
           "arrowcolor": "#2a3f5f",
           "arrowhead": 0,
           "arrowwidth": 1
          },
          "autotypenumbers": "strict",
          "coloraxis": {
           "colorbar": {
            "outlinewidth": 0,
            "ticks": ""
           }
          },
          "colorscale": {
           "diverging": [
            [
             0,
             "#8e0152"
            ],
            [
             0.1,
             "#c51b7d"
            ],
            [
             0.2,
             "#de77ae"
            ],
            [
             0.3,
             "#f1b6da"
            ],
            [
             0.4,
             "#fde0ef"
            ],
            [
             0.5,
             "#f7f7f7"
            ],
            [
             0.6,
             "#e6f5d0"
            ],
            [
             0.7,
             "#b8e186"
            ],
            [
             0.8,
             "#7fbc41"
            ],
            [
             0.9,
             "#4d9221"
            ],
            [
             1,
             "#276419"
            ]
           ],
           "sequential": [
            [
             0,
             "#0d0887"
            ],
            [
             0.1111111111111111,
             "#46039f"
            ],
            [
             0.2222222222222222,
             "#7201a8"
            ],
            [
             0.3333333333333333,
             "#9c179e"
            ],
            [
             0.4444444444444444,
             "#bd3786"
            ],
            [
             0.5555555555555556,
             "#d8576b"
            ],
            [
             0.6666666666666666,
             "#ed7953"
            ],
            [
             0.7777777777777778,
             "#fb9f3a"
            ],
            [
             0.8888888888888888,
             "#fdca26"
            ],
            [
             1,
             "#f0f921"
            ]
           ],
           "sequentialminus": [
            [
             0,
             "#0d0887"
            ],
            [
             0.1111111111111111,
             "#46039f"
            ],
            [
             0.2222222222222222,
             "#7201a8"
            ],
            [
             0.3333333333333333,
             "#9c179e"
            ],
            [
             0.4444444444444444,
             "#bd3786"
            ],
            [
             0.5555555555555556,
             "#d8576b"
            ],
            [
             0.6666666666666666,
             "#ed7953"
            ],
            [
             0.7777777777777778,
             "#fb9f3a"
            ],
            [
             0.8888888888888888,
             "#fdca26"
            ],
            [
             1,
             "#f0f921"
            ]
           ]
          },
          "colorway": [
           "#636efa",
           "#EF553B",
           "#00cc96",
           "#ab63fa",
           "#FFA15A",
           "#19d3f3",
           "#FF6692",
           "#B6E880",
           "#FF97FF",
           "#FECB52"
          ],
          "font": {
           "color": "#2a3f5f"
          },
          "geo": {
           "bgcolor": "white",
           "lakecolor": "white",
           "landcolor": "#E5ECF6",
           "showlakes": true,
           "showland": true,
           "subunitcolor": "white"
          },
          "hoverlabel": {
           "align": "left"
          },
          "hovermode": "closest",
          "mapbox": {
           "style": "light"
          },
          "paper_bgcolor": "white",
          "plot_bgcolor": "#E5ECF6",
          "polar": {
           "angularaxis": {
            "gridcolor": "white",
            "linecolor": "white",
            "ticks": ""
           },
           "bgcolor": "#E5ECF6",
           "radialaxis": {
            "gridcolor": "white",
            "linecolor": "white",
            "ticks": ""
           }
          },
          "scene": {
           "xaxis": {
            "backgroundcolor": "#E5ECF6",
            "gridcolor": "white",
            "gridwidth": 2,
            "linecolor": "white",
            "showbackground": true,
            "ticks": "",
            "zerolinecolor": "white"
           },
           "yaxis": {
            "backgroundcolor": "#E5ECF6",
            "gridcolor": "white",
            "gridwidth": 2,
            "linecolor": "white",
            "showbackground": true,
            "ticks": "",
            "zerolinecolor": "white"
           },
           "zaxis": {
            "backgroundcolor": "#E5ECF6",
            "gridcolor": "white",
            "gridwidth": 2,
            "linecolor": "white",
            "showbackground": true,
            "ticks": "",
            "zerolinecolor": "white"
           }
          },
          "shapedefaults": {
           "line": {
            "color": "#2a3f5f"
           }
          },
          "ternary": {
           "aaxis": {
            "gridcolor": "white",
            "linecolor": "white",
            "ticks": ""
           },
           "baxis": {
            "gridcolor": "white",
            "linecolor": "white",
            "ticks": ""
           },
           "bgcolor": "#E5ECF6",
           "caxis": {
            "gridcolor": "white",
            "linecolor": "white",
            "ticks": ""
           }
          },
          "title": {
           "x": 0.05
          },
          "xaxis": {
           "automargin": true,
           "gridcolor": "white",
           "linecolor": "white",
           "ticks": "",
           "title": {
            "standoff": 15
           },
           "zerolinecolor": "white",
           "zerolinewidth": 2
          },
          "yaxis": {
           "automargin": true,
           "gridcolor": "white",
           "linecolor": "white",
           "ticks": "",
           "title": {
            "standoff": 15
           },
           "zerolinecolor": "white",
           "zerolinewidth": 2
          }
         }
        },
        "xaxis": {
         "anchor": "y",
         "domain": [
          0,
          0.2888888888888889
         ],
         "title": {
          "text": "year"
         }
        },
        "xaxis10": {
         "anchor": "y10",
         "domain": [
          0,
          0.2888888888888889
         ],
         "title": {
          "text": "year"
         }
        },
        "xaxis11": {
         "anchor": "y11",
         "domain": [
          0.35555555555555557,
          0.6444444444444445
         ],
         "title": {
          "text": "year"
         }
        },
        "xaxis12": {
         "anchor": "y12",
         "domain": [
          0.7111111111111111,
          1
         ],
         "title": {
          "text": "business salaries change year-on-year"
         }
        },
        "xaxis13": {
         "anchor": "y13",
         "domain": [
          0,
          0.2888888888888889
         ],
         "title": {
          "text": "year"
         }
        },
        "xaxis14": {
         "anchor": "y14",
         "domain": [
          0.35555555555555557,
          0.6444444444444445
         ],
         "title": {
          "text": "year"
         }
        },
        "xaxis15": {
         "anchor": "y15",
         "domain": [
          0.7111111111111111,
          1
         ],
         "title": {
          "text": "business salaries change year-on-year"
         }
        },
        "xaxis16": {
         "anchor": "y16",
         "domain": [
          0,
          0.2888888888888889
         ],
         "title": {
          "text": "year"
         }
        },
        "xaxis17": {
         "anchor": "y17",
         "domain": [
          0.35555555555555557,
          0.6444444444444445
         ],
         "title": {
          "text": "year"
         }
        },
        "xaxis18": {
         "anchor": "y18",
         "domain": [
          0.7111111111111111,
          1
         ],
         "title": {
          "text": "business salaries change year-on-year"
         }
        },
        "xaxis19": {
         "anchor": "y19",
         "domain": [
          0,
          0.2888888888888889
         ],
         "title": {
          "text": "year"
         }
        },
        "xaxis2": {
         "anchor": "y2",
         "domain": [
          0.35555555555555557,
          0.6444444444444445
         ],
         "title": {
          "text": "year"
         }
        },
        "xaxis20": {
         "anchor": "y20",
         "domain": [
          0.35555555555555557,
          0.6444444444444445
         ],
         "title": {
          "text": "year"
         }
        },
        "xaxis21": {
         "anchor": "y21",
         "domain": [
          0.7111111111111111,
          1
         ],
         "title": {
          "text": "business salaries change year-on-year"
         }
        },
        "xaxis22": {
         "anchor": "y22",
         "domain": [
          0,
          0.2888888888888889
         ],
         "title": {
          "text": "year"
         }
        },
        "xaxis23": {
         "anchor": "y23",
         "domain": [
          0.35555555555555557,
          0.6444444444444445
         ],
         "title": {
          "text": "year"
         }
        },
        "xaxis24": {
         "anchor": "y24",
         "domain": [
          0.7111111111111111,
          1
         ],
         "title": {
          "text": "business salaries change year-on-year"
         }
        },
        "xaxis25": {
         "anchor": "y25",
         "domain": [
          0,
          0.2888888888888889
         ],
         "title": {
          "text": "year"
         }
        },
        "xaxis26": {
         "anchor": "y26",
         "domain": [
          0.35555555555555557,
          0.6444444444444445
         ],
         "title": {
          "text": "year"
         }
        },
        "xaxis27": {
         "anchor": "y27",
         "domain": [
          0.7111111111111111,
          1
         ],
         "title": {
          "text": "business salaries change year-on-year"
         }
        },
        "xaxis28": {
         "anchor": "y28",
         "domain": [
          0,
          0.2888888888888889
         ],
         "title": {
          "text": "year"
         }
        },
        "xaxis29": {
         "anchor": "y29",
         "domain": [
          0.35555555555555557,
          0.6444444444444445
         ],
         "title": {
          "text": "year"
         }
        },
        "xaxis3": {
         "anchor": "y3",
         "domain": [
          0.7111111111111111,
          1
         ],
         "title": {
          "text": "business salaries change year-on-year"
         }
        },
        "xaxis30": {
         "anchor": "y30",
         "domain": [
          0.7111111111111111,
          1
         ],
         "title": {
          "text": "business salaries change year-on-year"
         }
        },
        "xaxis31": {
         "anchor": "y31",
         "domain": [
          0,
          0.2888888888888889
         ],
         "title": {
          "text": "year"
         }
        },
        "xaxis32": {
         "anchor": "y32",
         "domain": [
          0.35555555555555557,
          0.6444444444444445
         ],
         "title": {
          "text": "year"
         }
        },
        "xaxis33": {
         "anchor": "y33",
         "domain": [
          0.7111111111111111,
          1
         ],
         "title": {
          "text": "business salaries change year-on-year"
         }
        },
        "xaxis4": {
         "anchor": "y4",
         "domain": [
          0,
          0.2888888888888889
         ],
         "title": {
          "text": "year"
         }
        },
        "xaxis5": {
         "anchor": "y5",
         "domain": [
          0.35555555555555557,
          0.6444444444444445
         ],
         "title": {
          "text": "year"
         }
        },
        "xaxis6": {
         "anchor": "y6",
         "domain": [
          0.7111111111111111,
          1
         ],
         "title": {
          "text": "business salaries change year-on-year"
         }
        },
        "xaxis7": {
         "anchor": "y7",
         "domain": [
          0,
          0.2888888888888889
         ],
         "title": {
          "text": "year"
         }
        },
        "xaxis8": {
         "anchor": "y8",
         "domain": [
          0.35555555555555557,
          0.6444444444444445
         ],
         "title": {
          "text": "year"
         }
        },
        "xaxis9": {
         "anchor": "y9",
         "domain": [
          0.7111111111111111,
          1
         ],
         "title": {
          "text": "business salaries change year-on-year"
         }
        },
        "yaxis": {
         "anchor": "x",
         "domain": [
          0.9504132231404958,
          0.9999999999999999
         ],
         "title": {
          "font": {
           "size": 12
          },
          "text": "Agriculture, Forestry and Fishing"
         }
        },
        "yaxis10": {
         "anchor": "x10",
         "domain": [
          0.665289256198347,
          0.7148760330578511
         ],
         "title": {
          "font": {
           "size": 12
          },
          "text": "Electricity, Gas, Water and Waste Services"
         }
        },
        "yaxis11": {
         "anchor": "x11",
         "domain": [
          0.665289256198347,
          0.7148760330578511
         ],
         "title": {
          "font": {
           "size": 12
          }
         }
        },
        "yaxis12": {
         "anchor": "x12",
         "domain": [
          0.665289256198347,
          0.7148760330578511
         ],
         "title": {
          "font": {
           "size": 12
          },
          "text": "business filled jobs change year-on-year"
         }
        },
        "yaxis13": {
         "anchor": "x13",
         "domain": [
          0.5702479338842974,
          0.6198347107438015
         ],
         "title": {
          "font": {
           "size": 12
          },
          "text": "Health Care and Social Assistance"
         }
        },
        "yaxis14": {
         "anchor": "x14",
         "domain": [
          0.5702479338842974,
          0.6198347107438015
         ],
         "title": {
          "font": {
           "size": 12
          }
         }
        },
        "yaxis15": {
         "anchor": "x15",
         "domain": [
          0.5702479338842974,
          0.6198347107438015
         ],
         "title": {
          "font": {
           "size": 12
          },
          "text": "business filled jobs change year-on-year"
         }
        },
        "yaxis16": {
         "anchor": "x16",
         "domain": [
          0.4752066115702479,
          0.524793388429752
         ],
         "title": {
          "font": {
           "size": 12
          },
          "text": "Information Media and Telecommunications"
         }
        },
        "yaxis17": {
         "anchor": "x17",
         "domain": [
          0.4752066115702479,
          0.524793388429752
         ],
         "title": {
          "font": {
           "size": 12
          }
         }
        },
        "yaxis18": {
         "anchor": "x18",
         "domain": [
          0.4752066115702479,
          0.524793388429752
         ],
         "title": {
          "font": {
           "size": 12
          },
          "text": "business filled jobs change year-on-year"
         }
        },
        "yaxis19": {
         "anchor": "x19",
         "domain": [
          0.3801652892561983,
          0.42975206611570244
         ],
         "title": {
          "font": {
           "size": 12
          },
          "text": "Manufacturing"
         }
        },
        "yaxis2": {
         "anchor": "x2",
         "domain": [
          0.9504132231404958,
          0.9999999999999999
         ],
         "title": {
          "font": {
           "size": 12
          }
         }
        },
        "yaxis20": {
         "anchor": "x20",
         "domain": [
          0.3801652892561983,
          0.42975206611570244
         ],
         "title": {
          "font": {
           "size": 12
          }
         }
        },
        "yaxis21": {
         "anchor": "x21",
         "domain": [
          0.3801652892561983,
          0.42975206611570244
         ],
         "title": {
          "font": {
           "size": 12
          },
          "text": "business filled jobs change year-on-year"
         }
        },
        "yaxis22": {
         "anchor": "x22",
         "domain": [
          0.2851239669421487,
          0.33471074380165283
         ],
         "title": {
          "font": {
           "size": 12
          },
          "text": "Mining"
         }
        },
        "yaxis23": {
         "anchor": "x23",
         "domain": [
          0.2851239669421487,
          0.33471074380165283
         ],
         "title": {
          "font": {
           "size": 12
          }
         }
        },
        "yaxis24": {
         "anchor": "x24",
         "domain": [
          0.2851239669421487,
          0.33471074380165283
         ],
         "title": {
          "font": {
           "size": 12
          },
          "text": "business filled jobs change year-on-year"
         }
        },
        "yaxis25": {
         "anchor": "x25",
         "domain": [
          0.19008264462809915,
          0.23966942148760328
         ],
         "title": {
          "font": {
           "size": 12
          },
          "text": "Rental, Hiring and Real Estate Services"
         }
        },
        "yaxis26": {
         "anchor": "x26",
         "domain": [
          0.19008264462809915,
          0.23966942148760328
         ],
         "title": {
          "font": {
           "size": 12
          }
         }
        },
        "yaxis27": {
         "anchor": "x27",
         "domain": [
          0.19008264462809915,
          0.23966942148760328
         ],
         "title": {
          "font": {
           "size": 12
          },
          "text": "business filled jobs change year-on-year"
         }
        },
        "yaxis28": {
         "anchor": "x28",
         "domain": [
          0.09504132231404958,
          0.1446280991735537
         ],
         "title": {
          "font": {
           "size": 12
          },
          "text": "Transport, Postal and Warehousing"
         }
        },
        "yaxis29": {
         "anchor": "x29",
         "domain": [
          0.09504132231404958,
          0.1446280991735537
         ],
         "title": {
          "font": {
           "size": 12
          }
         }
        },
        "yaxis3": {
         "anchor": "x3",
         "domain": [
          0.9504132231404958,
          0.9999999999999999
         ],
         "title": {
          "font": {
           "size": 12
          },
          "text": "business filled jobs change year-on-year"
         }
        },
        "yaxis30": {
         "anchor": "x30",
         "domain": [
          0.09504132231404958,
          0.1446280991735537
         ],
         "title": {
          "font": {
           "size": 12
          },
          "text": "business filled jobs change year-on-year"
         }
        },
        "yaxis31": {
         "anchor": "x31",
         "domain": [
          0,
          0.04958677685950413
         ],
         "title": {
          "font": {
           "size": 12
          },
          "text": "Wholesale Trade"
         }
        },
        "yaxis32": {
         "anchor": "x32",
         "domain": [
          0,
          0.04958677685950413
         ],
         "title": {
          "font": {
           "size": 12
          }
         }
        },
        "yaxis33": {
         "anchor": "x33",
         "domain": [
          0,
          0.04958677685950413
         ],
         "title": {
          "font": {
           "size": 12
          },
          "text": "business filled jobs change year-on-year"
         }
        },
        "yaxis4": {
         "anchor": "x4",
         "domain": [
          0.8553719008264462,
          0.9049586776859503
         ],
         "title": {
          "font": {
           "size": 12
          },
          "text": "Construction"
         }
        },
        "yaxis5": {
         "anchor": "x5",
         "domain": [
          0.8553719008264462,
          0.9049586776859503
         ],
         "title": {
          "font": {
           "size": 12
          }
         }
        },
        "yaxis6": {
         "anchor": "x6",
         "domain": [
          0.8553719008264462,
          0.9049586776859503
         ],
         "title": {
          "font": {
           "size": 12
          },
          "text": "business filled jobs change year-on-year"
         }
        },
        "yaxis7": {
         "anchor": "x7",
         "domain": [
          0.7603305785123966,
          0.8099173553719007
         ],
         "title": {
          "font": {
           "size": 12
          },
          "text": "Education and Training"
         }
        },
        "yaxis8": {
         "anchor": "x8",
         "domain": [
          0.7603305785123966,
          0.8099173553719007
         ],
         "title": {
          "font": {
           "size": 12
          }
         }
        },
        "yaxis9": {
         "anchor": "x9",
         "domain": [
          0.7603305785123966,
          0.8099173553719007
         ],
         "title": {
          "font": {
           "size": 12
          },
          "text": "business filled jobs change year-on-year"
         }
        }
       }
      }
     },
     "metadata": {},
     "output_type": "display_data"
    }
   ],
   "source": [
    "explore_correlations(df_bus_metric_corr, 'industry', 'year_time', 'year', 'salaries_yearly_change', 'business salaries change', 'filled_jobs_yearly_change', 'business filled jobs change')"
   ]
  },
  {
   "cell_type": "markdown",
   "id": "17e9b887",
   "metadata": {},
   "source": [
    "![profits-jobs](./assets/jobs_salaries.png)"
   ]
  },
  {
   "cell_type": "markdown",
   "id": "0f900d59",
   "metadata": {},
   "source": [
    "### Conclusion for Q5:\n",
    "\n",
    "Here are some key gists from the plots generated:\n",
    "- **Agriculture, forestry and fishing**, **Mining**, and **Transport, postal and warehousing** industry show strong positive correlation between profit and and expenditure, which could indicate strong inclination to re-invest profits into upgrading equipment and infrastructure.\n",
    "- **Wholesale trade** sees negative correlation between profit and and expenditure, which is especially pronounced during COVID time, indicating the soar of cost of goods and transport during that time\n",
    "- It is interesting to see that increase rate of business profits do not necessarily correlated with the change rate of filled jobs. Especially in **Health care** and **Manufacturing** sectors. Reason for health care could be that COVID drives high demand of professional and support personnels albeit shrinking profit. For manufactuing it could be that with increased productivity and level of automation, more profits can be generated with the same amount of employees.\n",
    "- **Agriculture, forestry and fishing** seems to be the only industry where filled jobs and salaries correlated negatively. **Wholesale trade** and **Transport, postal and warehousing** shows strong positive correlation between filled jobs and salaries, indicating these industries tend to be human labour heavy."
   ]
  }
 ],
 "metadata": {
  "kernelspec": {
   "display_name": "data_eng",
   "language": "python",
   "name": "python3"
  },
  "language_info": {
   "codemirror_mode": {
    "name": "ipython",
    "version": 3
   },
   "file_extension": ".py",
   "mimetype": "text/x-python",
   "name": "python",
   "nbconvert_exporter": "python",
   "pygments_lexer": "ipython3",
   "version": "3.9.7"
  }
 },
 "nbformat": 4,
 "nbformat_minor": 5
}
